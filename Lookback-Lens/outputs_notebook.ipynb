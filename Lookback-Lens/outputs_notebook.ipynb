{
 "cells": [
  {
   "cell_type": "code",
   "execution_count": 22,
   "metadata": {},
   "outputs": [],
   "source": [
    "import torch\n",
    "import json"
   ]
  },
  {
   "cell_type": "markdown",
   "metadata": {},
   "source": [
    "*lookback-ratio-nq-7b.pt* - zawiera lookback ratios czyli stosunek atencji na kontekscie do atencji na kontekscie plus już wygenerowanej odpowiedzi"
   ]
  },
  {
   "cell_type": "code",
   "execution_count": 23,
   "metadata": {},
   "outputs": [],
   "source": [
    "lookback = torch.load(\"lookback-ratio-nq-7b.pt\")"
   ]
  },
  {
   "cell_type": "code",
   "execution_count": 24,
   "metadata": {},
   "outputs": [
    {
     "data": {
      "text/plain": [
       "{'data_index': 0,\n",
       " 'model_completion': 'Wilhelm Conrad Röntgen of Germany received the first Nobel Prize in Physics in 1901.',\n",
       " 'model_completion_ids': array([10756,  1281,  3665, 25541,   593,  1885,   310,  9556,  4520,\n",
       "          278,   937, 27813, 20604,   297, 29837,   297, 29871, 29896,\n",
       "        29929, 29900, 29896, 29889,     2]),\n",
       " 'full_input_text': 'Answer the question based on the information in the document.\\n\\n#Document#: receive a diploma, a medal and a document confirming the prize amount. Nobel Prize in Physics The Nobel Prize in Physics () is a yearly award given by the Royal Swedish Academy of Sciences for those who have made the most outstanding contributions for mankind in the field of physics. It is one of the five Nobel Prizes established by the will of Alfred Nobel in 1895 and awarded since 1901; the others being the Nobel Prize in Chemistry, Nobel Prize in Literature, Nobel Peace Prize, and Nobel Prize in Physiology or Medicine. The first Nobel Prize in Physics was\\nThe first Nobel Prize in Physics was awarded in 1901 to Wilhelm Conrad Röntgen, of Germany, who received 150,782 SEK, which is equal to 7,731,004 SEK in December 2007.  John Bardeen is the only laureate to win the prize twice—in 1956 and 1972. Maria Skłodowska-Curie also won two Nobel Prizes, for physics in 1903 and chemistry in 1911. William Lawrence Bragg was, until October 2014, the youngest ever Nobel laureate; he won the prize in 1915 at the age of 25. Two women have won the prize: Curie and Maria Goeppert-Mayer (1963). As of 2017, the prize has been awarded\\nscience, Ernest Lawrence won the Nobel Prize in Physics in 1939. Lars Onsager won the 1968 Nobel Prize in Chemistry. Norman Borlaug, father of the Green Revolution, won the Nobel Peace Prize in 1970. Christian B. Anfinsen won the Nobel Prize for chemistry in 1972. Ivar Giaever won the Nobel Prize in Physics 1973. Carl Richard Hagen is noted for his work in physics. In engineering, Clayton Jacobson II is credited with the invention of the modern personal watercraft. Ole Singstad was a pioneer of underwater tunnels. Ole Evinrude invented the first outboard motor with practical commercial application, recognizable today\\n#Question#: Who got the first nobel prize in physics?\\n#Answer#:',\n",
       " 'attn_scores': tensor([[[2.8362e-03, 4.2944e-01, 2.8833e-01,  ..., 2.9614e-01,\n",
       "           2.4231e-01, 2.8702e-02],\n",
       "          [3.7842e-01, 5.5762e-01, 4.7510e-01,  ..., 3.7427e-01,\n",
       "           3.7354e-01, 3.0591e-01],\n",
       "          [5.2832e-01, 4.4165e-01, 4.9780e-01,  ..., 4.7437e-01,\n",
       "           4.7314e-01, 4.6411e-01],\n",
       "          ...,\n",
       "          [2.7176e-02, 4.1504e-02, 2.8442e-02,  ..., 4.9072e-02,\n",
       "           6.1188e-02, 5.5725e-02],\n",
       "          [4.6875e-01, 5.3125e-01, 4.8438e-01,  ..., 6.4697e-01,\n",
       "           6.5430e-01, 5.9863e-01],\n",
       "          [2.5146e-01, 2.8638e-01, 2.7148e-01,  ..., 4.1602e-01,\n",
       "           4.0186e-01, 3.8965e-01]],\n",
       " \n",
       "         [[4.4751e-04, 3.6499e-01, 1.0767e-01,  ..., 3.3905e-02,\n",
       "           6.4026e-02, 4.5776e-03],\n",
       "          [1.1383e-01, 4.3549e-02, 3.5431e-02,  ..., 7.0984e-02,\n",
       "           5.9631e-02, 1.7639e-01],\n",
       "          [8.4534e-03, 8.5983e-03, 8.1253e-03,  ..., 1.3550e-02,\n",
       "           1.4107e-02, 1.1803e-02],\n",
       "          ...,\n",
       "          [4.7089e-02, 3.7079e-02, 5.1239e-02,  ..., 1.1346e-01,\n",
       "           1.1707e-01, 1.0565e-01],\n",
       "          [3.8116e-02, 6.1279e-02, 3.8818e-02,  ..., 7.5317e-02,\n",
       "           7.8613e-02, 4.7577e-02],\n",
       "          [3.7628e-02, 3.6377e-02, 3.6011e-02,  ..., 7.0862e-02,\n",
       "           6.6956e-02, 7.3608e-02]],\n",
       " \n",
       "         [[9.8450e-02, 2.1619e-01, 1.2854e-01,  ..., 3.6792e-01,\n",
       "           4.9585e-01, 6.0986e-01],\n",
       "          [2.1460e-01, 2.8516e-01, 2.6636e-01,  ..., 4.7852e-01,\n",
       "           5.3809e-01, 4.4458e-01],\n",
       "          [1.8173e-02, 2.5562e-01, 1.4917e-01,  ..., 8.8348e-03,\n",
       "           1.6317e-03, 3.6621e-01],\n",
       "          ...,\n",
       "          [9.8755e-02, 9.6741e-02, 1.0175e-01,  ..., 1.9397e-01,\n",
       "           2.0264e-01, 2.1790e-01],\n",
       "          [8.5144e-02, 7.8613e-02, 4.2603e-02,  ..., 4.1406e-01,\n",
       "           4.9365e-01, 2.5684e-01],\n",
       "          [5.2460e-02, 2.6392e-01, 1.5674e-01,  ..., 1.4429e-01,\n",
       "           1.8616e-01, 4.3018e-01]],\n",
       " \n",
       "         ...,\n",
       " \n",
       "         [[3.8672e-01, 6.6956e-02, 3.4717e-01,  ..., 3.3105e-01,\n",
       "           3.3203e-01, 5.3223e-01],\n",
       "          [4.0894e-01, 7.0410e-01, 3.7378e-01,  ..., 2.8366e-02,\n",
       "           1.6052e-01, 4.4507e-01],\n",
       "          [2.2754e-01, 1.4136e-01, 5.4199e-01,  ..., 6.2451e-01,\n",
       "           2.2791e-01, 1.5674e-01],\n",
       "          ...,\n",
       "          [4.0283e-01, 1.2561e-01, 1.9684e-02,  ..., 1.2415e-01,\n",
       "           2.7197e-01, 5.6885e-01],\n",
       "          [2.3352e-01, 3.1836e-01, 2.4280e-01,  ..., 1.1707e-01,\n",
       "           6.7993e-02, 5.9143e-02],\n",
       "          [3.5327e-01, 2.6099e-01, 9.3628e-02,  ..., 4.9561e-01,\n",
       "           2.3181e-01, 1.9348e-01]],\n",
       " \n",
       "         [[3.7646e-01, 5.2002e-01, 6.6797e-01,  ..., 3.9258e-01,\n",
       "           4.2554e-01, 4.2261e-01],\n",
       "          [4.4019e-01, 1.5137e-01, 3.7500e-01,  ..., 3.8989e-01,\n",
       "           1.1823e-01, 1.6052e-01],\n",
       "          [1.5976e-02, 6.4880e-02, 1.8152e-01,  ..., 6.2744e-02,\n",
       "           7.2632e-02, 1.2573e-01],\n",
       "          ...,\n",
       "          [5.7520e-01, 2.3132e-01, 4.1626e-01,  ..., 7.2607e-01,\n",
       "           3.6914e-01, 5.4736e-01],\n",
       "          [3.6133e-01, 2.6636e-01, 2.4634e-01,  ..., 5.0293e-01,\n",
       "           5.5615e-01, 5.0098e-01],\n",
       "          [5.0964e-03, 2.7734e-01, 7.3047e-01,  ..., 1.8384e-01,\n",
       "           1.0413e-01, 6.8626e-03]],\n",
       " \n",
       "         [[8.0078e-02, 1.4233e-01, 4.7607e-01,  ..., 4.4250e-02,\n",
       "           5.7495e-02, 4.7852e-02],\n",
       "          [3.3789e-01, 1.9177e-01, 1.8173e-02,  ..., 7.6477e-02,\n",
       "           1.0931e-01, 1.2659e-01],\n",
       "          [1.1719e-01, 2.0401e-02, 5.1544e-02,  ..., 3.5187e-02,\n",
       "           6.7078e-02, 2.0837e-01],\n",
       "          ...,\n",
       "          [1.7737e-01, 1.6492e-01, 1.9568e-01,  ..., 1.5369e-01,\n",
       "           1.6028e-01, 2.5854e-01],\n",
       "          [1.1499e-01, 1.2488e-01, 4.8340e-01,  ..., 2.5854e-01,\n",
       "           1.4246e-01, 9.4299e-02],\n",
       "          [6.7596e-03, 2.2400e-02, 2.2021e-01,  ..., 4.2038e-03,\n",
       "           9.5459e-02, 4.9591e-02]]]),\n",
       " 'attn_scores_on_sink': tensor([[[1.3912e-04, 1.5405e-01, 9.7717e-02,  ..., 2.0459e-01,\n",
       "           1.8140e-01, 4.8752e-03],\n",
       "          [1.8787e-01, 2.3169e-01, 2.8271e-01,  ..., 2.1655e-01,\n",
       "           2.2290e-01, 1.3281e-01],\n",
       "          [3.6035e-01, 2.8052e-01, 3.3325e-01,  ..., 3.2471e-01,\n",
       "           3.2373e-01, 3.4399e-01],\n",
       "          ...,\n",
       "          [9.0561e-03, 6.0654e-03, 3.8853e-03,  ..., 1.8967e-02,\n",
       "           3.0823e-02, 1.7151e-02],\n",
       "          [1.6125e-01, 1.9531e-01, 1.8091e-01,  ..., 4.7559e-01,\n",
       "           4.4067e-01, 4.2993e-01],\n",
       "          [1.3428e-01, 1.9287e-01, 1.4209e-01,  ..., 2.3633e-01,\n",
       "           2.4609e-01, 2.1179e-01]],\n",
       " \n",
       "         [[2.0485e-03, 6.0840e-01, 3.2568e-01,  ..., 2.1875e-01,\n",
       "           3.4009e-01, 5.3925e-02],\n",
       "          [1.8701e-01, 8.4412e-02, 6.4270e-02,  ..., 1.6321e-01,\n",
       "           1.2427e-01, 2.7222e-01],\n",
       "          [1.3382e-02, 1.1795e-02, 7.7820e-03,  ..., 2.7100e-02,\n",
       "           2.8580e-02, 2.4536e-02],\n",
       "          ...,\n",
       "          [1.3135e-01, 9.8145e-02, 1.3220e-01,  ..., 4.2041e-01,\n",
       "           4.3994e-01, 3.5327e-01],\n",
       "          [7.0312e-02, 1.5955e-01, 5.2551e-02,  ..., 1.4771e-01,\n",
       "           1.5442e-01, 5.0781e-02],\n",
       "          [1.2457e-01, 1.1993e-01, 1.2292e-01,  ..., 2.9272e-01,\n",
       "           2.9395e-01, 2.7246e-01]],\n",
       " \n",
       "         [[7.9346e-01, 8.9697e-01, 8.3594e-01,  ..., 9.3750e-01,\n",
       "           9.5508e-01, 9.6387e-01],\n",
       "          [9.0234e-01, 9.2822e-01, 9.2285e-01,  ..., 9.6094e-01,\n",
       "           9.6631e-01, 9.5654e-01],\n",
       "          [4.0234e-01, 9.1016e-01, 8.5352e-01,  ..., 2.2571e-01,\n",
       "           5.6305e-02, 9.3799e-01],\n",
       "          ...,\n",
       "          [7.9980e-01, 7.9785e-01, 8.0664e-01,  ..., 8.9062e-01,\n",
       "           8.9355e-01, 9.0137e-01],\n",
       "          [7.7588e-01, 7.6514e-01, 6.3525e-01,  ..., 9.4678e-01,\n",
       "           9.5654e-01, 9.1650e-01],\n",
       "          [6.6748e-01, 9.1699e-01, 8.6475e-01,  ..., 8.4424e-01,\n",
       "           8.7695e-01, 9.4678e-01]],\n",
       " \n",
       "         ...,\n",
       " \n",
       "         [[9.7266e-01, 8.0078e-01, 9.6875e-01,  ..., 9.6387e-01,\n",
       "           9.6826e-01, 9.8193e-01],\n",
       "          [9.7510e-01, 9.8926e-01, 9.7070e-01,  ..., 4.8242e-01,\n",
       "           9.1602e-01, 9.7656e-01],\n",
       "          [8.2422e-01, 8.6621e-01, 9.7949e-01,  ..., 9.8535e-01,\n",
       "           8.7061e-01, 8.2324e-01],\n",
       "          ...,\n",
       "          [9.7461e-01, 9.0771e-01, 5.5078e-01,  ..., 9.0332e-01,\n",
       "           9.5801e-01, 9.8340e-01],\n",
       "          [8.9014e-01, 9.3262e-01, 9.3164e-01,  ..., 8.2324e-01,\n",
       "           3.8525e-01, 4.9463e-01],\n",
       "          [9.6289e-01, 9.4922e-01, 8.7500e-01,  ..., 9.7949e-01,\n",
       "           9.3848e-01, 9.0723e-01]],\n",
       " \n",
       "         [[9.7412e-01, 9.8242e-01, 9.8877e-01,  ..., 9.7266e-01,\n",
       "           9.7461e-01, 9.7461e-01],\n",
       "          [9.6143e-01, 9.0234e-01, 9.6826e-01,  ..., 9.7021e-01,\n",
       "           8.4961e-01, 8.8232e-01],\n",
       "          [5.0098e-01, 8.1836e-01, 9.3994e-01,  ..., 8.2764e-01,\n",
       "           8.4473e-01, 9.1016e-01],\n",
       "          ...,\n",
       "          [9.7852e-01, 9.2969e-01, 9.8096e-01,  ..., 9.8291e-01,\n",
       "           9.6729e-01, 9.7998e-01],\n",
       "          [9.6240e-01, 9.5605e-01, 9.5410e-01,  ..., 9.7852e-01,\n",
       "           9.8291e-01, 9.7754e-01],\n",
       "          [2.2961e-01, 9.6729e-01, 9.9170e-01,  ..., 9.3164e-01,\n",
       "           8.7305e-01, 3.0225e-01]],\n",
       " \n",
       "         [[8.1836e-01, 9.4727e-01, 9.9023e-01,  ..., 6.4502e-01,\n",
       "           7.9541e-01, 7.2363e-01],\n",
       "          [9.6045e-01, 9.4189e-01, 5.4688e-01,  ..., 8.0420e-01,\n",
       "           8.7549e-01, 8.8867e-01],\n",
       "          [9.0234e-01, 3.9014e-01, 5.5225e-01,  ..., 2.2620e-01,\n",
       "           7.1826e-01, 9.4824e-01],\n",
       "          ...,\n",
       "          [8.9307e-01, 9.1455e-01, 9.2871e-01,  ..., 8.6084e-01,\n",
       "           8.5449e-01, 9.4678e-01],\n",
       "          [7.1973e-01, 8.2520e-01, 9.8291e-01,  ..., 8.0908e-01,\n",
       "           8.0664e-01, 6.3281e-01],\n",
       "          [3.1689e-01, 6.5527e-01, 9.6729e-01,  ..., 1.1963e-01,\n",
       "           8.9160e-01, 8.1592e-01]]]),\n",
       " 'attn_scores_no_sink': tensor([[[0.0029, 0.3645, 0.2612,  ..., 0.2357, 0.1984, 0.0287],\n",
       "          [0.3079, 0.4285, 0.3408,  ..., 0.2935, 0.2905, 0.2659],\n",
       "          [0.3384, 0.3179, 0.3320,  ..., 0.3201, 0.3201, 0.3044],\n",
       "          ...,\n",
       "          [0.0271, 0.0415, 0.0285,  ..., 0.0483, 0.0594, 0.0550],\n",
       "          [0.3938, 0.4285, 0.3975,  ..., 0.3391, 0.3657, 0.3413],\n",
       "          [0.2181, 0.2313, 0.2332,  ..., 0.3181, 0.3030, 0.3074]],\n",
       " \n",
       "         [[0.0004, 0.1406, 0.0709,  ..., 0.0251, 0.0402, 0.0040],\n",
       "          [0.0920, 0.0396, 0.0330,  ..., 0.0587, 0.0517, 0.1276],\n",
       "          [0.0083, 0.0085, 0.0081,  ..., 0.0131, 0.0136, 0.0114],\n",
       "          ...,\n",
       "          [0.0402, 0.0330, 0.0439,  ..., 0.0634, 0.0630, 0.0663],\n",
       "          [0.0352, 0.0508, 0.0367,  ..., 0.0636, 0.0659, 0.0451],\n",
       "          [0.0323, 0.0314, 0.0309,  ..., 0.0484, 0.0455, 0.0521]],\n",
       " \n",
       "         [[0.0150, 0.0172, 0.0158,  ..., 0.0186, 0.0188, 0.0192],\n",
       "          [0.0156, 0.0154, 0.0154,  ..., 0.0150, 0.0149, 0.0155],\n",
       "          [0.0079, 0.0179, 0.0164,  ..., 0.0052, 0.0011, 0.0183],\n",
       "          ...,\n",
       "          [0.0144, 0.0142, 0.0143,  ..., 0.0159, 0.0161, 0.0163],\n",
       "          [0.0138, 0.0132, 0.0110,  ..., 0.0178, 0.0180, 0.0164],\n",
       "          [0.0128, 0.0170, 0.0158,  ..., 0.0172, 0.0177, 0.0192]],\n",
       " \n",
       "         ...,\n",
       " \n",
       "         [[0.0060, 0.0078, 0.0061,  ..., 0.0070, 0.0059, 0.0062],\n",
       "          [0.0057, 0.0056, 0.0066,  ..., 0.0112, 0.0077, 0.0064],\n",
       "          [0.0353, 0.0134, 0.0076,  ..., 0.0064, 0.0245, 0.0226],\n",
       "          ...,\n",
       "          [0.0055, 0.0057, 0.0048,  ..., 0.0061, 0.0062, 0.0064],\n",
       "          [0.0205, 0.0169, 0.0114,  ..., 0.0154, 0.0393, 0.0266],\n",
       "          [0.0084, 0.0080, 0.0057,  ..., 0.0065, 0.0087, 0.0126]],\n",
       " \n",
       "         [[0.0054, 0.0055, 0.0051,  ..., 0.0062, 0.0063, 0.0063],\n",
       "          [0.0129, 0.0091, 0.0072,  ..., 0.0073, 0.0122, 0.0134],\n",
       "          [0.0043, 0.0060, 0.0052,  ..., 0.0050, 0.0053, 0.0053],\n",
       "          ...,\n",
       "          [0.0092, 0.0108, 0.0036,  ..., 0.0105, 0.0075, 0.0073],\n",
       "          [0.0089, 0.0065, 0.0060,  ..., 0.0069, 0.0060, 0.0076],\n",
       "          [0.0022, 0.0038, 0.0039,  ..., 0.0068, 0.0074, 0.0025]],\n",
       " \n",
       "         [[0.0089, 0.0015, 0.0006,  ..., 0.0111, 0.0061, 0.0081],\n",
       "          [0.0087, 0.0055, 0.0042,  ..., 0.0094, 0.0078, 0.0082],\n",
       "          [0.0055, 0.0096, 0.0192,  ..., 0.0258, 0.0139, 0.0051],\n",
       "          ...,\n",
       "          [0.0135, 0.0083, 0.0083,  ..., 0.0159, 0.0180, 0.0085],\n",
       "          [0.0276, 0.0164, 0.0044,  ..., 0.0451, 0.0225, 0.0305],\n",
       "          [0.0023, 0.0029, 0.0015,  ..., 0.0028, 0.0043, 0.0033]]])}"
      ]
     },
     "execution_count": 24,
     "metadata": {},
     "output_type": "execute_result"
    }
   ],
   "source": [
    "lookback[0]"
   ]
  },
  {
   "cell_type": "markdown",
   "metadata": {},
   "source": [
    "32 x 32 x 32 bo model ma 32 warstwy po 32 głowy, a odpowiedz jest długa na 23 tokeny"
   ]
  },
  {
   "cell_type": "code",
   "execution_count": 25,
   "metadata": {},
   "outputs": [
    {
     "data": {
      "text/plain": [
       "torch.Size([32, 32, 23])"
      ]
     },
     "execution_count": 25,
     "metadata": {},
     "output_type": "execute_result"
    }
   ],
   "source": [
    "lookback[0][\"attn_scores\"].shape"
   ]
  },
  {
   "cell_type": "code",
   "execution_count": 26,
   "metadata": {},
   "outputs": [
    {
     "data": {
      "text/plain": [
       "tensor([0.0028, 0.4294, 0.2883, 0.4070, 0.3157, 0.3320, 0.3286, 0.0946, 0.2458,\n",
       "        0.2240, 0.0939, 0.2898, 0.4221, 0.3557, 0.1117, 0.3708, 0.1083, 0.0533,\n",
       "        0.1747, 0.2554, 0.2961, 0.2423, 0.0287])"
      ]
     },
     "execution_count": 26,
     "metadata": {},
     "output_type": "execute_result"
    }
   ],
   "source": [
    "lookback[0][\"attn_scores\"][0][0]"
   ]
  },
  {
   "cell_type": "markdown",
   "metadata": {},
   "source": [
    "*anno-nq-7b.jsonl* - annotacje przez GPT-4o"
   ]
  },
  {
   "cell_type": "code",
   "execution_count": 27,
   "metadata": {},
   "outputs": [],
   "source": [
    "with open(\"anno-nq-7b.jsonl\", 'r') as file:\n",
    "    anno = [json.loads(line) for line in file]"
   ]
  },
  {
   "cell_type": "code",
   "execution_count": 28,
   "metadata": {},
   "outputs": [
    {
     "data": {
      "text/plain": [
       "{'index': 0,\n",
       " 'document': '#Document#: receive a diploma, a medal and a document confirming the prize amount. Nobel Prize in Physics The Nobel Prize in Physics () is a yearly award given by the Royal Swedish Academy of Sciences for those who have made the most outstanding contributions for mankind in the field of physics. It is one of the five Nobel Prizes established by the will of Alfred Nobel in 1895 and awarded since 1901; the others being the Nobel Prize in Chemistry, Nobel Prize in Literature, Nobel Peace Prize, and Nobel Prize in Physiology or Medicine. The first Nobel Prize in Physics was\\nThe first Nobel Prize in Physics was awarded in 1901 to Wilhelm Conrad Röntgen, of Germany, who received 150,782 SEK, which is equal to 7,731,004 SEK in December 2007.  John Bardeen is the only laureate to win the prize twice—in 1956 and 1972. Maria Skłodowska-Curie also won two Nobel Prizes, for physics in 1903 and chemistry in 1911. William Lawrence Bragg was, until October 2014, the youngest ever Nobel laureate; he won the prize in 1915 at the age of 25. Two women have won the prize: Curie and Maria Goeppert-Mayer (1963). As of 2017, the prize has been awarded\\nscience, Ernest Lawrence won the Nobel Prize in Physics in 1939. Lars Onsager won the 1968 Nobel Prize in Chemistry. Norman Borlaug, father of the Green Revolution, won the Nobel Peace Prize in 1970. Christian B. Anfinsen won the Nobel Prize for chemistry in 1972. Ivar Giaever won the Nobel Prize in Physics 1973. Carl Richard Hagen is noted for his work in physics. In engineering, Clayton Jacobson II is credited with the invention of the modern personal watercraft. Ole Singstad was a pioneer of underwater tunnels. Ole Evinrude invented the first outboard motor with practical commercial application, recognizable today\\n\\n#Question#: Who got the first nobel prize in physics?',\n",
       " 'ground_truth': \"['Wilhelm Conrad Röntgen']\",\n",
       " 'response': 'Wilhelm Conrad Röntgen of Germany received the first Nobel Prize in Physics in 1901.',\n",
       " 'decision': True,\n",
       " 'gpt4_explanation': 'The proposed answer states that \"Wilhelm Conrad Röntgen of Germany received the first Nobel Prize in Physics in 1901.\" This information is supported by the document, which mentions that \"The first Nobel Prize in Physics was awarded in 1901 to Wilhelm Conrad Röntgen, of Germany.\" This precisely matches the information given in the proposed answer, affirming both the recipient of the award, his nationality, and the year he received it.\\n\\nTherefore, the proposed answer can be directly inferred from the document as all facts align accurately with the information presented.\\n\\n**Conclusion: True**',\n",
       " 'problematic_spans': []}"
      ]
     },
     "execution_count": 28,
     "metadata": {},
     "output_type": "execute_result"
    }
   ],
   "source": [
    "anno[0]"
   ]
  },
  {
   "cell_type": "markdown",
   "metadata": {},
   "source": [
    "*attentions_0.pt* - atencja podczas generowania przykładowej odpowiedzi zwracana przez modele z HF. Na jej podstawie obliczane jest lookback ratio"
   ]
  },
  {
   "cell_type": "code",
   "execution_count": 29,
   "metadata": {},
   "outputs": [],
   "source": [
    "attentions = torch.load(\"attentions_0.pt\", map_location=torch.device(\"cpu\"))"
   ]
  },
  {
   "cell_type": "markdown",
   "metadata": {},
   "source": [
    "28 - długość wygenerowanej odpowiedzi"
   ]
  },
  {
   "cell_type": "code",
   "execution_count": 30,
   "metadata": {},
   "outputs": [
    {
     "data": {
      "text/plain": [
       "28"
      ]
     },
     "execution_count": 30,
     "metadata": {},
     "output_type": "execute_result"
    }
   ],
   "source": [
    "len(attentions)"
   ]
  },
  {
   "cell_type": "markdown",
   "metadata": {},
   "source": [
    "32 - liczba warstw"
   ]
  },
  {
   "cell_type": "code",
   "execution_count": 31,
   "metadata": {},
   "outputs": [
    {
     "data": {
      "text/plain": [
       "32"
      ]
     },
     "execution_count": 31,
     "metadata": {},
     "output_type": "execute_result"
    }
   ],
   "source": [
    "len(attentions[0])"
   ]
  },
  {
   "cell_type": "markdown",
   "metadata": {},
   "source": [
    "32 - liczba głów"
   ]
  },
  {
   "cell_type": "code",
   "execution_count": 32,
   "metadata": {},
   "outputs": [
    {
     "data": {
      "text/plain": [
       "32"
      ]
     },
     "execution_count": 32,
     "metadata": {},
     "output_type": "execute_result"
    }
   ],
   "source": [
    "attentions[0][0].shape[1]"
   ]
  },
  {
   "cell_type": "code",
   "execution_count": 33,
   "metadata": {},
   "outputs": [
    {
     "data": {
      "text/plain": [
       "torch.Size([1, 32, 553, 553])"
      ]
     },
     "execution_count": 33,
     "metadata": {},
     "output_type": "execute_result"
    }
   ],
   "source": [
    "attentions[0][0].shape"
   ]
  }
 ],
 "metadata": {
  "kernelspec": {
   "display_name": "lens",
   "language": "python",
   "name": "python3"
  },
  "language_info": {
   "codemirror_mode": {
    "name": "ipython",
    "version": 3
   },
   "file_extension": ".py",
   "mimetype": "text/x-python",
   "name": "python",
   "nbconvert_exporter": "python",
   "pygments_lexer": "ipython3",
   "version": "3.9.19"
  }
 },
 "nbformat": 4,
 "nbformat_minor": 2
}
