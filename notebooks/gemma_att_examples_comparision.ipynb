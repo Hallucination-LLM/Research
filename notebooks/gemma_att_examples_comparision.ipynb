{
 "cells": [
  {
   "cell_type": "code",
   "execution_count": 1,
   "metadata": {},
   "outputs": [],
   "source": [
    "import os\n",
    "os.environ[\"CUDA_VISIBLE_DEVICES\"] = \"1\"\n",
    "os.environ['TOKENIZERS_PARALLELISM'] = 'false'"
   ]
  },
  {
   "cell_type": "code",
   "execution_count": 2,
   "metadata": {},
   "outputs": [
    {
     "name": "stderr",
     "output_type": "stream",
     "text": [
      "/home/pim/miniconda3/envs/ner/lib/python3.10/site-packages/tqdm/auto.py:21: TqdmWarning: IProgress not found. Please update jupyter and ipywidgets. See https://ipywidgets.readthedocs.io/en/stable/user_install.html\n",
      "  from .autonotebook import tqdm as notebook_tqdm\n"
     ]
    }
   ],
   "source": [
    "import torch\n",
    "from dotenv import load_dotenv\n",
    "from transformers import AutoTokenizer, AutoModelForCausalLM, BitsAndBytesConfig, GenerationConfig\n",
    "import pandas as pd\n",
    "import numpy as np\n",
    "import random\n",
    "import pickle\n",
    "from IPython.display import display, Markdown\n",
    "from copy import deepcopy\n",
    "import seaborn as sns\n",
    "import matplotlib.pyplot as plt"
   ]
  },
  {
   "cell_type": "markdown",
   "metadata": {},
   "source": [
    "### This package will be included in our repo, but it is only a prompt template"
   ]
  },
  {
   "cell_type": "code",
   "execution_count": 3,
   "metadata": {},
   "outputs": [],
   "source": [
    "from golemai.nlp.prompts import QUERY_INTRO_NO_ANS, SYSTEM_MSG_RAG\n",
    "from golemai.nlp.llm_module import prepare_prompt"
   ]
  },
  {
   "cell_type": "code",
   "execution_count": 4,
   "metadata": {},
   "outputs": [
    {
     "data": {
      "text/plain": [
       "(True, True)"
      ]
     },
     "execution_count": 4,
     "metadata": {},
     "output_type": "execute_result"
    }
   ],
   "source": [
    "load_dotenv(), torch.cuda.is_available()"
   ]
  },
  {
   "cell_type": "code",
   "execution_count": 5,
   "metadata": {},
   "outputs": [],
   "source": [
    "DATA_DIR = 'data'\n",
    "DATASET_FILE = 'test_gemma_resp_dola.parquet'\n",
    "GEMMA_LABELS = 'gemma-2-9b-it-bnb-4bit.jsonl'\n",
    "GEMMA_ATS_DIR = 'gemma_att_hidden_288_4110'\n",
    "ATTENTIONS_DIR = 'attentions'\n",
    "QUESTION_COL = 'question'\n",
    "CONTEXT_COL = 'context'\n",
    "ANSWER_COL = 'answer'"
   ]
  },
  {
   "cell_type": "code",
   "execution_count": 6,
   "metadata": {},
   "outputs": [],
   "source": [
    "device = \"cuda\" if torch.cuda.is_available() else \"cpu\"\n",
    "dataset_path = os.path.join(\"..\", DATA_DIR, DATASET_FILE)\n",
    "labels_path = os.path.join(\"..\", DATA_DIR, GEMMA_LABELS)"
   ]
  },
  {
   "cell_type": "code",
   "execution_count": 7,
   "metadata": {},
   "outputs": [],
   "source": [
    "df = pd.read_parquet(dataset_path)"
   ]
  },
  {
   "cell_type": "code",
   "execution_count": 8,
   "metadata": {},
   "outputs": [
    {
     "data": {
      "text/plain": [
       "dataset\n",
       "RAG-TGE        1417\n",
       "HOTPOTQA-EN    1050\n",
       "POLQA           710\n",
       "HOTPOTQA-PL     645\n",
       "REASON          288\n",
       "Name: count, dtype: int64"
      ]
     },
     "execution_count": 8,
     "metadata": {},
     "output_type": "execute_result"
    }
   ],
   "source": [
    "df['dataset'].value_counts()"
   ]
  },
  {
   "cell_type": "code",
   "execution_count": 9,
   "metadata": {},
   "outputs": [],
   "source": [
    "df['context_length'] = df['context'].apply(lambda x: len(x.split()) if x else 0)"
   ]
  },
  {
   "cell_type": "code",
   "execution_count": 10,
   "metadata": {},
   "outputs": [],
   "source": [
    "gemma_labels = pd.read_json(labels_path, lines=True)"
   ]
  },
  {
   "cell_type": "code",
   "execution_count": 11,
   "metadata": {},
   "outputs": [
    {
     "data": {
      "text/plain": [
       "decision\n",
       "True     3548\n",
       "False     562\n",
       "Name: count, dtype: int64"
      ]
     },
     "execution_count": 11,
     "metadata": {},
     "output_type": "execute_result"
    }
   ],
   "source": [
    "gemma_labels['decision'].value_counts()"
   ]
  },
  {
   "cell_type": "code",
   "execution_count": 12,
   "metadata": {},
   "outputs": [],
   "source": [
    "gemma_labels['decision'] = gemma_labels['decision'].astype(np.uint8)"
   ]
  },
  {
   "cell_type": "code",
   "execution_count": 13,
   "metadata": {},
   "outputs": [
    {
     "data": {
      "text/html": [
       "<div>\n",
       "<style scoped>\n",
       "    .dataframe tbody tr th:only-of-type {\n",
       "        vertical-align: middle;\n",
       "    }\n",
       "\n",
       "    .dataframe tbody tr th {\n",
       "        vertical-align: top;\n",
       "    }\n",
       "\n",
       "    .dataframe thead th {\n",
       "        text-align: right;\n",
       "    }\n",
       "</style>\n",
       "<table border=\"1\" class=\"dataframe\">\n",
       "  <thead>\n",
       "    <tr style=\"text-align: right;\">\n",
       "      <th></th>\n",
       "      <th>index</th>\n",
       "      <th>document</th>\n",
       "      <th>ground_truth</th>\n",
       "      <th>response</th>\n",
       "      <th>decision</th>\n",
       "      <th>gpt4_explanation</th>\n",
       "      <th>problematic_spans</th>\n",
       "      <th>cost</th>\n",
       "      <th>prompt</th>\n",
       "    </tr>\n",
       "  </thead>\n",
       "  <tbody>\n",
       "    <tr>\n",
       "      <th>289</th>\n",
       "      <td>289</td>\n",
       "      <td>#Document#: `Dokument [1]:` Rower torowy – lek...</td>\n",
       "      <td>lonża</td>\n",
       "      <td>Nie mogę udzielić odpowiedzi na to pytanie na ...</td>\n",
       "      <td>0</td>\n",
       "      <td>The document provides information about variou...</td>\n",
       "      <td>[\"Nie mogę udzielić odpowiedzi na to pytanie n...</td>\n",
       "      <td>0.010320</td>\n",
       "      <td>You will be provided with a document and a pro...</td>\n",
       "    </tr>\n",
       "    <tr>\n",
       "      <th>292</th>\n",
       "      <td>292</td>\n",
       "      <td>#Document#: `Dokument [ \"Chaenomeles\" ]:` Chae...</td>\n",
       "      <td>yes</td>\n",
       "      <td>Yes, Mertensia is from the genus Boraginaceae ...</td>\n",
       "      <td>0</td>\n",
       "      <td>The document provides information about both M...</td>\n",
       "      <td>[\"Sasa is from the genus Bambusoideae\"]</td>\n",
       "      <td>0.010615</td>\n",
       "      <td>You will be provided with a document and a pro...</td>\n",
       "    </tr>\n",
       "    <tr>\n",
       "      <th>295</th>\n",
       "      <td>295</td>\n",
       "      <td>#Document#: `Dokument [ \"Plaza Kvinna\" ]:` Pla...</td>\n",
       "      <td>no</td>\n",
       "      <td>Yes. Both Nat Mags and Plaza Kvinna are publis...</td>\n",
       "      <td>0</td>\n",
       "      <td>The document provides information about both \"...</td>\n",
       "      <td>[\"Yes. Both Nat Mags and Plaza Kvinna are publ...</td>\n",
       "      <td>0.010750</td>\n",
       "      <td>You will be provided with a document and a pro...</td>\n",
       "    </tr>\n",
       "    <tr>\n",
       "      <th>300</th>\n",
       "      <td>300</td>\n",
       "      <td>#Document#: `Dokument [ \"David Icke\" ]:` David...</td>\n",
       "      <td>1952</td>\n",
       "      <td>Nie mogę udzielić odpowiedzi na to pytanie na ...</td>\n",
       "      <td>0</td>\n",
       "      <td>The proposed answer is in Polish and translate...</td>\n",
       "      <td>[\"Nie mogę udzielić odpowiedzi na to pytanie n...</td>\n",
       "      <td>0.013015</td>\n",
       "      <td>You will be provided with a document and a pro...</td>\n",
       "    </tr>\n",
       "    <tr>\n",
       "      <th>312</th>\n",
       "      <td>312</td>\n",
       "      <td>#Document#: `Dokument [ \"Houston Rockets\" ]:` ...</td>\n",
       "      <td>August 23, 1988</td>\n",
       "      <td>July 1, 1975</td>\n",
       "      <td>0</td>\n",
       "      <td>The document provides information about two in...</td>\n",
       "      <td>[\"July 1, 1975\"]</td>\n",
       "      <td>0.010350</td>\n",
       "      <td>You will be provided with a document and a pro...</td>\n",
       "    </tr>\n",
       "    <tr>\n",
       "      <th>315</th>\n",
       "      <td>315</td>\n",
       "      <td>#Document#: `Dokument [ \"That Green Gentleman ...</td>\n",
       "      <td>Psy 6 (Six Rules), Part 1</td>\n",
       "      <td>`Dokument [ \"Gentleman (Psy song)\" ]:` \"Gentle...</td>\n",
       "      <td>0</td>\n",
       "      <td>The proposed answer states that \"Gentleman\" by...</td>\n",
       "      <td>[\"Gentleman was released as a single, not on a...</td>\n",
       "      <td>0.011040</td>\n",
       "      <td>You will be provided with a document and a pro...</td>\n",
       "    </tr>\n",
       "    <tr>\n",
       "      <th>321</th>\n",
       "      <td>321</td>\n",
       "      <td>#Document#: `Dokument [1]:` Seria Mercedes-Ben...</td>\n",
       "      <td>Wersje coupé i kabriolet czwartej generacji sa...</td>\n",
       "      <td>Tak.</td>\n",
       "      <td>0</td>\n",
       "      <td>The proposed answer \"Tak\" (Yes) is a response ...</td>\n",
       "      <td>[\"Tak\"]</td>\n",
       "      <td>0.011240</td>\n",
       "      <td>You will be provided with a document and a pro...</td>\n",
       "    </tr>\n",
       "    <tr>\n",
       "      <th>343</th>\n",
       "      <td>343</td>\n",
       "      <td>#Document#: `Dokument [1]:` Splice to kanadyjs...</td>\n",
       "      <td>Film Splice i producent filmowy Steve Hoban ma...</td>\n",
       "      <td>Kanadyjskiego</td>\n",
       "      <td>0</td>\n",
       "      <td>The proposed answer states that the nationalit...</td>\n",
       "      <td>[\"Kanadyjskiego\"]</td>\n",
       "      <td>0.009095</td>\n",
       "      <td>You will be provided with a document and a pro...</td>\n",
       "    </tr>\n",
       "    <tr>\n",
       "      <th>346</th>\n",
       "      <td>346</td>\n",
       "      <td>#Document#: `Dokument [1]:` Lubię ten smutek –...</td>\n",
       "      <td>czubi</td>\n",
       "      <td>Nie mogę udzielić odpowiedzi na to pytanie na ...</td>\n",
       "      <td>0</td>\n",
       "      <td>The document contains the phrase \"bajerujemy (...</td>\n",
       "      <td>[\"Nie mogę udzielić odpowiedzi na to pytanie n...</td>\n",
       "      <td>0.007455</td>\n",
       "      <td>You will be provided with a document and a pro...</td>\n",
       "    </tr>\n",
       "    <tr>\n",
       "      <th>368</th>\n",
       "      <td>368</td>\n",
       "      <td>#Document#: `Dokument [ \"Into the Wild (film)\"...</td>\n",
       "      <td>Bill Pohlad</td>\n",
       "      <td>Tate Taylor directed and co-produced the 2014 ...</td>\n",
       "      <td>0</td>\n",
       "      <td>The document provides information about severa...</td>\n",
       "      <td>[\"Tate Taylor directed and co-produced\"]</td>\n",
       "      <td>0.009475</td>\n",
       "      <td>You will be provided with a document and a pro...</td>\n",
       "    </tr>\n",
       "    <tr>\n",
       "      <th>376</th>\n",
       "      <td>376</td>\n",
       "      <td>#Document#: `Dokument [1]:` Ponad 80% jajek na...</td>\n",
       "      <td>trzy</td>\n",
       "      <td>Nie mogę udzielić odpowiedzi na to pytanie na ...</td>\n",
       "      <td>0</td>\n",
       "      <td>The document provides information about the pe...</td>\n",
       "      <td>[\"Nie mogę udzielić odpowiedzi na to pytanie n...</td>\n",
       "      <td>0.007060</td>\n",
       "      <td>You will be provided with a document and a pro...</td>\n",
       "    </tr>\n",
       "  </tbody>\n",
       "</table>\n",
       "</div>"
      ],
      "text/plain": [
       "     index                                           document  \\\n",
       "289    289  #Document#: `Dokument [1]:` Rower torowy – lek...   \n",
       "292    292  #Document#: `Dokument [ \"Chaenomeles\" ]:` Chae...   \n",
       "295    295  #Document#: `Dokument [ \"Plaza Kvinna\" ]:` Pla...   \n",
       "300    300  #Document#: `Dokument [ \"David Icke\" ]:` David...   \n",
       "312    312  #Document#: `Dokument [ \"Houston Rockets\" ]:` ...   \n",
       "315    315  #Document#: `Dokument [ \"That Green Gentleman ...   \n",
       "321    321  #Document#: `Dokument [1]:` Seria Mercedes-Ben...   \n",
       "343    343  #Document#: `Dokument [1]:` Splice to kanadyjs...   \n",
       "346    346  #Document#: `Dokument [1]:` Lubię ten smutek –...   \n",
       "368    368  #Document#: `Dokument [ \"Into the Wild (film)\"...   \n",
       "376    376  #Document#: `Dokument [1]:` Ponad 80% jajek na...   \n",
       "\n",
       "                                          ground_truth  \\\n",
       "289                                              lonża   \n",
       "292                                                yes   \n",
       "295                                                 no   \n",
       "300                                               1952   \n",
       "312                                    August 23, 1988   \n",
       "315                          Psy 6 (Six Rules), Part 1   \n",
       "321  Wersje coupé i kabriolet czwartej generacji sa...   \n",
       "343  Film Splice i producent filmowy Steve Hoban ma...   \n",
       "346                                              czubi   \n",
       "368                                        Bill Pohlad   \n",
       "376                                               trzy   \n",
       "\n",
       "                                              response  decision  \\\n",
       "289  Nie mogę udzielić odpowiedzi na to pytanie na ...         0   \n",
       "292  Yes, Mertensia is from the genus Boraginaceae ...         0   \n",
       "295  Yes. Both Nat Mags and Plaza Kvinna are publis...         0   \n",
       "300  Nie mogę udzielić odpowiedzi na to pytanie na ...         0   \n",
       "312                                       July 1, 1975         0   \n",
       "315  `Dokument [ \"Gentleman (Psy song)\" ]:` \"Gentle...         0   \n",
       "321                                               Tak.         0   \n",
       "343                                      Kanadyjskiego         0   \n",
       "346  Nie mogę udzielić odpowiedzi na to pytanie na ...         0   \n",
       "368  Tate Taylor directed and co-produced the 2014 ...         0   \n",
       "376  Nie mogę udzielić odpowiedzi na to pytanie na ...         0   \n",
       "\n",
       "                                      gpt4_explanation  \\\n",
       "289  The document provides information about variou...   \n",
       "292  The document provides information about both M...   \n",
       "295  The document provides information about both \"...   \n",
       "300  The proposed answer is in Polish and translate...   \n",
       "312  The document provides information about two in...   \n",
       "315  The proposed answer states that \"Gentleman\" by...   \n",
       "321  The proposed answer \"Tak\" (Yes) is a response ...   \n",
       "343  The proposed answer states that the nationalit...   \n",
       "346  The document contains the phrase \"bajerujemy (...   \n",
       "368  The document provides information about severa...   \n",
       "376  The document provides information about the pe...   \n",
       "\n",
       "                                     problematic_spans      cost  \\\n",
       "289  [\"Nie mogę udzielić odpowiedzi na to pytanie n...  0.010320   \n",
       "292            [\"Sasa is from the genus Bambusoideae\"]  0.010615   \n",
       "295  [\"Yes. Both Nat Mags and Plaza Kvinna are publ...  0.010750   \n",
       "300  [\"Nie mogę udzielić odpowiedzi na to pytanie n...  0.013015   \n",
       "312                                   [\"July 1, 1975\"]  0.010350   \n",
       "315  [\"Gentleman was released as a single, not on a...  0.011040   \n",
       "321                                            [\"Tak\"]  0.011240   \n",
       "343                                  [\"Kanadyjskiego\"]  0.009095   \n",
       "346  [\"Nie mogę udzielić odpowiedzi na to pytanie n...  0.007455   \n",
       "368           [\"Tate Taylor directed and co-produced\"]  0.009475   \n",
       "376  [\"Nie mogę udzielić odpowiedzi na to pytanie n...  0.007060   \n",
       "\n",
       "                                                prompt  \n",
       "289  You will be provided with a document and a pro...  \n",
       "292  You will be provided with a document and a pro...  \n",
       "295  You will be provided with a document and a pro...  \n",
       "300  You will be provided with a document and a pro...  \n",
       "312  You will be provided with a document and a pro...  \n",
       "315  You will be provided with a document and a pro...  \n",
       "321  You will be provided with a document and a pro...  \n",
       "343  You will be provided with a document and a pro...  \n",
       "346  You will be provided with a document and a pro...  \n",
       "368  You will be provided with a document and a pro...  \n",
       "376  You will be provided with a document and a pro...  "
      ]
     },
     "execution_count": 13,
     "metadata": {},
     "output_type": "execute_result"
    }
   ],
   "source": [
    "examine_idxs = gemma_labels.iloc[288:377].loc[gemma_labels['decision'] == 0].index\n",
    "gemma_labels.iloc[288:377].loc[gemma_labels['decision'] == 0]"
   ]
  },
  {
   "cell_type": "code",
   "execution_count": 14,
   "metadata": {},
   "outputs": [
    {
     "data": {
      "text/html": [
       "<div>\n",
       "<style scoped>\n",
       "    .dataframe tbody tr th:only-of-type {\n",
       "        vertical-align: middle;\n",
       "    }\n",
       "\n",
       "    .dataframe tbody tr th {\n",
       "        vertical-align: top;\n",
       "    }\n",
       "\n",
       "    .dataframe thead th {\n",
       "        text-align: right;\n",
       "    }\n",
       "</style>\n",
       "<table border=\"1\" class=\"dataframe\">\n",
       "  <thead>\n",
       "    <tr style=\"text-align: right;\">\n",
       "      <th></th>\n",
       "      <th>dataset</th>\n",
       "      <th>question_id</th>\n",
       "      <th>question</th>\n",
       "      <th>context</th>\n",
       "      <th>answer</th>\n",
       "      <th>gemma-2-9b-it-bnb-4bit</th>\n",
       "      <th>gemma-2-9b-it-bnb-4bit-dola</th>\n",
       "      <th>gemma-2-9b-it-bnb-4bit-few-shot-dola</th>\n",
       "      <th>gemma-2-9b-it-bnb-4bit-few-shot</th>\n",
       "      <th>context_length</th>\n",
       "    </tr>\n",
       "  </thead>\n",
       "  <tbody>\n",
       "    <tr>\n",
       "      <th>289</th>\n",
       "      <td>POLQA</td>\n",
       "      <td>2759</td>\n",
       "      <td>Jak nazywa się taśma służąca do jeżdżenia konn...</td>\n",
       "      <td>`Dokument [1]:` Rower torowy – lekki rower na ...</td>\n",
       "      <td>lonża</td>\n",
       "      <td>Nie mogę udzielić odpowiedzi na to pytanie na ...</td>\n",
       "      <td>Nie mogę udzielić odpowiedzi na to pytanie na ...</td>\n",
       "      <td>Nie mogę udzielić odpowiedzi na to pytanie na ...</td>\n",
       "      <td>Nie mogę udzielić odpowiedzi na to pytanie na ...</td>\n",
       "      <td>544</td>\n",
       "    </tr>\n",
       "    <tr>\n",
       "      <th>292</th>\n",
       "      <td>HOTPOTQA-EN</td>\n",
       "      <td>5adf89625542995534e8c7dc</td>\n",
       "      <td>Are Mertensia and Sasa plants from differing g...</td>\n",
       "      <td>`Dokument [ \"Chaenomeles\" ]:` Chaenomeles is a...</td>\n",
       "      <td>yes</td>\n",
       "      <td>Yes, Mertensia is from the genus Boraginaceae ...</td>\n",
       "      <td>ANSWER: Yes. Mertensia belongs to the genus Bo...</td>\n",
       "      <td>Tak, ponieważ Mertensia należy do rodzaju Bora...</td>\n",
       "      <td>Tak, Mertensia należy do rodzaju Boraginaceae,...</td>\n",
       "      <td>912</td>\n",
       "    </tr>\n",
       "    <tr>\n",
       "      <th>295</th>\n",
       "      <td>HOTPOTQA-EN</td>\n",
       "      <td>5ac2873d5542992f1f2b38ea</td>\n",
       "      <td>Are the magazines, Nat Mags and Plaza Kvinna p...</td>\n",
       "      <td>`Dokument [ \"Plaza Kvinna\" ]:` Plaza Kvinna (m...</td>\n",
       "      <td>no</td>\n",
       "      <td>Yes. Both Nat Mags and Plaza Kvinna are publis...</td>\n",
       "      <td>Yes.  Both Nat Mags and Plaza Kvinna are publi...</td>\n",
       "      <td>Nat Mags was published in Great Britain while ...</td>\n",
       "      <td>Nat Mags was published in the United Kingdom, ...</td>\n",
       "      <td>912</td>\n",
       "    </tr>\n",
       "    <tr>\n",
       "      <th>300</th>\n",
       "      <td>HOTPOTQA-EN</td>\n",
       "      <td>5adce28f5542990d50227d52</td>\n",
       "      <td>Heinrick Palmgren hosts a show called Red Ice ...</td>\n",
       "      <td>`Dokument [ \"David Icke\" ]:` David Vaughan Ick...</td>\n",
       "      <td>1952</td>\n",
       "      <td>Nie mogę udzielić odpowiedzi na to pytanie na ...</td>\n",
       "      <td>Nie mogę udzielić odpowiedzi na to pytanie na ...</td>\n",
       "      <td>Nie mogę udzielić odpowiedzi na to pytanie na ...</td>\n",
       "      <td>Nie mogę udzielić odpowiedzi na to pytanie na ...</td>\n",
       "      <td>1263</td>\n",
       "    </tr>\n",
       "    <tr>\n",
       "      <th>312</th>\n",
       "      <td>HOTPOTQA-EN</td>\n",
       "      <td>5ae294e35542996483e64a03</td>\n",
       "      <td>When was the Houston Rockets point guard recru...</td>\n",
       "      <td>`Dokument [ \"Houston Rockets\" ]:` The Houston ...</td>\n",
       "      <td>August 23, 1988</td>\n",
       "      <td>July 1, 1975</td>\n",
       "      <td>Jeremy Lin was recruited by Frank Sullivan. Je...</td>\n",
       "      <td>Frank Sullivan recruited Jeremy Lin. Dokument ...</td>\n",
       "      <td>Frank Sullivan recruited Jeremy Lin, who was b...</td>\n",
       "      <td>1222</td>\n",
       "    </tr>\n",
       "    <tr>\n",
       "      <th>315</th>\n",
       "      <td>HOTPOTQA-EN</td>\n",
       "      <td>5ab326d4554299194fa9357f</td>\n",
       "      <td>What album was the song Gentleman on?</td>\n",
       "      <td>`Dokument [ \"That Green Gentleman (Things Have...</td>\n",
       "      <td>Psy 6 (Six Rules), Part 1</td>\n",
       "      <td>`Dokument [ \"Gentleman (Psy song)\" ]:` \"Gentle...</td>\n",
       "      <td>Dokument [ \"Gentleman (Psy song)\" ]:`  \"Gentle...</td>\n",
       "      <td>Dokument [ \"Gentleman (Psy song)\" ]:` \"Gentlem...</td>\n",
       "      <td>The provided context mentions several songs ti...</td>\n",
       "      <td>925</td>\n",
       "    </tr>\n",
       "    <tr>\n",
       "      <th>321</th>\n",
       "      <td>RAG-TGE</td>\n",
       "      <td>3131</td>\n",
       "      <td>Czy Mercedes-Benz Klasy E, wersje coupé i kab...</td>\n",
       "      <td>`Dokument [1]:` Seria Mercedes-Benz Klasy E (W...</td>\n",
       "      <td>Wersje coupé i kabriolet czwartej generacji sa...</td>\n",
       "      <td>Tak.</td>\n",
       "      <td>Tak.</td>\n",
       "      <td>Tak. Dokument [7]: Mercedes-Benz Klasa E (C207...</td>\n",
       "      <td>Tak, Mercedes-Benz Klasy E, wersje coupé i kab...</td>\n",
       "      <td>708</td>\n",
       "    </tr>\n",
       "    <tr>\n",
       "      <th>343</th>\n",
       "      <td>RAG-TGE</td>\n",
       "      <td>2787</td>\n",
       "      <td>Jakiej narodowości/kraju pochodzenia dzielą f...</td>\n",
       "      <td>`Dokument [1]:` Splice to kanadyjsko-francuski...</td>\n",
       "      <td>Film Splice i producent filmowy Steve Hoban ma...</td>\n",
       "      <td>Kanadyjskiego</td>\n",
       "      <td>Kanadyjskiego</td>\n",
       "      <td>Dokument [1] mówi o filmie Splice jako kanadyj...</td>\n",
       "      <td>Oba, film Splice i Steven Hoban, są kanadyjski...</td>\n",
       "      <td>442</td>\n",
       "    </tr>\n",
       "    <tr>\n",
       "      <th>346</th>\n",
       "      <td>POLQA</td>\n",
       "      <td>2654</td>\n",
       "      <td>Proszę dokończyć przysłowie: „Kto się lubi, te...</td>\n",
       "      <td>`Dokument [1]:` Lubię ten smutek – album study...</td>\n",
       "      <td>czubi</td>\n",
       "      <td>Nie mogę udzielić odpowiedzi na to pytanie na ...</td>\n",
       "      <td>Nie mogę udzielić odpowiedzi na to pytanie na ...</td>\n",
       "      <td>Odpowiedź znajduje się w tekście: „Kto się czu...</td>\n",
       "      <td>`Kto się lubi, ten się **czubi**`</td>\n",
       "      <td>341</td>\n",
       "    </tr>\n",
       "    <tr>\n",
       "      <th>368</th>\n",
       "      <td>HOTPOTQA-EN</td>\n",
       "      <td>5ac4190f5542997ea680ca09</td>\n",
       "      <td>Who directed and co-produced the 2014 American...</td>\n",
       "      <td>`Dokument [ \"Into the Wild (film)\" ]:` Into th...</td>\n",
       "      <td>Bill Pohlad</td>\n",
       "      <td>Tate Taylor directed and co-produced the 2014 ...</td>\n",
       "      <td>Tate Taylor directed and co-produced the 2014 ...</td>\n",
       "      <td>Paul Edward Valentine Giamatti appeared in the...</td>\n",
       "      <td>Paul Edward Valentine Giamatti was in the film...</td>\n",
       "      <td>771</td>\n",
       "    </tr>\n",
       "    <tr>\n",
       "      <th>376</th>\n",
       "      <td>POLQA</td>\n",
       "      <td>435</td>\n",
       "      <td>Jaką cyfrą są oznaczone jajka z chowu klatkowego?</td>\n",
       "      <td>`Dokument [1]:` Ponad 80% jajek na rynku konsu...</td>\n",
       "      <td>trzy</td>\n",
       "      <td>Nie mogę udzielić odpowiedzi na to pytanie na ...</td>\n",
       "      <td>Nie mogę udzielić odpowiedzi na to pytanie na ...</td>\n",
       "      <td>W tekście wspomniane są jaja „trójki”. Nie jes...</td>\n",
       "      <td>W tekście podano, że jajka z chowu klatkowego ...</td>\n",
       "      <td>261</td>\n",
       "    </tr>\n",
       "  </tbody>\n",
       "</table>\n",
       "</div>"
      ],
      "text/plain": [
       "         dataset               question_id  \\\n",
       "289        POLQA                      2759   \n",
       "292  HOTPOTQA-EN  5adf89625542995534e8c7dc   \n",
       "295  HOTPOTQA-EN  5ac2873d5542992f1f2b38ea   \n",
       "300  HOTPOTQA-EN  5adce28f5542990d50227d52   \n",
       "312  HOTPOTQA-EN  5ae294e35542996483e64a03   \n",
       "315  HOTPOTQA-EN  5ab326d4554299194fa9357f   \n",
       "321      RAG-TGE                      3131   \n",
       "343      RAG-TGE                      2787   \n",
       "346        POLQA                      2654   \n",
       "368  HOTPOTQA-EN  5ac4190f5542997ea680ca09   \n",
       "376        POLQA                       435   \n",
       "\n",
       "                                              question  \\\n",
       "289  Jak nazywa się taśma służąca do jeżdżenia konn...   \n",
       "292  Are Mertensia and Sasa plants from differing g...   \n",
       "295  Are the magazines, Nat Mags and Plaza Kvinna p...   \n",
       "300  Heinrick Palmgren hosts a show called Red Ice ...   \n",
       "312  When was the Houston Rockets point guard recru...   \n",
       "315              What album was the song Gentleman on?   \n",
       "321   Czy Mercedes-Benz Klasy E, wersje coupé i kab...   \n",
       "343   Jakiej narodowości/kraju pochodzenia dzielą f...   \n",
       "346  Proszę dokończyć przysłowie: „Kto się lubi, te...   \n",
       "368  Who directed and co-produced the 2014 American...   \n",
       "376  Jaką cyfrą są oznaczone jajka z chowu klatkowego?   \n",
       "\n",
       "                                               context  \\\n",
       "289  `Dokument [1]:` Rower torowy – lekki rower na ...   \n",
       "292  `Dokument [ \"Chaenomeles\" ]:` Chaenomeles is a...   \n",
       "295  `Dokument [ \"Plaza Kvinna\" ]:` Plaza Kvinna (m...   \n",
       "300  `Dokument [ \"David Icke\" ]:` David Vaughan Ick...   \n",
       "312  `Dokument [ \"Houston Rockets\" ]:` The Houston ...   \n",
       "315  `Dokument [ \"That Green Gentleman (Things Have...   \n",
       "321  `Dokument [1]:` Seria Mercedes-Benz Klasy E (W...   \n",
       "343  `Dokument [1]:` Splice to kanadyjsko-francuski...   \n",
       "346  `Dokument [1]:` Lubię ten smutek – album study...   \n",
       "368  `Dokument [ \"Into the Wild (film)\" ]:` Into th...   \n",
       "376  `Dokument [1]:` Ponad 80% jajek na rynku konsu...   \n",
       "\n",
       "                                                answer  \\\n",
       "289                                              lonża   \n",
       "292                                                yes   \n",
       "295                                                 no   \n",
       "300                                               1952   \n",
       "312                                    August 23, 1988   \n",
       "315                          Psy 6 (Six Rules), Part 1   \n",
       "321  Wersje coupé i kabriolet czwartej generacji sa...   \n",
       "343  Film Splice i producent filmowy Steve Hoban ma...   \n",
       "346                                              czubi   \n",
       "368                                        Bill Pohlad   \n",
       "376                                               trzy   \n",
       "\n",
       "                                gemma-2-9b-it-bnb-4bit  \\\n",
       "289  Nie mogę udzielić odpowiedzi na to pytanie na ...   \n",
       "292  Yes, Mertensia is from the genus Boraginaceae ...   \n",
       "295  Yes. Both Nat Mags and Plaza Kvinna are publis...   \n",
       "300  Nie mogę udzielić odpowiedzi na to pytanie na ...   \n",
       "312                                       July 1, 1975   \n",
       "315  `Dokument [ \"Gentleman (Psy song)\" ]:` \"Gentle...   \n",
       "321                                               Tak.   \n",
       "343                                      Kanadyjskiego   \n",
       "346  Nie mogę udzielić odpowiedzi na to pytanie na ...   \n",
       "368  Tate Taylor directed and co-produced the 2014 ...   \n",
       "376  Nie mogę udzielić odpowiedzi na to pytanie na ...   \n",
       "\n",
       "                           gemma-2-9b-it-bnb-4bit-dola  \\\n",
       "289  Nie mogę udzielić odpowiedzi na to pytanie na ...   \n",
       "292  ANSWER: Yes. Mertensia belongs to the genus Bo...   \n",
       "295  Yes.  Both Nat Mags and Plaza Kvinna are publi...   \n",
       "300  Nie mogę udzielić odpowiedzi na to pytanie na ...   \n",
       "312  Jeremy Lin was recruited by Frank Sullivan. Je...   \n",
       "315  Dokument [ \"Gentleman (Psy song)\" ]:`  \"Gentle...   \n",
       "321                                               Tak.   \n",
       "343                                      Kanadyjskiego   \n",
       "346  Nie mogę udzielić odpowiedzi na to pytanie na ...   \n",
       "368  Tate Taylor directed and co-produced the 2014 ...   \n",
       "376  Nie mogę udzielić odpowiedzi na to pytanie na ...   \n",
       "\n",
       "                  gemma-2-9b-it-bnb-4bit-few-shot-dola  \\\n",
       "289  Nie mogę udzielić odpowiedzi na to pytanie na ...   \n",
       "292  Tak, ponieważ Mertensia należy do rodzaju Bora...   \n",
       "295  Nat Mags was published in Great Britain while ...   \n",
       "300  Nie mogę udzielić odpowiedzi na to pytanie na ...   \n",
       "312  Frank Sullivan recruited Jeremy Lin. Dokument ...   \n",
       "315  Dokument [ \"Gentleman (Psy song)\" ]:` \"Gentlem...   \n",
       "321  Tak. Dokument [7]: Mercedes-Benz Klasa E (C207...   \n",
       "343  Dokument [1] mówi o filmie Splice jako kanadyj...   \n",
       "346  Odpowiedź znajduje się w tekście: „Kto się czu...   \n",
       "368  Paul Edward Valentine Giamatti appeared in the...   \n",
       "376  W tekście wspomniane są jaja „trójki”. Nie jes...   \n",
       "\n",
       "                       gemma-2-9b-it-bnb-4bit-few-shot  context_length  \n",
       "289  Nie mogę udzielić odpowiedzi na to pytanie na ...             544  \n",
       "292  Tak, Mertensia należy do rodzaju Boraginaceae,...             912  \n",
       "295  Nat Mags was published in the United Kingdom, ...             912  \n",
       "300  Nie mogę udzielić odpowiedzi na to pytanie na ...            1263  \n",
       "312  Frank Sullivan recruited Jeremy Lin, who was b...            1222  \n",
       "315  The provided context mentions several songs ti...             925  \n",
       "321  Tak, Mercedes-Benz Klasy E, wersje coupé i kab...             708  \n",
       "343  Oba, film Splice i Steven Hoban, są kanadyjski...             442  \n",
       "346                  `Kto się lubi, ten się **czubi**`             341  \n",
       "368  Paul Edward Valentine Giamatti was in the film...             771  \n",
       "376  W tekście podano, że jajka z chowu klatkowego ...             261  "
      ]
     },
     "execution_count": 14,
     "metadata": {},
     "output_type": "execute_result"
    }
   ],
   "source": [
    "df.iloc[examine_idxs]"
   ]
  },
  {
   "cell_type": "code",
   "execution_count": 15,
   "metadata": {},
   "outputs": [],
   "source": [
    "EXAMINE_IDX = 2916"
   ]
  },
  {
   "cell_type": "code",
   "execution_count": null,
   "metadata": {},
   "outputs": [],
   "source": [
    "example_att_path = os.path.join(GEMMA_ATS_DIR, ATTENTIONS_DIR, f\"{EXAMINE_IDX}.pkl\")\n",
    "\n",
    "with open(example_att_path, 'rb') as f:\n",
    "    example_att = pickle.load(f)"
   ]
  },
  {
   "cell_type": "code",
   "execution_count": 21,
   "metadata": {},
   "outputs": [],
   "source": [
    "hidden_path = os.path.join(GEMMA_ATS_DIR, 'hidden_states', f\"{EXAMINE_IDX}.pkl\")\n",
    "\n",
    "with open(hidden_path, 'rb') as f:\n",
    "    hidden = pickle.load(f)"
   ]
  },
  {
   "cell_type": "code",
   "execution_count": 25,
   "metadata": {},
   "outputs": [
    {
     "data": {
      "text/plain": [
       "((471, 3584), (471, 3584), (3584,))"
      ]
     },
     "execution_count": 25,
     "metadata": {},
     "output_type": "execute_result"
    }
   ],
   "source": [
    "hidden[0][0].shape, hidden[0][1].shape, hidden[1][0].shape"
   ]
  },
  {
   "cell_type": "code",
   "execution_count": 1,
   "metadata": {},
   "outputs": [],
   "source": [
    "import torch"
   ]
  },
  {
   "cell_type": "code",
   "execution_count": 50,
   "metadata": {},
   "outputs": [
    {
     "name": "stdout",
     "output_type": "stream",
     "text": [
      "671\n",
      "672\n",
      "673\n",
      "674\n",
      "675\n",
      "676\n",
      "677\n"
     ]
    }
   ],
   "source": [
    "for i, att in enumerate(example_att):\n",
    "    print(att[0].shape[-1] + i)"
   ]
  },
  {
   "cell_type": "code",
   "execution_count": 43,
   "metadata": {},
   "outputs": [],
   "source": [
    "n_generated_tokens = len(example_att) - 1\n",
    "_, n_prompt_tokens = example_att[0][0].shape[:2]\n",
    "\n",
    "num_all_tokens = n_prompt_tokens + n_generated_tokens\n",
    "\n",
    "res = np.concatenate([\n",
    "    np.stack(tuple([t.squeeze() for t in token_att]), axis=0)[..., :num_all_tokens]\n",
    "    if i == 0\n",
    "    else np.stack(tuple([t.squeeze() for t in token_att]), axis=0)[..., :num_all_tokens][..., np.newaxis, :]\n",
    "    for i, token_att in enumerate(example_att)\n",
    "], axis=-2)"
   ]
  },
  {
   "cell_type": "code",
   "execution_count": 44,
   "metadata": {},
   "outputs": [
    {
     "data": {
      "text/plain": [
       "(42, 16, 477, 477)"
      ]
     },
     "execution_count": 44,
     "metadata": {},
     "output_type": "execute_result"
    }
   ],
   "source": [
    "res.shape"
   ]
  },
  {
   "cell_type": "code",
   "execution_count": 45,
   "metadata": {},
   "outputs": [],
   "source": [
    "n_generated_tokens = len(hidden) - 1\n",
    "_, n_prompt_tokens = hidden[0][0].shape[:2]\n",
    "\n",
    "num_all_tokens = n_prompt_tokens + n_generated_tokens\n",
    "\n",
    "res = np.concatenate([\n",
    "    np.stack(tuple([t.squeeze() for t in token_att]), axis=0)[..., :num_all_tokens]\n",
    "    if i == 0\n",
    "    else np.stack(tuple([t.squeeze() for t in token_att]), axis=0)[:, np.newaxis, :]\n",
    "    for i, token_att in enumerate(hidden)\n",
    "], axis=-2)"
   ]
  },
  {
   "cell_type": "code",
   "execution_count": 46,
   "metadata": {},
   "outputs": [
    {
     "data": {
      "text/plain": [
       "(43, 477, 3584)"
      ]
     },
     "execution_count": 46,
     "metadata": {},
     "output_type": "execute_result"
    }
   ],
   "source": [
    "res.shape"
   ]
  },
  {
   "cell_type": "code",
   "execution_count": 20,
   "metadata": {},
   "outputs": [
    {
     "data": {
      "text/plain": [
       "(42, 16, 477, 477)"
      ]
     },
     "execution_count": 20,
     "metadata": {},
     "output_type": "execute_result"
    }
   ],
   "source": [
    "res.shape"
   ]
  },
  {
   "cell_type": "code",
   "execution_count": 17,
   "metadata": {},
   "outputs": [
    {
     "data": {
      "text/plain": [
       "7"
      ]
     },
     "execution_count": 17,
     "metadata": {},
     "output_type": "execute_result"
    }
   ],
   "source": [
    "len(example_att)"
   ]
  },
  {
   "cell_type": "code",
   "execution_count": 18,
   "metadata": {},
   "outputs": [
    {
     "data": {
      "text/plain": [
       "42"
      ]
     },
     "execution_count": 18,
     "metadata": {},
     "output_type": "execute_result"
    }
   ],
   "source": [
    "len(example_att[0])"
   ]
  },
  {
   "cell_type": "code",
   "execution_count": 40,
   "metadata": {},
   "outputs": [],
   "source": [
    "%reload_ext autoreload\n",
    "%autoreload 2\n",
    "\n",
    "from attension_loader import AttentionLoader"
   ]
  },
  {
   "cell_type": "code",
   "execution_count": 41,
   "metadata": {},
   "outputs": [],
   "source": [
    "att_loader = AttentionLoader(\n",
    "    directory=os.path.join(GEMMA_ATS_DIR, ATTENTIONS_DIR),\n",
    "    aggregation='max'\n",
    ")"
   ]
  },
  {
   "cell_type": "code",
   "execution_count": 42,
   "metadata": {},
   "outputs": [
    {
     "name": "stdout",
     "output_type": "stream",
     "text": [
      "Processing 291.pkl\n",
      "All attentions processed.\n"
     ]
    }
   ],
   "source": [
    "att_reduced = att_loader.get_reduced_attention()[0]"
   ]
  },
  {
   "cell_type": "code",
   "execution_count": 43,
   "metadata": {},
   "outputs": [
    {
     "data": {
      "text/plain": [
       "(42, 16, 1251, 1252)"
      ]
     },
     "execution_count": 43,
     "metadata": {},
     "output_type": "execute_result"
    }
   ],
   "source": [
    "att_reduced.shape"
   ]
  },
  {
   "cell_type": "code",
   "execution_count": 43,
   "metadata": {},
   "outputs": [
    {
     "data": {
      "text/plain": [
       "(10, 42, (1242, 1242), (1243,))"
      ]
     },
     "execution_count": 43,
     "metadata": {},
     "output_type": "execute_result"
    }
   ],
   "source": [
    "len(att_reduced), len(att_reduced[0]), att_reduced[0][0].shape, att_reduced[1][0].shape"
   ]
  }
 ],
 "metadata": {
  "kernelspec": {
   "display_name": "hallu",
   "language": "python",
   "name": "python3"
  },
  "language_info": {
   "codemirror_mode": {
    "name": "ipython",
    "version": 3
   },
   "file_extension": ".py",
   "mimetype": "text/x-python",
   "name": "python",
   "nbconvert_exporter": "python",
   "pygments_lexer": "ipython3",
   "version": "3.10.11"
  }
 },
 "nbformat": 4,
 "nbformat_minor": 2
}
