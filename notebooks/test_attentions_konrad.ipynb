{
 "cells": [
  {
   "cell_type": "code",
   "execution_count": 9,
   "metadata": {},
   "outputs": [],
   "source": [
    "import os\n",
    "import numpy as np\n",
    "from dotenv import load_dotenv\n",
    "import pandas as pd\n",
    "\n",
    "\n",
    "load_dotenv()\n",
    "hf_token = os.getenv(\"HF_TOKEN\")"
   ]
  },
  {
   "cell_type": "code",
   "execution_count": 10,
   "metadata": {},
   "outputs": [],
   "source": [
    "df_gemma = pd.read_parquet(\"../data/gemma_att_kl_0_7000_df.parquet\")\n",
    "df_cnn = pd.read_parquet(\"../data/cnn_att_kl_0_1000_df.parquet\")"
   ]
  },
  {
   "cell_type": "code",
   "execution_count": 11,
   "metadata": {},
   "outputs": [],
   "source": [
    "# df_gemma = pd.DataFrame()\n",
    "\n",
    "# for file in os.listdir(\"./\"):\n",
    "#     if file.startswith(\"gemma_att_diff_mean\") and file.endswith(\".parquet\"):\n",
    "#         df_gemma = pd.concat([df_gemma, pd.read_parquet(f\"{file}\")])\n",
    "\n",
    "# df_gemma.to_parquet(\"data/gemma_att_diff_mean_df.parquet\")\n",
    "# df_gemma.shape"
   ]
  },
  {
   "cell_type": "code",
   "execution_count": 12,
   "metadata": {},
   "outputs": [],
   "source": [
    "# df_cnn = pd.DataFrame()\n",
    "\n",
    "# for file in os.listdir(\"./\"):\n",
    "#     if file.startswith(\"cnn_att_diff_mean\") and file.endswith(\".parquet\"):\n",
    "#         df_cnn = pd.concat([df_cnn, pd.read_parquet(f\"{file}\")])\n",
    "\n",
    "# df_cnn.to_parquet(\"data/cnn_att_diff_mean_df.parquet\")\n",
    "# df_cnn.shape"
   ]
  },
  {
   "cell_type": "code",
   "execution_count": 13,
   "metadata": {},
   "outputs": [],
   "source": [
    "# from ydata_profiling import ProfileReport\n",
    "\n",
    "# df_gemma_eda = df_gemma.drop(['dataset'], axis=1)\n",
    "# # Create a profile report\n",
    "# profile = ProfileReport(\n",
    "#     df_gemma_eda, \n",
    "#     title=\"Gemma DataFrame Profiling Report\",\n",
    "#     correlations={\n",
    "#         \"chi_squared\": {\"calculate\": False},\n",
    "#     }\n",
    "\n",
    "# )\n",
    "# # To display the report in a Jupyter Notebook\n",
    "# profile.to_notebook_iframe()"
   ]
  },
  {
   "cell_type": "code",
   "execution_count": 14,
   "metadata": {},
   "outputs": [],
   "source": [
    "from sklearn.model_selection import train_test_split\n",
    "from lightgbm import LGBMClassifier\n",
    "from sklearn.linear_model import LogisticRegression\n",
    "from sklearn.metrics import classification_report, roc_auc_score, roc_curve, confusion_matrix"
   ]
  },
  {
   "cell_type": "code",
   "execution_count": 15,
   "metadata": {},
   "outputs": [],
   "source": [
    "from sklearn.discriminant_analysis import StandardScaler\n",
    "from sklearn.ensemble import IsolationForest\n",
    "from imblearn.pipeline import Pipeline\n",
    "from sklearn.preprocessing import MinMaxScaler, RobustScaler\n",
    "from imblearn.under_sampling import RandomUnderSampler\n",
    "\n",
    "\n",
    "datasets = [\n",
    "    # {\n",
    "    #     \"train_name\": \"xsum_cnn\",\n",
    "    #     \"train\": df_xsum,\n",
    "    #     \"test\": df_cnn\n",
    "    # },\n",
    "    # {\n",
    "    #     \"train_name\": \"cnn_xsum\",\n",
    "    #     \"train\": df_cnn,\n",
    "    #     \"test\": df_xsum\n",
    "    # },\n",
    "    # {\n",
    "    #     \"train_name\": \"gemma_xsum\",\n",
    "    #     \"train\": df_gemma,\n",
    "    #     \"test\": df_xsum\n",
    "    # },\n",
    "    {\n",
    "        \"train_name\": \"gemma_cnn\",\n",
    "        \"train\": df_gemma,\n",
    "        \"test\": df_cnn\n",
    "    },\n",
    "    {\n",
    "        \"train_name\": \"cnn_gemma\",\n",
    "        \"train\": df_cnn,\n",
    "        \"test\": df_gemma\n",
    "    }\n",
    "]\n",
    "\n",
    "results = []\n",
    "\n",
    "for dataset in datasets:\n",
    "    # kfold validation over the dataset\n",
    "    df_train = dataset['train']\n",
    "    df_test = dataset['test']\n",
    "\n",
    "    X_train = df_train.drop(columns=['label', 'dataset'])\n",
    "    y_train = df_train['label']\n",
    "\n",
    "    X_test = df_test.drop(columns=['label', 'dataset'])\n",
    "    y_test = df_test['label']\n",
    "\n",
    "    models = {\n",
    "        'LogisticRegression': LogisticRegression(max_iter=10000, class_weight='balanced', random_state=42),\n",
    "        # 'LGBMClassifier': LGBMClassifier(\n",
    "        #     n_estimators=50,\n",
    "        #     learning_rate=0.001,\n",
    "        #     max_depth=10,\n",
    "        #     num_leaves=15,\n",
    "        #     class_weight='balanced',\n",
    "        #     reg_alpha=0.1,\n",
    "        #     reg_lambda=0.1,\n",
    "        #     random_state=42,\n",
    "        #     n_jobs=-1,\n",
    "        #     silent=True,\n",
    "        #     verbose=-1\n",
    "        # )\n",
    "    }\n",
    "\n",
    "    for model_name, model in models.items():\n",
    "\n",
    "        pipeline = Pipeline([\n",
    "            ('scaler', StandardScaler()),  # Scale the data\n",
    "            ('undersampler', RandomUnderSampler(random_state=42)),  # Undersample the majority class\n",
    "            ('model', model)  # Fit the model\n",
    "        ])\n",
    "        pipeline.fit(X_train, y_train)\n",
    "        y_pred_proba = pipeline.predict_proba(X_test)[:, 1]\n",
    "\n",
    "\n",
    "        results.append({\n",
    "            'dataset': dataset['train_name'],\n",
    "            'model': model_name,\n",
    "            'train_auc': roc_auc_score(y_train, pipeline.predict_proba(X_train)[:, 1]),\n",
    "            'roc_auc': roc_auc_score(y_test, y_pred_proba)\n",
    "        })"
   ]
  },
  {
   "cell_type": "code",
   "execution_count": 16,
   "metadata": {},
   "outputs": [
    {
     "name": "stdout",
     "output_type": "stream",
     "text": [
      "Train datasets: dataset      label\n",
      "bioask       0        4098\n",
      "             1         236\n",
      "hotpotqa_en  0        2710\n",
      "             1         411\n",
      "hotpotqa_pl  0        1927\n",
      "             1         281\n",
      "nq           0        7058\n",
      "             1         972\n",
      "polqa        0        1492\n",
      "             1         377\n",
      "poquad_v2    0        5822\n",
      "             1         425\n",
      "dtype: int64\n",
      "Test datasets: dataset  label\n",
      "cnndm    0        7586\n",
      "         1         207\n",
      "dtype: int64\n"
     ]
    },
    {
     "data": {
      "text/html": [
       "Tracking run with wandb version 0.19.0"
      ],
      "text/plain": [
       "<IPython.core.display.HTML object>"
      ]
     },
     "metadata": {},
     "output_type": "display_data"
    },
    {
     "data": {
      "text/html": [
       "Run data is saved locally in <code>/net/tscratch/people/plgkonkie311/Research/notebooks/wandb/run-20241209_213043-kwca22ig</code>"
      ],
      "text/plain": [
       "<IPython.core.display.HTML object>"
      ]
     },
     "metadata": {},
     "output_type": "display_data"
    },
    {
     "data": {
      "text/html": [
       "Syncing run <strong><a href='https://wandb.ai/hallucination/hallu-sklearn/runs/kwca22ig' target=\"_blank\">jumping-wood-16</a></strong> to <a href='https://wandb.ai/hallucination/hallu-sklearn' target=\"_blank\">Weights & Biases</a> (<a href='https://wandb.me/developer-guide' target=\"_blank\">docs</a>)<br/>"
      ],
      "text/plain": [
       "<IPython.core.display.HTML object>"
      ]
     },
     "metadata": {},
     "output_type": "display_data"
    },
    {
     "data": {
      "text/html": [
       " View project at <a href='https://wandb.ai/hallucination/hallu-sklearn' target=\"_blank\">https://wandb.ai/hallucination/hallu-sklearn</a>"
      ],
      "text/plain": [
       "<IPython.core.display.HTML object>"
      ]
     },
     "metadata": {},
     "output_type": "display_data"
    },
    {
     "data": {
      "text/html": [
       " View run at <a href='https://wandb.ai/hallucination/hallu-sklearn/runs/kwca22ig' target=\"_blank\">https://wandb.ai/hallucination/hallu-sklearn/runs/kwca22ig</a>"
      ],
      "text/plain": [
       "<IPython.core.display.HTML object>"
      ]
     },
     "metadata": {},
     "output_type": "display_data"
    },
    {
     "data": {
      "text/html": [
       "\n",
       "    <style>\n",
       "        .wandb-row {\n",
       "            display: flex;\n",
       "            flex-direction: row;\n",
       "            flex-wrap: wrap;\n",
       "            justify-content: flex-start;\n",
       "            width: 100%;\n",
       "        }\n",
       "        .wandb-col {\n",
       "            display: flex;\n",
       "            flex-direction: column;\n",
       "            flex-basis: 100%;\n",
       "            flex: 1;\n",
       "            padding: 10px;\n",
       "        }\n",
       "    </style>\n",
       "<div class=\"wandb-row\"><div class=\"wandb-col\"><h3>Run history:</h3><br/><table class=\"wandb\"><tr><td>test_auc</td><td>▁</td></tr><tr><td>test_auc_std</td><td>▁</td></tr><tr><td>test_auprc</td><td>▁</td></tr><tr><td>test_auprc_std</td><td>▁</td></tr><tr><td>train_auc</td><td>▁</td></tr><tr><td>train_auc_std</td><td>▁</td></tr><tr><td>train_auprc</td><td>▁</td></tr><tr><td>train_auprc_std</td><td>▁</td></tr><tr><td>validation_auc</td><td>▁</td></tr><tr><td>validation_auc_std</td><td>▁</td></tr><tr><td>validation_auprc</td><td>▁</td></tr><tr><td>validation_auprc_std</td><td>▁</td></tr></table><br/></div><div class=\"wandb-col\"><h3>Run summary:</h3><br/><table class=\"wandb\"><tr><td>test_auc</td><td>0.46127</td></tr><tr><td>test_auc_std</td><td>0.01079</td></tr><tr><td>test_auprc</td><td>0.02433</td></tr><tr><td>test_auprc_std</td><td>0.00069</td></tr><tr><td>train_auc</td><td>0.73945</td></tr><tr><td>train_auc_std</td><td>0.00493</td></tr><tr><td>train_auprc</td><td>0.25718</td></tr><tr><td>train_auprc_std</td><td>0.00705</td></tr><tr><td>validation_auc</td><td>0.73327</td></tr><tr><td>validation_auc_std</td><td>0.02014</td></tr><tr><td>validation_auprc</td><td>0.25436</td></tr><tr><td>validation_auprc_std</td><td>0.0246</td></tr></table><br/></div></div>"
      ],
      "text/plain": [
       "<IPython.core.display.HTML object>"
      ]
     },
     "metadata": {},
     "output_type": "display_data"
    },
    {
     "data": {
      "text/html": [
       " View run <strong style=\"color:#cdcd00\">jumping-wood-16</strong> at: <a href='https://wandb.ai/hallucination/hallu-sklearn/runs/kwca22ig' target=\"_blank\">https://wandb.ai/hallucination/hallu-sklearn/runs/kwca22ig</a><br/> View project at: <a href='https://wandb.ai/hallucination/hallu-sklearn' target=\"_blank\">https://wandb.ai/hallucination/hallu-sklearn</a><br/>Synced 5 W&B file(s), 0 media file(s), 0 artifact file(s) and 3 other file(s)"
      ],
      "text/plain": [
       "<IPython.core.display.HTML object>"
      ]
     },
     "metadata": {},
     "output_type": "display_data"
    },
    {
     "data": {
      "text/html": [
       "Find logs at: <code>./wandb/run-20241209_213043-kwca22ig/logs</code>"
      ],
      "text/plain": [
       "<IPython.core.display.HTML object>"
      ]
     },
     "metadata": {},
     "output_type": "display_data"
    },
    {
     "data": {
      "text/plain": [
       "{'train_auc': 0.7394528113731648,\n",
       " 'train_auprc': 0.2571783988492045,\n",
       " 'train_auc_std': 0.0049277856751590915,\n",
       " 'train_auprc_std': 0.007053974685373899,\n",
       " 'validation_auc': 0.7332722181974926,\n",
       " 'validation_auprc': 0.25436180868907865,\n",
       " 'validation_auc_std': 0.020140528786518636,\n",
       " 'validation_auprc_std': 0.024595163860917705,\n",
       " 'test_auc': 0.4612734365746206,\n",
       " 'test_auprc': 0.024332753137335943,\n",
       " 'test_auc_std': 0.010790846190100635,\n",
       " 'test_auprc_std': 0.00068860373097293}"
      ]
     },
     "execution_count": 16,
     "metadata": {},
     "output_type": "execute_result"
    }
   ],
   "source": [
    "from golemai.ml.wandb_trainer import WandbTrainer\n",
    "\n",
    "trainer = WandbTrainer(\n",
    "    project_name=\"hallu-sklearn\",\n",
    ")\n",
    "\n",
    "\n",
    "trainer.train_model_and_evaluate_kfold(\n",
    "    pipeline,\n",
    "    df_gemma,\n",
    "    df_cnn,\n",
    "    description=\"gemma_cnn\",\n",
    ")\n"
   ]
  },
  {
   "cell_type": "code",
   "execution_count": null,
   "metadata": {},
   "outputs": [
    {
     "ename": "NameError",
     "evalue": "name 'pd' is not defined",
     "output_type": "error",
     "traceback": [
      "\u001b[0;31m---------------------------------------------------------------------------\u001b[0m",
      "\u001b[0;31mNameError\u001b[0m                                 Traceback (most recent call last)",
      "Cell \u001b[0;32mIn[9], line 1\u001b[0m\n\u001b[0;32m----> 1\u001b[0m df_results \u001b[38;5;241m=\u001b[39m \u001b[43mpd\u001b[49m\u001b[38;5;241m.\u001b[39mDataFrame(results)\n\u001b[1;32m      2\u001b[0m df_results\n",
      "\u001b[0;31mNameError\u001b[0m: name 'pd' is not defined"
     ]
    }
   ],
   "source": [
    "\n",
    "df_results = pd.DataFrame(results)\n",
    "df_results"
   ]
  },
  {
   "cell_type": "code",
   "execution_count": 90,
   "metadata": {},
   "outputs": [],
   "source": [
    "import torch\n",
    "from torch import nn\n",
    "from torch.utils.data import DataLoader, Dataset\n",
    "import lightning as L\n",
    "from sklearn.datasets import make_classification\n",
    "from sklearn.model_selection import train_test_split\n",
    "from sklearn.preprocessing import StandardScaler\n",
    "from torchmetrics.classification import AUROC\n",
    "from lightning.pytorch.callbacks import EarlyStopping\n",
    "\n",
    "# 1. Create a Synthetic Dataset\n",
    "class CustomDataset(Dataset):\n",
    "    def __init__(self, data, labels):\n",
    "        self.data = data\n",
    "        self.labels = labels\n",
    "\n",
    "    def __len__(self):\n",
    "        return len(self.data)\n",
    "\n",
    "    def __getitem__(self, idx):\n",
    "        return torch.tensor(self.data[idx], dtype=torch.float32), torch.tensor(self.labels[idx], dtype=torch.long)\n",
    "\n",
    "\n",
    "# 2. Define the LSTM Model\n",
    "class LSTMModel(nn.Module):\n",
    "    def __init__(self, input_dim, hidden_dim, output_dim, num_layers=1):\n",
    "        super().__init__()\n",
    "        self.lstm = nn.LSTM(input_dim, hidden_dim, num_layers, batch_first=True)\n",
    "        self.fc = nn.Linear(hidden_dim, output_dim)\n",
    "        self.hidden_dim = hidden_dim\n",
    "\n",
    "    def forward(self, x):\n",
    "        x = x.unsqueeze(1)  # (batch_size, seq_len, input_dim)\n",
    "        _, (hn, _) = self.lstm(x)  # hn is (num_layers, batch_size, hidden_dim)\n",
    "        out = self.fc(hn[-1])  # Use the last layer's hidden state\n",
    "        return out\n",
    "\n",
    "# 3. Create the Lightning Module\n",
    "class LSTMClassifier(L.LightningModule):\n",
    "    def __init__(self, input_dim, hidden_dim, output_dim, lr=5e-4, num_layers=1):\n",
    "        super().__init__()\n",
    "        self.model = LSTMModel(input_dim, hidden_dim, output_dim, num_layers=num_layers)\n",
    "        self.criterion = nn.CrossEntropyLoss()\n",
    "        self.lr = lr\n",
    "\n",
    "        # AUROC metric for binary classification\n",
    "        self.train_auc = AUROC(task=\"binary\")\n",
    "        self.val_auc = AUROC(task=\"binary\")\n",
    "\n",
    "    def forward(self, x):\n",
    "        return self.model(x)\n",
    "\n",
    "    def training_step(self, batch, batch_idx):\n",
    "        data, labels = batch\n",
    "        preds = self(data)\n",
    "        loss = self.criterion(preds, labels)\n",
    "        # Calculate AUC during training\n",
    "        prob = torch.softmax(preds, dim=1)[:, 1]  # Take probabilities for class 1\n",
    "        auc = self.train_auc(prob, labels)\n",
    "        self.log(\"train_loss\", loss, on_step=False, on_epoch=True, prog_bar=True)\n",
    "        self.log(\"train_auc\", auc, on_step=False, on_epoch=True, prog_bar=True)\n",
    "        return loss\n",
    "\n",
    "    def validation_step(self, batch, batch_idx):\n",
    "        data, labels = batch\n",
    "        preds = self(data)\n",
    "        loss = self.criterion(preds, labels)\n",
    "        # Calculate AUC during validation\n",
    "        prob = torch.softmax(preds, dim=1)[:, 1]  # Take probabilities for class 1\n",
    "        auc = self.val_auc(prob, labels)\n",
    "        self.log(\"val_loss\", loss, prog_bar=True)\n",
    "        self.log(\"val_auc\", auc, prog_bar=True)\n",
    "        return loss\n",
    "\n",
    "    def configure_optimizers(self):\n",
    "        return torch.optim.Adam(self.parameters(), lr=self.lr)\n",
    "\n",
    "\n"
   ]
  },
  {
   "cell_type": "code",
   "execution_count": null,
   "metadata": {},
   "outputs": [
    {
     "name": "stderr",
     "output_type": "stream",
     "text": [
      "GPU available: True (cuda), used: True\n",
      "TPU available: False, using: 0 TPU cores\n",
      "HPU available: False, using: 0 HPUs\n",
      "LOCAL_RANK: 0 - CUDA_VISIBLE_DEVICES: [0]\n",
      "\n",
      "  | Name      | Type             | Params | Mode \n",
      "-------------------------------------------------------\n",
      "0 | model     | LSTMModel        | 5.3 M  | train\n",
      "1 | criterion | CrossEntropyLoss | 0      | train\n",
      "2 | train_auc | BinaryAUROC      | 0      | train\n",
      "3 | val_auc   | BinaryAUROC      | 0      | train\n",
      "-------------------------------------------------------\n",
      "5.3 M     Trainable params\n",
      "0         Non-trainable params\n",
      "5.3 M     Total params\n",
      "21.361    Total estimated model params size (MB)\n",
      "6         Modules in train mode\n",
      "0         Modules in eval mode\n",
      "SLURM auto-requeueing enabled. Setting signal handlers.\n"
     ]
    },
    {
     "name": "stdout",
     "output_type": "stream",
     "text": [
      "                                                                            "
     ]
    },
    {
     "name": "stderr",
     "output_type": "stream",
     "text": [
      "/net/tscratch/people/plgkonkie311/miniconda3/envs/hallu/lib/python3.10/site-packages/lightning/pytorch/trainer/connectors/data_connector.py:424: The 'val_dataloader' does not have many workers which may be a bottleneck. Consider increasing the value of the `num_workers` argument` to `num_workers=39` in the `DataLoader` to improve performance.\n",
      "/net/tscratch/people/plgkonkie311/miniconda3/envs/hallu/lib/python3.10/site-packages/lightning/pytorch/trainer/connectors/data_connector.py:424: The 'train_dataloader' does not have many workers which may be a bottleneck. Consider increasing the value of the `num_workers` argument` to `num_workers=39` in the `DataLoader` to improve performance.\n"
     ]
    },
    {
     "name": "stdout",
     "output_type": "stream",
     "text": [
      "Epoch 0:   8%|▊         | 68/807 [00:00<00:04, 152.73it/s, v_num=35]"
     ]
    },
    {
     "name": "stderr",
     "output_type": "stream",
     "text": [
      "/net/tscratch/people/plgkonkie311/miniconda3/envs/hallu/lib/python3.10/site-packages/torchmetrics/utilities/prints.py:43: UserWarning: No positive samples in targets, true positive value should be meaningless. Returning zero tensor in true positive score\n",
      "  warnings.warn(*args, **kwargs)  # noqa: B028\n"
     ]
    },
    {
     "name": "stdout",
     "output_type": "stream",
     "text": [
      "Epoch 2:  61%|██████▏   | 124/202 [01:31<00:57,  1.35it/s, v_num=33, val_loss=0.163, val_auc=0.283, train_loss=0.304, train_auc=0.717]\n",
      "Epoch 0: 100%|██████████| 807/807 [00:13<00:00, 58.42it/s, v_num=35, val_loss=0.129, val_auc=0.339, train_loss=0.317, train_auc=0.673]"
     ]
    },
    {
     "name": "stderr",
     "output_type": "stream",
     "text": [
      "Metric val_loss improved. New best score: 0.129\n"
     ]
    },
    {
     "name": "stdout",
     "output_type": "stream",
     "text": [
      "Epoch 1: 100%|██████████| 807/807 [00:31<00:00, 25.53it/s, v_num=35, val_loss=0.124, val_auc=0.379, train_loss=0.305, train_auc=0.699]"
     ]
    },
    {
     "name": "stderr",
     "output_type": "stream",
     "text": [
      "Metric val_loss improved by 0.005 >= min_delta = 0.0. New best score: 0.124\n"
     ]
    },
    {
     "name": "stdout",
     "output_type": "stream",
     "text": [
      "Epoch 4: 100%|██████████| 807/807 [01:29<00:00,  8.99it/s, v_num=35, val_loss=0.134, val_auc=0.304, train_loss=0.295, train_auc=0.727]"
     ]
    },
    {
     "name": "stderr",
     "output_type": "stream",
     "text": [
      "Monitored metric val_loss did not improve in the last 3 records. Best score: 0.124. Signaling Trainer to stop.\n"
     ]
    },
    {
     "name": "stdout",
     "output_type": "stream",
     "text": [
      "Epoch 4: 100%|██████████| 807/807 [01:29<00:00,  8.98it/s, v_num=35, val_loss=0.134, val_auc=0.304, train_loss=0.295, train_auc=0.727]\n"
     ]
    }
   ],
   "source": [
    "from sklearn.preprocessing import RobustScaler\n",
    "\n",
    "\n",
    "X_train = df_gemma.drop(columns=['label', 'dataset'])\n",
    "y_train = df_gemma['label']\n",
    "\n",
    "X_val = df_cnn.drop(columns=['label', 'dataset'])\n",
    "y_val = df_cnn['label']\n",
    "\n",
    "scaler = RobustScaler()\n",
    "\n",
    "X_train_normalized = scaler.fit_transform(X_train)\n",
    "\n",
    "X_val_normalized = scaler.transform(X_val)\n",
    "\n",
    "train_dataset = CustomDataset(X_train_normalized, y_train)\n",
    "val_dataset = CustomDataset(X_val_normalized, y_val)\n",
    "\n",
    "train_loader = DataLoader(train_dataset, batch_size=32, shuffle=True)\n",
    "val_loader = DataLoader(val_dataset, batch_size=128, shuffle=False)\n",
    "\n",
    "# 4. Train the Model\n",
    "input_dim = X_train.shape[1]\n",
    "hidden_dim = 512\n",
    "output_dim = 2\n",
    "\n",
    "\n",
    "model = LSTMClassifier(input_dim=input_dim, hidden_dim=hidden_dim, output_dim=output_dim, lr=5e-4, num_layers=3)\n",
    "\n",
    "# 1. Set up EarlyStopping callback\n",
    "early_stop_callback = EarlyStopping(\n",
    "    monitor=\"val_loss\",  # The metric to monitor\n",
    "    patience=3,          # Number of epochs with no improvement after which training will stop\n",
    "    verbose=True,        # Display a message when stopping\n",
    "    mode=\"min\",          # Minimize the monitored metric (for loss)\n",
    ")\n",
    "\n",
    "# 2. Initialize the Trainer with the early stopping callback\n",
    "trainer = L.Trainer(\n",
    "    max_epochs=100,\n",
    "    accelerator=\"gpu\" if torch.cuda.is_available() else \"cpu\",\n",
    "    log_every_n_steps=10,\n",
    "    callbacks=[early_stop_callback],  # Add the early stopping callback here\n",
    ")\n",
    "\n",
    "# 3. Start the training\n",
    "trainer.fit(model, train_loader, val_loader)\n",
    "\n"
   ]
  },
  {
   "cell_type": "code",
   "execution_count": null,
   "metadata": {},
   "outputs": [],
   "source": []
  },
  {
   "cell_type": "code",
   "execution_count": null,
   "metadata": {},
   "outputs": [],
   "source": []
  },
  {
   "cell_type": "code",
   "execution_count": null,
   "metadata": {},
   "outputs": [],
   "source": []
  }
 ],
 "metadata": {
  "kernelspec": {
   "display_name": "hallu",
   "language": "python",
   "name": "python3"
  },
  "language_info": {
   "codemirror_mode": {
    "name": "ipython",
    "version": 3
   },
   "file_extension": ".py",
   "mimetype": "text/x-python",
   "name": "python",
   "nbconvert_exporter": "python",
   "pygments_lexer": "ipython3",
   "version": "3.10.11"
  }
 },
 "nbformat": 4,
 "nbformat_minor": 2
}
