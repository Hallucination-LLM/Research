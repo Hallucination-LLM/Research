{
 "cells": [
  {
   "cell_type": "code",
   "execution_count": 1,
   "metadata": {},
   "outputs": [
    {
     "name": "stderr",
     "output_type": "stream",
     "text": [
      "/home/pim/miniconda3/envs/test/lib/python3.10/site-packages/tqdm/auto.py:21: TqdmWarning: IProgress not found. Please update jupyter and ipywidgets. See https://ipywidgets.readthedocs.io/en/stable/user_install.html\n",
      "  from .autonotebook import tqdm as notebook_tqdm\n"
     ]
    }
   ],
   "source": [
    "from transformers import AutoTokenizer, AutoModelForCausalLM\n",
    "import torch"
   ]
  },
  {
   "cell_type": "code",
   "execution_count": 2,
   "metadata": {},
   "outputs": [],
   "source": [
    "MODEL_ID = \"microsoft/Phi-3.5-mini-instruct\"\n",
    "DEVICE = \"cuda\" if torch.cuda.is_available() else \"cpu\""
   ]
  },
  {
   "cell_type": "code",
   "execution_count": 3,
   "metadata": {},
   "outputs": [
    {
     "name": "stderr",
     "output_type": "stream",
     "text": [
      "Loading checkpoint shards: 100%|██████████| 2/2 [00:00<00:00, 15.07it/s]\n"
     ]
    }
   ],
   "source": [
    "tokenizer = AutoTokenizer.from_pretrained(MODEL_ID, trust_remote_code=True)\n",
    "model = AutoModelForCausalLM.from_pretrained(MODEL_ID, trust_remote_code=True, torch_dtype=\"auto\").to(DEVICE)"
   ]
  },
  {
   "cell_type": "code",
   "execution_count": 37,
   "metadata": {},
   "outputs": [],
   "source": [
    "input_text = \"Bazując na kontekście odpowiedz na pytania - nie używaj swojej wiedzy wewnętrznej. \\\n",
    "    `TEXT`: 'Korona Kielce nigdy nie wygrała ekstraklasy. W 2012 roku zdobyła swoje najwyższe 5 miejsce w historii.' \\\n",
    "    `QUERY`: W którym roku Korona Kielce wygrała ekstraklasę? Podaj tylko rok.\"\n",
    "\n",
    "input_ids = tokenizer(input_text, return_tensors=\"pt\").to(DEVICE)"
   ]
  },
  {
   "cell_type": "code",
   "execution_count": 5,
   "metadata": {},
   "outputs": [],
   "source": [
    "inverted_tokenizer = {v: k for k, v in tokenizer.get_vocab().items()}"
   ]
  },
  {
   "cell_type": "code",
   "execution_count": 52,
   "metadata": {},
   "outputs": [
    {
     "data": {
      "text/plain": [
       "107"
      ]
     },
     "execution_count": 52,
     "metadata": {},
     "output_type": "execute_result"
    }
   ],
   "source": [
    "len(input_ids[\"input_ids\"][0])"
   ]
  },
  {
   "cell_type": "code",
   "execution_count": 48,
   "metadata": {},
   "outputs": [],
   "source": [
    "pred = model.forward(\n",
    "    input_ids=input_ids.get(\"input_ids\"),\n",
    "    attention_mask=input_ids.get(\"attention_mask\"),\n",
    "    output_attentions=True,\n",
    ")"
   ]
  },
  {
   "cell_type": "code",
   "execution_count": 61,
   "metadata": {},
   "outputs": [
    {
     "data": {
      "text/plain": [
       "torch.Size([107, 107])"
      ]
     },
     "execution_count": 61,
     "metadata": {},
     "output_type": "execute_result"
    }
   ],
   "source": [
    "pred.attentions[-1].squeeze()[-1].shape"
   ]
  },
  {
   "cell_type": "code",
   "execution_count": 66,
   "metadata": {},
   "outputs": [
    {
     "name": "stderr",
     "output_type": "stream",
     "text": [
      "/home/pim/miniconda3/envs/test/lib/python3.10/site-packages/transformers/generation/configuration_utils.py:567: UserWarning: `do_sample` is set to `False`. However, `temperature` is set to `0.0` -- this flag is only used in sample-based generation modes. You should set `do_sample=True` or unset `temperature`.\n",
      "  warnings.warn(\n"
     ]
    }
   ],
   "source": [
    "output = model.generate(\n",
    "    **input_ids,\n",
    "    output_attentions=True,\n",
    "    max_new_tokens=50,\n",
    "    # dola_layers='low',\n",
    "    # repetition_penalty=1.2,\n",
    "    temperature=0.0,\n",
    "    use_cache=False,\n",
    "    return_dict_in_generate=True\n",
    ")"
   ]
  },
  {
   "cell_type": "code",
   "execution_count": 67,
   "metadata": {},
   "outputs": [
    {
     "data": {
      "text/plain": [
       "'#### Response:\\n2012\\n\\n\\n<|endoftext|>'"
      ]
     },
     "execution_count": 67,
     "metadata": {},
     "output_type": "execute_result"
    }
   ],
   "source": [
    "tokenizer.decode(output.sequences[0])[len(input_text):].strip()"
   ]
  },
  {
   "cell_type": "code",
   "execution_count": 68,
   "metadata": {},
   "outputs": [
    {
     "data": {
      "text/plain": [
       "tensor([[  350, 13581, 23341,  1055,  4139, 12681, 18391,  2413, 12248, 16426,\n",
       "          1055,   282,  3637,  4807,   448,  4930,   318, 30042,  5693,  1175,\n",
       "         16768,  1324, 29926,   281,  1000,  1537,   591,  1233, 30023, 11615,\n",
       "          6197, 29889,   268,   421, 16975,  6998,   525, 29968,   272,  2681,\n",
       "           476,   709,   346,   302,   335,  4518,  4930,  5018,  3874,  4065,\n",
       "         14921,  4151, 29895,  3333, 29891, 29889,   399, 29871, 29906, 29900,\n",
       "         29896, 29906,  4042, 26853,  4065, 16768,  1324,  8823, 12822, 29267,\n",
       "           911, 29871, 29945, 16045,   281,  3603,  2236,  6169,   268,   421,\n",
       "         13356, 24422,  6998,   399, 11593, 29885,  4042, 12555,  2681,   476,\n",
       "           709,   346,  5018,  3874,  4065, 14921,  4151, 29895,  3333, 30023,\n",
       "         29973,  8594,  1175, 28918,  2901, 28159, 29889]], device='cuda:0')"
      ]
     },
     "execution_count": 68,
     "metadata": {},
     "output_type": "execute_result"
    }
   ],
   "source": [
    "input_ids[\"input_ids\"]"
   ]
  },
  {
   "cell_type": "code",
   "execution_count": 69,
   "metadata": {},
   "outputs": [
    {
     "name": "stdout",
     "output_type": "stream",
     "text": [
      "0. token = <0x0A>\n",
      "1. token = <0x0A>\n",
      "2. token = ####\n",
      "3. token = ▁Response\n",
      "4. token = :\n",
      "5. token = <0x0A>\n",
      "6. token = 2\n",
      "7. token = 0\n",
      "8. token = 1\n",
      "9. token = 2\n",
      "10. token = <0x0A>\n",
      "11. token = <0x0A>\n",
      "12. token = <0x0A>\n",
      "13. token = <|endoftext|>\n"
     ]
    }
   ],
   "source": [
    "for i, tok_id in enumerate(output.sequences[0][len(input_ids[\"input_ids\"][0]):]):\n",
    "    print(f'{i}. token = {inverted_tokenizer[tok_id.item()]}')"
   ]
  },
  {
   "cell_type": "code",
   "execution_count": 73,
   "metadata": {},
   "outputs": [
    {
     "data": {
      "text/plain": [
       "tensor([[1.0000e+00, 0.0000e+00, 0.0000e+00,  ..., 0.0000e+00, 0.0000e+00,\n",
       "         0.0000e+00],\n",
       "        [9.0234e-01, 9.7168e-02, 0.0000e+00,  ..., 0.0000e+00, 0.0000e+00,\n",
       "         0.0000e+00],\n",
       "        [6.0547e-01, 4.0527e-02, 3.5547e-01,  ..., 0.0000e+00, 0.0000e+00,\n",
       "         0.0000e+00],\n",
       "        ...,\n",
       "        [2.9883e-01, 8.2016e-05, 5.4598e-05,  ..., 1.6992e-01, 0.0000e+00,\n",
       "         0.0000e+00],\n",
       "        [1.1133e-01, 2.6822e-05, 1.7262e-04,  ..., 1.6211e-01, 2.5781e-01,\n",
       "         0.0000e+00],\n",
       "        [7.0801e-02, 4.9591e-05, 7.1049e-05,  ..., 1.3281e-01, 2.4707e-01,\n",
       "         3.1836e-01]], device='cuda:0', dtype=torch.bfloat16)"
      ]
     },
     "execution_count": 73,
     "metadata": {},
     "output_type": "execute_result"
    }
   ],
   "source": [
    "output.attentions[6][-1].squeeze()[-1]"
   ]
  },
  {
   "cell_type": "code",
   "execution_count": 16,
   "metadata": {},
   "outputs": [
    {
     "data": {
      "text/plain": [
       "torch.Size([32064, 3072])"
      ]
     },
     "execution_count": 16,
     "metadata": {},
     "output_type": "execute_result"
    }
   ],
   "source": [
    "model.state_dict().get('model.embed_tokens.weight').to('cpu').shape"
   ]
  },
  {
   "cell_type": "code",
   "execution_count": 21,
   "metadata": {},
   "outputs": [
    {
     "data": {
      "text/plain": [
       "32000"
      ]
     },
     "execution_count": 21,
     "metadata": {},
     "output_type": "execute_result"
    }
   ],
   "source": [
    "tokenizer.vocab_size"
   ]
  },
  {
   "cell_type": "code",
   "execution_count": 20,
   "metadata": {},
   "outputs": [
    {
     "data": {
      "text/plain": [
       "torch.Size([32064, 3072])"
      ]
     },
     "execution_count": 20,
     "metadata": {},
     "output_type": "execute_result"
    }
   ],
   "source": [
    "model.state_dict()['lm_head.weight'].shape"
   ]
  },
  {
   "cell_type": "code",
   "execution_count": 7,
   "metadata": {},
   "outputs": [
    {
     "data": {
      "text/plain": [
       "torch.Size([1, 32, 24, 24])"
      ]
     },
     "execution_count": 7,
     "metadata": {},
     "output_type": "execute_result"
    }
   ],
   "source": [
    "pred.attentions[-1].shape"
   ]
  }
 ],
 "metadata": {
  "kernelspec": {
   "display_name": "test",
   "language": "python",
   "name": "python3"
  },
  "language_info": {
   "codemirror_mode": {
    "name": "ipython",
    "version": 3
   },
   "file_extension": ".py",
   "mimetype": "text/x-python",
   "name": "python",
   "nbconvert_exporter": "python",
   "pygments_lexer": "ipython3",
   "version": "3.10.11"
  }
 },
 "nbformat": 4,
 "nbformat_minor": 2
}
