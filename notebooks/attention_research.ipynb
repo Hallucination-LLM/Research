{
 "cells": [
  {
   "cell_type": "code",
   "execution_count": 1,
   "metadata": {},
   "outputs": [],
   "source": [
    "import os\n",
    "os.environ[\"CUDA_VISIBLE_DEVICES\"] = \"1\"\n",
    "os.environ['TOKENIZERS_PARALLELISM'] = 'false'\n",
    "os.environ[\"PYTORCH_CUDA_ALLOC_CONF\"] = \"expandable_segments:True\""
   ]
  },
  {
   "cell_type": "code",
   "execution_count": 2,
   "metadata": {
    "execution": {
     "iopub.execute_input": "2024-08-25T07:36:13.808050Z",
     "iopub.status.busy": "2024-08-25T07:36:13.807429Z",
     "iopub.status.idle": "2024-08-25T07:36:17.927601Z",
     "shell.execute_reply": "2024-08-25T07:36:17.926713Z",
     "shell.execute_reply.started": "2024-08-25T07:36:13.808010Z"
    },
    "trusted": true
   },
   "outputs": [],
   "source": [
    "import torch\n",
    "from dotenv import load_dotenv\n",
    "from transformers import AutoTokenizer, AutoModelForCausalLM, BitsAndBytesConfig, GenerationConfig\n",
    "import pandas as pd\n",
    "import numpy as np\n",
    "from IPython.display import display, Markdown\n",
    "from copy import deepcopy\n",
    "import seaborn as sns\n",
    "import matplotlib.pyplot as plt"
   ]
  },
  {
   "cell_type": "markdown",
   "metadata": {},
   "source": [
    "### This package will be included in our repo, but it is only a prompt template"
   ]
  },
  {
   "cell_type": "code",
   "execution_count": 3,
   "metadata": {},
   "outputs": [],
   "source": [
    "from golemai.nlp.prompts import QUERY_INTRO_NO_ANS, SYSTEM_MSG_RAG, SYSTEM_MSG_RAG_SHORT\n",
    "from golemai.nlp.llm_module import prepare_prompt"
   ]
  },
  {
   "cell_type": "code",
   "execution_count": null,
   "metadata": {},
   "outputs": [
    {
     "data": {
      "text/plain": [
       "(True, True)"
      ]
     },
     "execution_count": 4,
     "metadata": {},
     "output_type": "execute_result"
    }
   ],
   "source": [
    "load_dotenv(), torch.cuda.is_available()"
   ]
  },
  {
   "cell_type": "code",
   "execution_count": 5,
   "metadata": {},
   "outputs": [],
   "source": [
    "DATA_DIR = 'data'\n",
    "DATASET_FILE = 'new_version_sample_1500.parquet'\n",
    "QUESTION_COL = 'question'\n",
    "CONTEXT_COL = 'context'\n",
    "ANSWER_COL = 'answer'"
   ]
  },
  {
   "cell_type": "code",
   "execution_count": 6,
   "metadata": {
    "execution": {
     "iopub.execute_input": "2024-08-25T07:36:17.936446Z",
     "iopub.status.busy": "2024-08-25T07:36:17.936092Z",
     "iopub.status.idle": "2024-08-25T07:36:17.971809Z",
     "shell.execute_reply": "2024-08-25T07:36:17.970933Z",
     "shell.execute_reply.started": "2024-08-25T07:36:17.936406Z"
    },
    "trusted": true
   },
   "outputs": [],
   "source": [
    "device = \"cuda\" if torch.cuda.is_available() else \"cpu\"\n",
    "dataset_path = os.path.join(\"..\", DATA_DIR, DATASET_FILE)"
   ]
  },
  {
   "cell_type": "code",
   "execution_count": 7,
   "metadata": {},
   "outputs": [],
   "source": [
    "df = pd.read_parquet(dataset_path)"
   ]
  },
  {
   "cell_type": "code",
   "execution_count": 8,
   "metadata": {},
   "outputs": [
    {
     "data": {
      "text/plain": [
       "nq             438\n",
       "poquad_v2      362\n",
       "hotpotqa_en    253\n",
       "polqa          171\n",
       "hotpotqa_pl    155\n",
       "bioask         121\n",
       "Name: dataset, dtype: int64"
      ]
     },
     "execution_count": 8,
     "metadata": {},
     "output_type": "execute_result"
    }
   ],
   "source": [
    "df['dataset'].value_counts()"
   ]
  },
  {
   "cell_type": "code",
   "execution_count": 9,
   "metadata": {},
   "outputs": [
    {
     "data": {
      "text/html": [
       "<div>\n",
       "<style scoped>\n",
       "    .dataframe tbody tr th:only-of-type {\n",
       "        vertical-align: middle;\n",
       "    }\n",
       "\n",
       "    .dataframe tbody tr th {\n",
       "        vertical-align: top;\n",
       "    }\n",
       "\n",
       "    .dataframe thead th {\n",
       "        text-align: right;\n",
       "    }\n",
       "</style>\n",
       "<table border=\"1\" class=\"dataframe\">\n",
       "  <thead>\n",
       "    <tr style=\"text-align: right;\">\n",
       "      <th></th>\n",
       "      <th>id</th>\n",
       "      <th>dataset</th>\n",
       "      <th>question</th>\n",
       "      <th>answer</th>\n",
       "      <th>context</th>\n",
       "    </tr>\n",
       "  </thead>\n",
       "  <tbody>\n",
       "    <tr>\n",
       "      <th>4172</th>\n",
       "      <td>polqa_2503</td>\n",
       "      <td>polqa</td>\n",
       "      <td>Ile okrętów w 1588 r. liczyła Wielka Armada: 1...</td>\n",
       "      <td>130</td>\n",
       "      <td>`Dokument [1]:` 18 sierpnia królowa dokonała p...</td>\n",
       "    </tr>\n",
       "    <tr>\n",
       "      <th>1895</th>\n",
       "      <td>poquad_v2_4138</td>\n",
       "      <td>poquad_v2</td>\n",
       "      <td>Po ilu dniach od premiery jego utwór \"Psycho\" ...</td>\n",
       "      <td>Nie mogę udzielić odpowiedzi na to pytanie na ...</td>\n",
       "      <td>`Dokument [ \"Post Malone\" ]:` 20 lutego 2018 r...</td>\n",
       "    </tr>\n",
       "    <tr>\n",
       "      <th>5511</th>\n",
       "      <td>hotpotqa_en_5a85b16f5542991dd0999e8d</td>\n",
       "      <td>hotpotqa_en</td>\n",
       "      <td>Raja Rajendra is a 2015 Kannada comedy film th...</td>\n",
       "      <td>Ishita Dutta</td>\n",
       "      <td>`Dokument [ \"Ouija (2015 film)\" ]:` Ouija (als...</td>\n",
       "    </tr>\n",
       "    <tr>\n",
       "      <th>3427</th>\n",
       "      <td>hotpotqa_pl_5adfed45554299603e4183c5</td>\n",
       "      <td>hotpotqa_pl</td>\n",
       "      <td>Jakie jest wspólne zajęcie Sidney'ego Lumeta i...</td>\n",
       "      <td>scenarzystka</td>\n",
       "      <td>`Dokument [ \"Gotham Independent Film Awards 19...</td>\n",
       "    </tr>\n",
       "    <tr>\n",
       "      <th>2095</th>\n",
       "      <td>poquad_v2_48248</td>\n",
       "      <td>poquad_v2</td>\n",
       "      <td>W jakim programie telewizyjnym wystąpiła jako ...</td>\n",
       "      <td>Nie mogę udzielić odpowiedzi na to pytanie na ...</td>\n",
       "      <td>`Dokument [ \"Joanna Jędrzejczyk\" ]:` Od 2012 z...</td>\n",
       "    </tr>\n",
       "    <tr>\n",
       "      <th>...</th>\n",
       "      <td>...</td>\n",
       "      <td>...</td>\n",
       "      <td>...</td>\n",
       "      <td>...</td>\n",
       "      <td>...</td>\n",
       "    </tr>\n",
       "    <tr>\n",
       "      <th>1924</th>\n",
       "      <td>poquad_v2_33786</td>\n",
       "      <td>poquad_v2</td>\n",
       "      <td>Jaka tradycja została zapoczątkowana w XVIII w...</td>\n",
       "      <td>Nie mogę udzielić odpowiedzi na to pytanie na ...</td>\n",
       "      <td>`Dokument [ \"Bridgwater\" ]:` W roku 1487 król ...</td>\n",
       "    </tr>\n",
       "    <tr>\n",
       "      <th>962</th>\n",
       "      <td>nq_1431</td>\n",
       "      <td>nq</td>\n",
       "      <td>how many levels are there on the eiffel tower</td>\n",
       "      <td>three</td>\n",
       "      <td>`Dokument [ \"Eiffel Tower\" ]:` a seasonal ice ...</td>\n",
       "    </tr>\n",
       "    <tr>\n",
       "      <th>4191</th>\n",
       "      <td>hotpotqa_pl_5abd0d635542992ac4f381b8</td>\n",
       "      <td>hotpotqa_pl</td>\n",
       "      <td>Ile dni zajęło laureatowi nagrody dla Najlepsz...</td>\n",
       "      <td>29</td>\n",
       "      <td>`Dokument [ \"List of Billboard 200 number-one ...</td>\n",
       "    </tr>\n",
       "    <tr>\n",
       "      <th>3601</th>\n",
       "      <td>polqa_2593</td>\n",
       "      <td>polqa</td>\n",
       "      <td>Jak nazywa się polski reżyser, mąż Jadwigi Bar...</td>\n",
       "      <td>Jerzy Antczak</td>\n",
       "      <td>`Dokument [1]:` Albina Barańska, również jako ...</td>\n",
       "    </tr>\n",
       "    <tr>\n",
       "      <th>536</th>\n",
       "      <td>nq_781</td>\n",
       "      <td>nq</td>\n",
       "      <td>where is the world cup being held 2018</td>\n",
       "      <td>Russia</td>\n",
       "      <td>`Dokument [ \"Australia 2022 FIFA World Cup bid...</td>\n",
       "    </tr>\n",
       "  </tbody>\n",
       "</table>\n",
       "<p>1500 rows × 5 columns</p>\n",
       "</div>"
      ],
      "text/plain": [
       "                                        id      dataset  \\\n",
       "4172                            polqa_2503        polqa   \n",
       "1895                        poquad_v2_4138    poquad_v2   \n",
       "5511  hotpotqa_en_5a85b16f5542991dd0999e8d  hotpotqa_en   \n",
       "3427  hotpotqa_pl_5adfed45554299603e4183c5  hotpotqa_pl   \n",
       "2095                       poquad_v2_48248    poquad_v2   \n",
       "...                                    ...          ...   \n",
       "1924                       poquad_v2_33786    poquad_v2   \n",
       "962                                nq_1431           nq   \n",
       "4191  hotpotqa_pl_5abd0d635542992ac4f381b8  hotpotqa_pl   \n",
       "3601                            polqa_2593        polqa   \n",
       "536                                 nq_781           nq   \n",
       "\n",
       "                                               question  \\\n",
       "4172  Ile okrętów w 1588 r. liczyła Wielka Armada: 1...   \n",
       "1895  Po ilu dniach od premiery jego utwór \"Psycho\" ...   \n",
       "5511  Raja Rajendra is a 2015 Kannada comedy film th...   \n",
       "3427  Jakie jest wspólne zajęcie Sidney'ego Lumeta i...   \n",
       "2095  W jakim programie telewizyjnym wystąpiła jako ...   \n",
       "...                                                 ...   \n",
       "1924  Jaka tradycja została zapoczątkowana w XVIII w...   \n",
       "962       how many levels are there on the eiffel tower   \n",
       "4191  Ile dni zajęło laureatowi nagrody dla Najlepsz...   \n",
       "3601  Jak nazywa się polski reżyser, mąż Jadwigi Bar...   \n",
       "536              where is the world cup being held 2018   \n",
       "\n",
       "                                                 answer  \\\n",
       "4172                                                130   \n",
       "1895  Nie mogę udzielić odpowiedzi na to pytanie na ...   \n",
       "5511                                       Ishita Dutta   \n",
       "3427                                       scenarzystka   \n",
       "2095  Nie mogę udzielić odpowiedzi na to pytanie na ...   \n",
       "...                                                 ...   \n",
       "1924  Nie mogę udzielić odpowiedzi na to pytanie na ...   \n",
       "962                                               three   \n",
       "4191                                                 29   \n",
       "3601                                      Jerzy Antczak   \n",
       "536                                              Russia   \n",
       "\n",
       "                                                context  \n",
       "4172  `Dokument [1]:` 18 sierpnia królowa dokonała p...  \n",
       "1895  `Dokument [ \"Post Malone\" ]:` 20 lutego 2018 r...  \n",
       "5511  `Dokument [ \"Ouija (2015 film)\" ]:` Ouija (als...  \n",
       "3427  `Dokument [ \"Gotham Independent Film Awards 19...  \n",
       "2095  `Dokument [ \"Joanna Jędrzejczyk\" ]:` Od 2012 z...  \n",
       "...                                                 ...  \n",
       "1924  `Dokument [ \"Bridgwater\" ]:` W roku 1487 król ...  \n",
       "962   `Dokument [ \"Eiffel Tower\" ]:` a seasonal ice ...  \n",
       "4191  `Dokument [ \"List of Billboard 200 number-one ...  \n",
       "3601  `Dokument [1]:` Albina Barańska, również jako ...  \n",
       "536   `Dokument [ \"Australia 2022 FIFA World Cup bid...  \n",
       "\n",
       "[1500 rows x 5 columns]"
      ]
     },
     "execution_count": 9,
     "metadata": {},
     "output_type": "execute_result"
    }
   ],
   "source": [
    "df"
   ]
  },
  {
   "cell_type": "code",
   "execution_count": 10,
   "metadata": {},
   "outputs": [],
   "source": [
    "df['context_length'] = df['context'].apply(lambda x: len(x.split()) if x else 0)"
   ]
  },
  {
   "cell_type": "markdown",
   "metadata": {},
   "source": [
    "### Taking some samples for which the answer is wrong and check the attentions what went wrong"
   ]
  },
  {
   "cell_type": "code",
   "execution_count": 11,
   "metadata": {},
   "outputs": [
    {
     "data": {
      "text/html": [
       "<div>\n",
       "<style scoped>\n",
       "    .dataframe tbody tr th:only-of-type {\n",
       "        vertical-align: middle;\n",
       "    }\n",
       "\n",
       "    .dataframe tbody tr th {\n",
       "        vertical-align: top;\n",
       "    }\n",
       "\n",
       "    .dataframe thead th {\n",
       "        text-align: right;\n",
       "    }\n",
       "</style>\n",
       "<table border=\"1\" class=\"dataframe\">\n",
       "  <thead>\n",
       "    <tr style=\"text-align: right;\">\n",
       "      <th></th>\n",
       "      <th>id</th>\n",
       "      <th>dataset</th>\n",
       "      <th>question</th>\n",
       "      <th>answer</th>\n",
       "      <th>context</th>\n",
       "      <th>context_length</th>\n",
       "    </tr>\n",
       "  </thead>\n",
       "  <tbody>\n",
       "    <tr>\n",
       "      <th>5914</th>\n",
       "      <td>bioask_966</td>\n",
       "      <td>bioask</td>\n",
       "      <td>Opisz zastosowanie oprogramowania Theatre do a...</td>\n",
       "      <td>Theatre to internetowy system obliczeniowy prz...</td>\n",
       "      <td>`Dokument [1]:` nan</td>\n",
       "      <td>3</td>\n",
       "    </tr>\n",
       "    <tr>\n",
       "      <th>6003</th>\n",
       "      <td>bioask_864</td>\n",
       "      <td>bioask</td>\n",
       "      <td>Które pakiety są używane do przeprowadzania an...</td>\n",
       "      <td>IRanges, GenomicRanges i GenomicFeatures zapew...</td>\n",
       "      <td>`Dokument [1]:` nan</td>\n",
       "      <td>3</td>\n",
       "    </tr>\n",
       "    <tr>\n",
       "      <th>6050</th>\n",
       "      <td>bioask_4</td>\n",
       "      <td>bioask</td>\n",
       "      <td>Czy metformina zaburza wchłanianie tyroksyny?</td>\n",
       "      <td>Nie. Nie zgłoszono danych wskazujących, że met...</td>\n",
       "      <td>`Dokument [1]:` nan</td>\n",
       "      <td>3</td>\n",
       "    </tr>\n",
       "    <tr>\n",
       "      <th>6143</th>\n",
       "      <td>bioask_608</td>\n",
       "      <td>bioask</td>\n",
       "      <td>Która fosfataza białkowa oddziałuje z białkiem...</td>\n",
       "      <td>Aktywność fosfatazy białkowej-1 jest regulowan...</td>\n",
       "      <td>`Dokument [1]:` nan</td>\n",
       "      <td>3</td>\n",
       "    </tr>\n",
       "    <tr>\n",
       "      <th>5199</th>\n",
       "      <td>polqa_6490</td>\n",
       "      <td>polqa</td>\n",
       "      <td>Które odznaczenie ustanowił król Stanisław Aug...</td>\n",
       "      <td>order Virtuti Militari</td>\n",
       "      <td>`Dokument [1]:` Za namową księcia Józefa Ponia...</td>\n",
       "      <td>18</td>\n",
       "    </tr>\n",
       "    <tr>\n",
       "      <th>3960</th>\n",
       "      <td>polqa_640</td>\n",
       "      <td>polqa</td>\n",
       "      <td>Czy w Brazylii uprawiana jest trzcina cukrowa?</td>\n",
       "      <td>tak</td>\n",
       "      <td>`Dokument [1]:` Gospodarka opierała się na poz...</td>\n",
       "      <td>30</td>\n",
       "    </tr>\n",
       "    <tr>\n",
       "      <th>5880</th>\n",
       "      <td>bioask_1197</td>\n",
       "      <td>bioask</td>\n",
       "      <td>Czy gen SDHAF2 koduje białko niezbędne do flaw...</td>\n",
       "      <td>Tak, SDHAF2 lub hSDH5 to gen kodujący enzym od...</td>\n",
       "      <td>`Dokument [1]:` Przyzwojaki zostały powiązane ...</td>\n",
       "      <td>54</td>\n",
       "    </tr>\n",
       "    <tr>\n",
       "      <th>4892</th>\n",
       "      <td>hotpotqa_pl_5ab67ce2554299710c8d1ead</td>\n",
       "      <td>hotpotqa_pl</td>\n",
       "      <td>Które z nich ma więcej gatunków w Azji, Dispor...</td>\n",
       "      <td>Disporum</td>\n",
       "      <td>`Dokument [ \"Boltonia\" ]:` Boltonia to rodzaj ...</td>\n",
       "      <td>58</td>\n",
       "    </tr>\n",
       "    <tr>\n",
       "      <th>2539</th>\n",
       "      <td>poquad_v2_11059</td>\n",
       "      <td>poquad_v2</td>\n",
       "      <td>Jaki status, poza jednym wyjątkiem, ma ten gry...</td>\n",
       "      <td>gatunku najmniejszej troski</td>\n",
       "      <td>`Dokument [ \"Piaskogrzeb przylądkowy\" ]:` Pias...</td>\n",
       "      <td>65</td>\n",
       "    </tr>\n",
       "    <tr>\n",
       "      <th>3159</th>\n",
       "      <td>poquad_v2_3241</td>\n",
       "      <td>poquad_v2</td>\n",
       "      <td>Jakie religie nie akceptują odmiennego stosunk...</td>\n",
       "      <td>islam, judaizm, katolicyzm</td>\n",
       "      <td>`Dokument [ \"Stosunek płciowy\" ]:` Stosunki an...</td>\n",
       "      <td>66</td>\n",
       "    </tr>\n",
       "  </tbody>\n",
       "</table>\n",
       "</div>"
      ],
      "text/plain": [
       "                                        id      dataset  \\\n",
       "5914                            bioask_966       bioask   \n",
       "6003                            bioask_864       bioask   \n",
       "6050                              bioask_4       bioask   \n",
       "6143                            bioask_608       bioask   \n",
       "5199                            polqa_6490        polqa   \n",
       "3960                             polqa_640        polqa   \n",
       "5880                           bioask_1197       bioask   \n",
       "4892  hotpotqa_pl_5ab67ce2554299710c8d1ead  hotpotqa_pl   \n",
       "2539                       poquad_v2_11059    poquad_v2   \n",
       "3159                        poquad_v2_3241    poquad_v2   \n",
       "\n",
       "                                               question  \\\n",
       "5914  Opisz zastosowanie oprogramowania Theatre do a...   \n",
       "6003  Które pakiety są używane do przeprowadzania an...   \n",
       "6050      Czy metformina zaburza wchłanianie tyroksyny?   \n",
       "6143  Która fosfataza białkowa oddziałuje z białkiem...   \n",
       "5199  Które odznaczenie ustanowił król Stanisław Aug...   \n",
       "3960     Czy w Brazylii uprawiana jest trzcina cukrowa?   \n",
       "5880  Czy gen SDHAF2 koduje białko niezbędne do flaw...   \n",
       "4892  Które z nich ma więcej gatunków w Azji, Dispor...   \n",
       "2539  Jaki status, poza jednym wyjątkiem, ma ten gry...   \n",
       "3159  Jakie religie nie akceptują odmiennego stosunk...   \n",
       "\n",
       "                                                 answer  \\\n",
       "5914  Theatre to internetowy system obliczeniowy prz...   \n",
       "6003  IRanges, GenomicRanges i GenomicFeatures zapew...   \n",
       "6050  Nie. Nie zgłoszono danych wskazujących, że met...   \n",
       "6143  Aktywność fosfatazy białkowej-1 jest regulowan...   \n",
       "5199                             order Virtuti Militari   \n",
       "3960                                                tak   \n",
       "5880  Tak, SDHAF2 lub hSDH5 to gen kodujący enzym od...   \n",
       "4892                                           Disporum   \n",
       "2539                        gatunku najmniejszej troski   \n",
       "3159                         islam, judaizm, katolicyzm   \n",
       "\n",
       "                                                context  context_length  \n",
       "5914                                `Dokument [1]:` nan               3  \n",
       "6003                                `Dokument [1]:` nan               3  \n",
       "6050                                `Dokument [1]:` nan               3  \n",
       "6143                                `Dokument [1]:` nan               3  \n",
       "5199  `Dokument [1]:` Za namową księcia Józefa Ponia...              18  \n",
       "3960  `Dokument [1]:` Gospodarka opierała się na poz...              30  \n",
       "5880  `Dokument [1]:` Przyzwojaki zostały powiązane ...              54  \n",
       "4892  `Dokument [ \"Boltonia\" ]:` Boltonia to rodzaj ...              58  \n",
       "2539  `Dokument [ \"Piaskogrzeb przylądkowy\" ]:` Pias...              65  \n",
       "3159  `Dokument [ \"Stosunek płciowy\" ]:` Stosunki an...              66  "
      ]
     },
     "execution_count": 11,
     "metadata": {},
     "output_type": "execute_result"
    }
   ],
   "source": [
    "df.loc[df['context_length'] < 200].sort_values('context_length', ascending=True).head(10)"
   ]
  },
  {
   "cell_type": "code",
   "execution_count": 12,
   "metadata": {},
   "outputs": [],
   "source": [
    "df = df.reset_index()"
   ]
  },
  {
   "cell_type": "code",
   "execution_count": 13,
   "metadata": {},
   "outputs": [
    {
     "data": {
      "text/html": [
       "<div>\n",
       "<style scoped>\n",
       "    .dataframe tbody tr th:only-of-type {\n",
       "        vertical-align: middle;\n",
       "    }\n",
       "\n",
       "    .dataframe tbody tr th {\n",
       "        vertical-align: top;\n",
       "    }\n",
       "\n",
       "    .dataframe thead th {\n",
       "        text-align: right;\n",
       "    }\n",
       "</style>\n",
       "<table border=\"1\" class=\"dataframe\">\n",
       "  <thead>\n",
       "    <tr style=\"text-align: right;\">\n",
       "      <th></th>\n",
       "      <th>index</th>\n",
       "      <th>id</th>\n",
       "      <th>dataset</th>\n",
       "      <th>question</th>\n",
       "      <th>answer</th>\n",
       "      <th>context</th>\n",
       "      <th>context_length</th>\n",
       "    </tr>\n",
       "  </thead>\n",
       "  <tbody>\n",
       "    <tr>\n",
       "      <th>0</th>\n",
       "      <td>4172</td>\n",
       "      <td>polqa_2503</td>\n",
       "      <td>polqa</td>\n",
       "      <td>Ile okrętów w 1588 r. liczyła Wielka Armada: 1...</td>\n",
       "      <td>130</td>\n",
       "      <td>`Dokument [1]:` 18 sierpnia królowa dokonała p...</td>\n",
       "      <td>416</td>\n",
       "    </tr>\n",
       "    <tr>\n",
       "      <th>1</th>\n",
       "      <td>1895</td>\n",
       "      <td>poquad_v2_4138</td>\n",
       "      <td>poquad_v2</td>\n",
       "      <td>Po ilu dniach od premiery jego utwór \"Psycho\" ...</td>\n",
       "      <td>Nie mogę udzielić odpowiedzi na to pytanie na ...</td>\n",
       "      <td>`Dokument [ \"Post Malone\" ]:` 20 lutego 2018 r...</td>\n",
       "      <td>115</td>\n",
       "    </tr>\n",
       "    <tr>\n",
       "      <th>2</th>\n",
       "      <td>5511</td>\n",
       "      <td>hotpotqa_en_5a85b16f5542991dd0999e8d</td>\n",
       "      <td>hotpotqa_en</td>\n",
       "      <td>Raja Rajendra is a 2015 Kannada comedy film th...</td>\n",
       "      <td>Ishita Dutta</td>\n",
       "      <td>`Dokument [ \"Ouija (2015 film)\" ]:` Ouija (als...</td>\n",
       "      <td>773</td>\n",
       "    </tr>\n",
       "    <tr>\n",
       "      <th>3</th>\n",
       "      <td>3427</td>\n",
       "      <td>hotpotqa_pl_5adfed45554299603e4183c5</td>\n",
       "      <td>hotpotqa_pl</td>\n",
       "      <td>Jakie jest wspólne zajęcie Sidney'ego Lumeta i...</td>\n",
       "      <td>scenarzystka</td>\n",
       "      <td>`Dokument [ \"Gotham Independent Film Awards 19...</td>\n",
       "      <td>206</td>\n",
       "    </tr>\n",
       "    <tr>\n",
       "      <th>4</th>\n",
       "      <td>2095</td>\n",
       "      <td>poquad_v2_48248</td>\n",
       "      <td>poquad_v2</td>\n",
       "      <td>W jakim programie telewizyjnym wystąpiła jako ...</td>\n",
       "      <td>Nie mogę udzielić odpowiedzi na to pytanie na ...</td>\n",
       "      <td>`Dokument [ \"Joanna Jędrzejczyk\" ]:` Od 2012 z...</td>\n",
       "      <td>88</td>\n",
       "    </tr>\n",
       "    <tr>\n",
       "      <th>...</th>\n",
       "      <td>...</td>\n",
       "      <td>...</td>\n",
       "      <td>...</td>\n",
       "      <td>...</td>\n",
       "      <td>...</td>\n",
       "      <td>...</td>\n",
       "      <td>...</td>\n",
       "    </tr>\n",
       "    <tr>\n",
       "      <th>1495</th>\n",
       "      <td>1924</td>\n",
       "      <td>poquad_v2_33786</td>\n",
       "      <td>poquad_v2</td>\n",
       "      <td>Jaka tradycja została zapoczątkowana w XVIII w...</td>\n",
       "      <td>Nie mogę udzielić odpowiedzi na to pytanie na ...</td>\n",
       "      <td>`Dokument [ \"Bridgwater\" ]:` W roku 1487 król ...</td>\n",
       "      <td>232</td>\n",
       "    </tr>\n",
       "    <tr>\n",
       "      <th>1496</th>\n",
       "      <td>962</td>\n",
       "      <td>nq_1431</td>\n",
       "      <td>nq</td>\n",
       "      <td>how many levels are there on the eiffel tower</td>\n",
       "      <td>three</td>\n",
       "      <td>`Dokument [ \"Eiffel Tower\" ]:` a seasonal ice ...</td>\n",
       "      <td>1048</td>\n",
       "    </tr>\n",
       "    <tr>\n",
       "      <th>1497</th>\n",
       "      <td>4191</td>\n",
       "      <td>hotpotqa_pl_5abd0d635542992ac4f381b8</td>\n",
       "      <td>hotpotqa_pl</td>\n",
       "      <td>Ile dni zajęło laureatowi nagrody dla Najlepsz...</td>\n",
       "      <td>29</td>\n",
       "      <td>`Dokument [ \"List of Billboard 200 number-one ...</td>\n",
       "      <td>791</td>\n",
       "    </tr>\n",
       "    <tr>\n",
       "      <th>1498</th>\n",
       "      <td>3601</td>\n",
       "      <td>polqa_2593</td>\n",
       "      <td>polqa</td>\n",
       "      <td>Jak nazywa się polski reżyser, mąż Jadwigi Bar...</td>\n",
       "      <td>Jerzy Antczak</td>\n",
       "      <td>`Dokument [1]:` Albina Barańska, również jako ...</td>\n",
       "      <td>288</td>\n",
       "    </tr>\n",
       "    <tr>\n",
       "      <th>1499</th>\n",
       "      <td>536</td>\n",
       "      <td>nq_781</td>\n",
       "      <td>nq</td>\n",
       "      <td>where is the world cup being held 2018</td>\n",
       "      <td>Russia</td>\n",
       "      <td>`Dokument [ \"Australia 2022 FIFA World Cup bid...</td>\n",
       "      <td>1070</td>\n",
       "    </tr>\n",
       "  </tbody>\n",
       "</table>\n",
       "<p>1500 rows × 7 columns</p>\n",
       "</div>"
      ],
      "text/plain": [
       "      index                                    id      dataset  \\\n",
       "0      4172                            polqa_2503        polqa   \n",
       "1      1895                        poquad_v2_4138    poquad_v2   \n",
       "2      5511  hotpotqa_en_5a85b16f5542991dd0999e8d  hotpotqa_en   \n",
       "3      3427  hotpotqa_pl_5adfed45554299603e4183c5  hotpotqa_pl   \n",
       "4      2095                       poquad_v2_48248    poquad_v2   \n",
       "...     ...                                   ...          ...   \n",
       "1495   1924                       poquad_v2_33786    poquad_v2   \n",
       "1496    962                               nq_1431           nq   \n",
       "1497   4191  hotpotqa_pl_5abd0d635542992ac4f381b8  hotpotqa_pl   \n",
       "1498   3601                            polqa_2593        polqa   \n",
       "1499    536                                nq_781           nq   \n",
       "\n",
       "                                               question  \\\n",
       "0     Ile okrętów w 1588 r. liczyła Wielka Armada: 1...   \n",
       "1     Po ilu dniach od premiery jego utwór \"Psycho\" ...   \n",
       "2     Raja Rajendra is a 2015 Kannada comedy film th...   \n",
       "3     Jakie jest wspólne zajęcie Sidney'ego Lumeta i...   \n",
       "4     W jakim programie telewizyjnym wystąpiła jako ...   \n",
       "...                                                 ...   \n",
       "1495  Jaka tradycja została zapoczątkowana w XVIII w...   \n",
       "1496      how many levels are there on the eiffel tower   \n",
       "1497  Ile dni zajęło laureatowi nagrody dla Najlepsz...   \n",
       "1498  Jak nazywa się polski reżyser, mąż Jadwigi Bar...   \n",
       "1499             where is the world cup being held 2018   \n",
       "\n",
       "                                                 answer  \\\n",
       "0                                                   130   \n",
       "1     Nie mogę udzielić odpowiedzi na to pytanie na ...   \n",
       "2                                          Ishita Dutta   \n",
       "3                                          scenarzystka   \n",
       "4     Nie mogę udzielić odpowiedzi na to pytanie na ...   \n",
       "...                                                 ...   \n",
       "1495  Nie mogę udzielić odpowiedzi na to pytanie na ...   \n",
       "1496                                              three   \n",
       "1497                                                 29   \n",
       "1498                                      Jerzy Antczak   \n",
       "1499                                             Russia   \n",
       "\n",
       "                                                context  context_length  \n",
       "0     `Dokument [1]:` 18 sierpnia królowa dokonała p...             416  \n",
       "1     `Dokument [ \"Post Malone\" ]:` 20 lutego 2018 r...             115  \n",
       "2     `Dokument [ \"Ouija (2015 film)\" ]:` Ouija (als...             773  \n",
       "3     `Dokument [ \"Gotham Independent Film Awards 19...             206  \n",
       "4     `Dokument [ \"Joanna Jędrzejczyk\" ]:` Od 2012 z...              88  \n",
       "...                                                 ...             ...  \n",
       "1495  `Dokument [ \"Bridgwater\" ]:` W roku 1487 król ...             232  \n",
       "1496  `Dokument [ \"Eiffel Tower\" ]:` a seasonal ice ...            1048  \n",
       "1497  `Dokument [ \"List of Billboard 200 number-one ...             791  \n",
       "1498  `Dokument [1]:` Albina Barańska, również jako ...             288  \n",
       "1499  `Dokument [ \"Australia 2022 FIFA World Cup bid...            1070  \n",
       "\n",
       "[1500 rows x 7 columns]"
      ]
     },
     "execution_count": 13,
     "metadata": {},
     "output_type": "execute_result"
    }
   ],
   "source": [
    "df"
   ]
  },
  {
   "cell_type": "code",
   "execution_count": 14,
   "metadata": {},
   "outputs": [],
   "source": [
    "IDX = 5199"
   ]
  },
  {
   "cell_type": "markdown",
   "metadata": {},
   "source": [
    "### Very interesting example, because it is required to properly filter noise and extract info from the end"
   ]
  },
  {
   "cell_type": "code",
   "execution_count": 15,
   "metadata": {},
   "outputs": [
    {
     "data": {
      "text/html": [
       "<div>\n",
       "<style scoped>\n",
       "    .dataframe tbody tr th:only-of-type {\n",
       "        vertical-align: middle;\n",
       "    }\n",
       "\n",
       "    .dataframe tbody tr th {\n",
       "        vertical-align: top;\n",
       "    }\n",
       "\n",
       "    .dataframe thead th {\n",
       "        text-align: right;\n",
       "    }\n",
       "</style>\n",
       "<table border=\"1\" class=\"dataframe\">\n",
       "  <thead>\n",
       "    <tr style=\"text-align: right;\">\n",
       "      <th></th>\n",
       "      <th>index</th>\n",
       "      <th>id</th>\n",
       "      <th>dataset</th>\n",
       "      <th>question</th>\n",
       "      <th>answer</th>\n",
       "      <th>context</th>\n",
       "      <th>context_length</th>\n",
       "    </tr>\n",
       "  </thead>\n",
       "  <tbody>\n",
       "    <tr>\n",
       "      <th>443</th>\n",
       "      <td>5199</td>\n",
       "      <td>polqa_6490</td>\n",
       "      <td>polqa</td>\n",
       "      <td>Które odznaczenie ustanowił król Stanisław Aug...</td>\n",
       "      <td>order Virtuti Militari</td>\n",
       "      <td>`Dokument [1]:` Za namową księcia Józefa Ponia...</td>\n",
       "      <td>18</td>\n",
       "    </tr>\n",
       "  </tbody>\n",
       "</table>\n",
       "</div>"
      ],
      "text/plain": [
       "     index          id dataset  \\\n",
       "443   5199  polqa_6490   polqa   \n",
       "\n",
       "                                              question  \\\n",
       "443  Które odznaczenie ustanowił król Stanisław Aug...   \n",
       "\n",
       "                     answer  \\\n",
       "443  order Virtuti Militari   \n",
       "\n",
       "                                               context  context_length  \n",
       "443  `Dokument [1]:` Za namową księcia Józefa Ponia...              18  "
      ]
     },
     "execution_count": 15,
     "metadata": {},
     "output_type": "execute_result"
    }
   ],
   "source": [
    "df.loc[df['index'] == IDX]"
   ]
  },
  {
   "cell_type": "code",
   "execution_count": 16,
   "metadata": {},
   "outputs": [
    {
     "ename": "IndexError",
     "evalue": "single positional indexer is out-of-bounds",
     "output_type": "error",
     "traceback": [
      "\u001b[0;31m---------------------------------------------------------------------------\u001b[0m",
      "\u001b[0;31mIndexError\u001b[0m                                Traceback (most recent call last)",
      "Cell \u001b[0;32mIn[16], line 1\u001b[0m\n\u001b[0;32m----> 1\u001b[0m \u001b[43mdf\u001b[49m\u001b[38;5;241;43m.\u001b[39;49m\u001b[43miloc\u001b[49m\u001b[43m[\u001b[49m\u001b[43mIDX\u001b[49m\u001b[43m]\u001b[49m[CONTEXT_COL]\n",
      "File \u001b[0;32m~/miniconda3/envs/hallu/lib/python3.10/site-packages/pandas/core/indexing.py:1073\u001b[0m, in \u001b[0;36m_LocationIndexer.__getitem__\u001b[0;34m(self, key)\u001b[0m\n\u001b[1;32m   1070\u001b[0m axis \u001b[38;5;241m=\u001b[39m \u001b[38;5;28mself\u001b[39m\u001b[38;5;241m.\u001b[39maxis \u001b[38;5;129;01mor\u001b[39;00m \u001b[38;5;241m0\u001b[39m\n\u001b[1;32m   1072\u001b[0m maybe_callable \u001b[38;5;241m=\u001b[39m com\u001b[38;5;241m.\u001b[39mapply_if_callable(key, \u001b[38;5;28mself\u001b[39m\u001b[38;5;241m.\u001b[39mobj)\n\u001b[0;32m-> 1073\u001b[0m \u001b[38;5;28;01mreturn\u001b[39;00m \u001b[38;5;28;43mself\u001b[39;49m\u001b[38;5;241;43m.\u001b[39;49m\u001b[43m_getitem_axis\u001b[49m\u001b[43m(\u001b[49m\u001b[43mmaybe_callable\u001b[49m\u001b[43m,\u001b[49m\u001b[43m \u001b[49m\u001b[43maxis\u001b[49m\u001b[38;5;241;43m=\u001b[39;49m\u001b[43maxis\u001b[49m\u001b[43m)\u001b[49m\n",
      "File \u001b[0;32m~/miniconda3/envs/hallu/lib/python3.10/site-packages/pandas/core/indexing.py:1625\u001b[0m, in \u001b[0;36m_iLocIndexer._getitem_axis\u001b[0;34m(self, key, axis)\u001b[0m\n\u001b[1;32m   1622\u001b[0m     \u001b[38;5;28;01mraise\u001b[39;00m \u001b[38;5;167;01mTypeError\u001b[39;00m(\u001b[38;5;124m\"\u001b[39m\u001b[38;5;124mCannot index by location index with a non-integer key\u001b[39m\u001b[38;5;124m\"\u001b[39m)\n\u001b[1;32m   1624\u001b[0m \u001b[38;5;66;03m# validate the location\u001b[39;00m\n\u001b[0;32m-> 1625\u001b[0m \u001b[38;5;28;43mself\u001b[39;49m\u001b[38;5;241;43m.\u001b[39;49m\u001b[43m_validate_integer\u001b[49m\u001b[43m(\u001b[49m\u001b[43mkey\u001b[49m\u001b[43m,\u001b[49m\u001b[43m \u001b[49m\u001b[43maxis\u001b[49m\u001b[43m)\u001b[49m\n\u001b[1;32m   1627\u001b[0m \u001b[38;5;28;01mreturn\u001b[39;00m \u001b[38;5;28mself\u001b[39m\u001b[38;5;241m.\u001b[39mobj\u001b[38;5;241m.\u001b[39m_ixs(key, axis\u001b[38;5;241m=\u001b[39maxis)\n",
      "File \u001b[0;32m~/miniconda3/envs/hallu/lib/python3.10/site-packages/pandas/core/indexing.py:1557\u001b[0m, in \u001b[0;36m_iLocIndexer._validate_integer\u001b[0;34m(self, key, axis)\u001b[0m\n\u001b[1;32m   1555\u001b[0m len_axis \u001b[38;5;241m=\u001b[39m \u001b[38;5;28mlen\u001b[39m(\u001b[38;5;28mself\u001b[39m\u001b[38;5;241m.\u001b[39mobj\u001b[38;5;241m.\u001b[39m_get_axis(axis))\n\u001b[1;32m   1556\u001b[0m \u001b[38;5;28;01mif\u001b[39;00m key \u001b[38;5;241m>\u001b[39m\u001b[38;5;241m=\u001b[39m len_axis \u001b[38;5;129;01mor\u001b[39;00m key \u001b[38;5;241m<\u001b[39m \u001b[38;5;241m-\u001b[39mlen_axis:\n\u001b[0;32m-> 1557\u001b[0m     \u001b[38;5;28;01mraise\u001b[39;00m \u001b[38;5;167;01mIndexError\u001b[39;00m(\u001b[38;5;124m\"\u001b[39m\u001b[38;5;124msingle positional indexer is out-of-bounds\u001b[39m\u001b[38;5;124m\"\u001b[39m)\n",
      "\u001b[0;31mIndexError\u001b[0m: single positional indexer is out-of-bounds"
     ]
    }
   ],
   "source": [
    "df.iloc[IDX][CONTEXT_COL]"
   ]
  },
  {
   "cell_type": "code",
   "execution_count": 15,
   "metadata": {},
   "outputs": [],
   "source": [
    "query, context = df.iloc[IDX][QUESTION_COL], df.iloc[IDX][CONTEXT_COL]"
   ]
  },
  {
   "cell_type": "code",
   "execution_count": 16,
   "metadata": {
    "execution": {
     "iopub.execute_input": "2024-08-25T07:36:18.004971Z",
     "iopub.status.busy": "2024-08-25T07:36:18.004679Z",
     "iopub.status.idle": "2024-08-25T07:36:18.014401Z",
     "shell.execute_reply": "2024-08-25T07:36:18.013510Z",
     "shell.execute_reply.started": "2024-08-25T07:36:18.004940Z"
    },
    "trusted": true
   },
   "outputs": [
    {
     "data": {
      "text/plain": [
       "'Given the context `CONTEXT` and the query `QUERY` below, please provide an answer `ANSWER` to the question. \\n    `CONTEXT`: `Dokument [1]:` Wacław Stanisław Sitkowski (ur. 12 lutego 1924 w Warszawie, zm. 1 kwietnia 2010 tamże) – polski lekarz, kardiochirurg, profesor nauk medycznych, powstaniec warszawski. Jeden z pionierów polskiej kardiochirurgii, nauczyciel polskich kardiochirurgów, w tym Zbigniewa Religi. \\n\\n    `QUERY`: Jak miał na imię polski kardiochirurg, profesor Religa?\\n\\n    `ANSWER`:\\n'"
      ]
     },
     "execution_count": 16,
     "metadata": {},
     "output_type": "execute_result"
    }
   ],
   "source": [
    "sample_prompt = QUERY_INTRO_NO_ANS.format(context=context, query=query)\n",
    "sample_prompt"
   ]
  },
  {
   "cell_type": "markdown",
   "metadata": {},
   "source": [
    "### I will load our standard `unsloth/gemma-2-9b-it-bnb-4bit`"
   ]
  },
  {
   "cell_type": "code",
   "execution_count": 17,
   "metadata": {},
   "outputs": [],
   "source": [
    "MODEL_ID = \"unsloth/gemma-2-9b-it-bnb-4bit\"\n",
    "DTYPE = torch.bfloat16\n",
    "LOAD_IN_4BIT = True"
   ]
  },
  {
   "cell_type": "code",
   "execution_count": 18,
   "metadata": {
    "execution": {
     "iopub.execute_input": "2024-08-24T05:33:23.262495Z",
     "iopub.status.busy": "2024-08-24T05:33:23.259909Z",
     "iopub.status.idle": "2024-08-24T05:34:08.555677Z",
     "shell.execute_reply": "2024-08-24T05:34:08.553960Z",
     "shell.execute_reply.started": "2024-08-24T05:33:23.262444Z"
    },
    "trusted": true
   },
   "outputs": [
    {
     "name": "stderr",
     "output_type": "stream",
     "text": [
      "Unused kwargs: ['_load_in_4bit', '_load_in_8bit', 'quant_method']. These kwargs are not used in <class 'transformers.utils.quantization_config.BitsAndBytesConfig'>.\n"
     ]
    }
   ],
   "source": [
    "tokenizer = AutoTokenizer.from_pretrained(MODEL_ID, token=os.environ[\"HF_TOKEN\"])\n",
    "model = AutoModelForCausalLM.from_pretrained(\n",
    "    MODEL_ID,\n",
    "    device_map='auto',\n",
    "    torch_dtype=DTYPE,\n",
    "    token=os.environ[\"HF_TOKEN\"],\n",
    "    # sliding_window=8192\n",
    "    # max_memory={0: \"4GB\", 1: \"3GB\"}\n",
    "    #attn_implementation=\"sdpa\",\n",
    ")"
   ]
  },
  {
   "cell_type": "code",
   "execution_count": 19,
   "metadata": {},
   "outputs": [],
   "source": [
    "att_path = '/home/pim/Research/scripts/gemma2_new_dataset/attentions/poquad_v2_23335.npy'"
   ]
  },
  {
   "cell_type": "code",
   "execution_count": 116,
   "metadata": {},
   "outputs": [],
   "source": [
    "def weighted_avg_window_att(\n",
    "    x: np.ndarray,\n",
    "    window_size: int,\n",
    ") -> float:\n",
    "    \n",
    "    weights = -np.tanh(np.arange(1, window_size + 1) - window_size - 1)\n",
    "    weights /= weights.sum()\n",
    "\n",
    "    print(f\"weights: {weights}\")\n",
    "    print(f'{x.shape=}')\n",
    "\n",
    "    return np.average(x, weights=weights, axis=-1)"
   ]
  },
  {
   "cell_type": "code",
   "execution_count": 113,
   "metadata": {},
   "outputs": [],
   "source": [
    "def agg_att_weighted(x: np.ndarray, window_size: int = 8, passage_percentage: float = 0.2) -> np.ndarray:\n",
    "\n",
    "    return np.concatenate((\n",
    "            weighted_avg_window_att(\n",
    "                x=x.sum(axis=-1),\n",
    "                window_size=window_size,\n",
    "            ).flatten(), \n",
    "            np.array([passage_percentage])\n",
    "        ))"
   ]
  },
  {
   "cell_type": "code",
   "execution_count": 119,
   "metadata": {},
   "outputs": [],
   "source": [
    "def get_windowed_att_tensor(\n",
    "    att_tensor: np.ndarray,\n",
    "    window_size: int,\n",
    "    window_step: int,\n",
    "    postprocess_fn: callable,\n",
    "    use_passage_percentage: bool = False,\n",
    "    passage_length: int = 0,\n",
    "    n_prompt_tokens: int = 0,\n",
    "    passage_perc_round: int = 3,\n",
    "    **kwargs,\n",
    ") -> dict:\n",
    "    \n",
    "    att_tensor_dict = {}\n",
    "\n",
    "    for i in range(0, att_tensor.shape[-2], window_step):\n",
    "\n",
    "        if i + window_size <= att_tensor.shape[-2]:\n",
    "            \n",
    "            if use_passage_percentage:\n",
    "                all_tokens = n_prompt_tokens + (2 * i + window_size) // 2\n",
    "                kwargs['passage_percentage'] = round(passage_length / all_tokens, passage_perc_round)\n",
    "                kwargs['window_size'] = window_size\n",
    "\n",
    "            att_tensor_dict[tuple([i, i + window_size])] = postprocess_fn(att_tensor[..., i: i + window_size, :], **kwargs)\n",
    "\n",
    "    del att_tensor\n",
    "    return att_tensor_dict"
   ]
  },
  {
   "cell_type": "code",
   "execution_count": 88,
   "metadata": {},
   "outputs": [],
   "source": [
    "from copy import deepcopy"
   ]
  },
  {
   "cell_type": "code",
   "execution_count": 110,
   "metadata": {},
   "outputs": [],
   "source": [
    "def prep_att_pipe(\n",
    "    att_path: str,\n",
    "    n_first_tokens: int = None,\n",
    "    skip_first_n_tokens: int = None,\n",
    "    skip_last_n_tokens: int = None,\n",
    "    n_passage_tokens_start_idx: int = None,\n",
    "    n_passage_tokens_end_idx: int = None,\n",
    "    window_size: int = 0,\n",
    "    window_step: int = 4,\n",
    "    postprocess_fn: callable = None,\n",
    "    valid_example_th: int = 4,\n",
    "    use_passage_percentage: bool = False,\n",
    "    **kwargs: dict,\n",
    ") -> np.ndarray:\n",
    "    \"\"\"\n",
    "    Function to prepare the attention tensor for further analysis.\n",
    "    It removes the prompt tokens and the last offset_size tokens from the context.\n",
    "    \"\"\"\n",
    "\n",
    "    att_tensor = np.load(att_path)\n",
    "\n",
    "    skip_first_n_tokens = skip_first_n_tokens if skip_first_n_tokens is not None else 0\n",
    "    skip_last_n_tokens = skip_last_n_tokens if skip_last_n_tokens is not None else 0\n",
    "    n_first_tokens = n_first_tokens if n_first_tokens is not None else att_tensor.shape[-2]\n",
    "\n",
    "    passage_length = n_passage_tokens_end_idx - n_passage_tokens_start_idx\n",
    "\n",
    "    if kwargs.get('n_prompt_tokens') is None:\n",
    "        kwargs['n_prompt_tokens'] = att_tensor.shape[-1] - att_tensor.shape[-2] \n",
    "\n",
    "    n_context_tokens = deepcopy(att_tensor.shape[-1])\n",
    "\n",
    "    att_tensor = att_tensor[..., slice(skip_first_n_tokens, n_first_tokens + skip_first_n_tokens - skip_last_n_tokens), slice(n_passage_tokens_start_idx, n_passage_tokens_end_idx)]\n",
    "    \n",
    "    if att_tensor.shape[-2] < valid_example_th:\n",
    "        return None\n",
    "    \n",
    "    print(f\"{att_tensor.shape = }\")\n",
    "\n",
    "    if (window_size) and (att_tensor.shape[-2] > window_size):\n",
    "\n",
    "        print(f\"Using windowed attention with window size: {window_size} and step: {window_step}\")\n",
    "\n",
    "        att_tensor = get_windowed_att_tensor(\n",
    "            att_tensor=att_tensor,\n",
    "            window_size=window_size,\n",
    "            window_step=window_step,\n",
    "            postprocess_fn=postprocess_fn,\n",
    "            passage_length=passage_length,\n",
    "            use_passage_percentage=use_passage_percentage,\n",
    "            **kwargs,\n",
    "        )\n",
    "\n",
    "    else:\n",
    "\n",
    "        if use_passage_percentage:\n",
    "            kwargs['passage_percentage'] = round(passage_length / (n_context_tokens), 3)\n",
    "            kwargs['window_size'] = att_tensor.shape[-2]\n",
    "\n",
    "        att_tensor = postprocess_fn(att_tensor, **kwargs)\n",
    "\n",
    "    return att_tensor"
   ]
  },
  {
   "cell_type": "code",
   "execution_count": 99,
   "metadata": {},
   "outputs": [],
   "source": [
    "SKIP_FIRST = 8\n",
    "SKIP_LAST = 2\n",
    "START_IDX = 100\n",
    "END_IDX = 200\n",
    "WINDOW_STEP = 1\n",
    "WINDOW_SIZE = 8"
   ]
  },
  {
   "cell_type": "code",
   "execution_count": 118,
   "metadata": {},
   "outputs": [
    {
     "name": "stdout",
     "output_type": "stream",
     "text": [
      "att_tensor.shape = (42, 16, 14, 100)\n",
      "Using windowed attention with window size: 8 and step: 1\n",
      "weights: [0.12953531 0.12953513 0.12953375 0.12952358 0.12944846 0.12889476\n",
      " 0.12487564 0.09865336]\n",
      "x.shape=(42, 16, 8)\n",
      "weights: [0.12953531 0.12953513 0.12953375 0.12952358 0.12944846 0.12889476\n",
      " 0.12487564 0.09865336]\n",
      "x.shape=(42, 16, 8)\n",
      "weights: [0.12953531 0.12953513 0.12953375 0.12952358 0.12944846 0.12889476\n",
      " 0.12487564 0.09865336]\n",
      "x.shape=(42, 16, 8)\n",
      "weights: [0.12953531 0.12953513 0.12953375 0.12952358 0.12944846 0.12889476\n",
      " 0.12487564 0.09865336]\n",
      "x.shape=(42, 16, 8)\n",
      "weights: [0.12953531 0.12953513 0.12953375 0.12952358 0.12944846 0.12889476\n",
      " 0.12487564 0.09865336]\n",
      "x.shape=(42, 16, 8)\n",
      "weights: [0.12953531 0.12953513 0.12953375 0.12952358 0.12944846 0.12889476\n",
      " 0.12487564 0.09865336]\n",
      "x.shape=(42, 16, 8)\n",
      "weights: [0.12953531 0.12953513 0.12953375 0.12952358 0.12944846 0.12889476\n",
      " 0.12487564 0.09865336]\n",
      "x.shape=(42, 16, 8)\n"
     ]
    },
    {
     "data": {
      "text/plain": [
       "0.288"
      ]
     },
     "execution_count": 118,
     "metadata": {},
     "output_type": "execute_result"
    }
   ],
   "source": [
    "prep_att_pipe(\n",
    "    att_path=att_path,\n",
    "    n_first_tokens=None,\n",
    "    skip_first_n_tokens=SKIP_FIRST,\n",
    "    skip_last_n_tokens=SKIP_LAST,\n",
    "    n_passage_tokens_start_idx=START_IDX,\n",
    "    n_passage_tokens_end_idx=END_IDX,\n",
    "    window_size=WINDOW_SIZE,\n",
    "    window_step=WINDOW_STEP,\n",
    "    postprocess_fn=agg_att_weighted,\n",
    "    valid_example_th=4,\n",
    "    use_passage_percentage=True,\n",
    ")[(0, 8)][-1]"
   ]
  },
  {
   "cell_type": "code",
   "execution_count": 12,
   "metadata": {},
   "outputs": [],
   "source": [
    "df['formatted_context'] = df.apply(\n",
    "    lambda row: SYSTEM_MSG_RAG + QUERY_INTRO_NO_ANS.format(context=row['context'], query=row['question']),\n",
    "    axis=1\n",
    ")"
   ]
  },
  {
   "cell_type": "code",
   "execution_count": 13,
   "metadata": {},
   "outputs": [],
   "source": [
    "df['context_length'] = df['formatted_context'].apply(lambda x: len(tokenizer(x, return_tensors='pt')['input_ids'][0]) if x else 0)"
   ]
  },
  {
   "cell_type": "code",
   "execution_count": 14,
   "metadata": {},
   "outputs": [],
   "source": [
    "df['answer_length'] = df['answer'].apply(lambda x: len(tokenizer(x, return_tensors='pt')['input_ids'][0]) if x else 0)"
   ]
  },
  {
   "cell_type": "code",
   "execution_count": 15,
   "metadata": {},
   "outputs": [
    {
     "data": {
      "text/plain": [
       "count    1500.000000\n",
       "mean       16.127333\n",
       "std       109.789144\n",
       "min         2.000000\n",
       "25%         3.000000\n",
       "50%         5.000000\n",
       "75%        10.000000\n",
       "max      4097.000000\n",
       "Name: answer_length, dtype: float64"
      ]
     },
     "execution_count": 15,
     "metadata": {},
     "output_type": "execute_result"
    }
   ],
   "source": [
    "df['answer_length'].describe()"
   ]
  },
  {
   "cell_type": "code",
   "execution_count": 16,
   "metadata": {},
   "outputs": [
    {
     "data": {
      "text/plain": [
       "0.984"
      ]
     },
     "execution_count": 16,
     "metadata": {},
     "output_type": "execute_result"
    }
   ],
   "source": [
    "(df['context_length'] < 3900).sum() / len(df)"
   ]
  },
  {
   "cell_type": "code",
   "execution_count": 20,
   "metadata": {},
   "outputs": [
    {
     "data": {
      "text/plain": [
       "(24, 8)"
      ]
     },
     "execution_count": 20,
     "metadata": {},
     "output_type": "execute_result"
    }
   ],
   "source": [
    "df.loc[df['context_length'] > 3900].shape"
   ]
  },
  {
   "cell_type": "code",
   "execution_count": 22,
   "metadata": {},
   "outputs": [
    {
     "data": {
      "text/plain": [
       "0.9913333333333333"
      ]
     },
     "execution_count": 22,
     "metadata": {},
     "output_type": "execute_result"
    }
   ],
   "source": [
    "(df['answer_length'] < 200).sum() / len(df)"
   ]
  },
  {
   "cell_type": "code",
   "execution_count": null,
   "metadata": {},
   "outputs": [],
   "source": []
  },
  {
   "cell_type": "code",
   "execution_count": 23,
   "metadata": {},
   "outputs": [],
   "source": [
    "df = df[df['context_length'] < 3900]"
   ]
  },
  {
   "cell_type": "code",
   "execution_count": 24,
   "metadata": {},
   "outputs": [
    {
     "data": {
      "text/plain": [
       "1476"
      ]
     },
     "execution_count": 24,
     "metadata": {},
     "output_type": "execute_result"
    }
   ],
   "source": [
    "len(df)"
   ]
  },
  {
   "cell_type": "code",
   "execution_count": 26,
   "metadata": {},
   "outputs": [
    {
     "data": {
      "text/plain": [
       "dataset\n",
       "nq             438\n",
       "poquad_v2      362\n",
       "hotpotqa_en    253\n",
       "polqa          171\n",
       "hotpotqa_pl    154\n",
       "bioask          98\n",
       "Name: count, dtype: int64"
      ]
     },
     "execution_count": 26,
     "metadata": {},
     "output_type": "execute_result"
    }
   ],
   "source": [
    "df['dataset'].value_counts()"
   ]
  },
  {
   "cell_type": "code",
   "execution_count": 28,
   "metadata": {},
   "outputs": [],
   "source": [
    "df.to_parquet(dataset_path.replace('.parquet', '_filtered.parquet'))"
   ]
  },
  {
   "cell_type": "code",
   "execution_count": 19,
   "metadata": {},
   "outputs": [
    {
     "data": {
      "text/plain": [
       "7017.0999999999985"
      ]
     },
     "execution_count": 19,
     "metadata": {},
     "output_type": "execute_result"
    }
   ],
   "source": [
    "df['context_length'].quantile(0.99)"
   ]
  },
  {
   "cell_type": "code",
   "execution_count": 21,
   "metadata": {},
   "outputs": [],
   "source": [
    "df['answer_length'] = df['answer'].apply(lambda x: len(tokenizer(x, return_tensors='pt')['input_ids'][0]) if x else 0)  "
   ]
  },
  {
   "cell_type": "code",
   "execution_count": 35,
   "metadata": {},
   "outputs": [],
   "source": [
    "df = df.loc[df['dataset'] != 'REASON']\n",
    "df = df.drop(columns=['formatted_context'])"
   ]
  },
  {
   "cell_type": "code",
   "execution_count": null,
   "metadata": {},
   "outputs": [],
   "source": [
    "# df.to_parquet(os.path.join(\"..\", DATA_DIR, 'test_gemma_resp_dola.parquet'), index=False)"
   ]
  },
  {
   "cell_type": "code",
   "execution_count": 39,
   "metadata": {},
   "outputs": [
    {
     "data": {
      "text/plain": [
       "3814"
      ]
     },
     "execution_count": 39,
     "metadata": {},
     "output_type": "execute_result"
    }
   ],
   "source": [
    "(df['context_length'] < 3500).sum()"
   ]
  },
  {
   "cell_type": "code",
   "execution_count": 23,
   "metadata": {},
   "outputs": [
    {
     "data": {
      "text/plain": [
       "3843"
      ]
     },
     "execution_count": 23,
     "metadata": {},
     "output_type": "execute_result"
    }
   ],
   "source": [
    "(df['answer_length'] < 100).sum()"
   ]
  },
  {
   "cell_type": "code",
   "execution_count": 27,
   "metadata": {},
   "outputs": [],
   "source": [
    "reversed_tokenizer = {v: k for k, v in tokenizer.get_vocab().items()}"
   ]
  },
  {
   "cell_type": "markdown",
   "metadata": {},
   "source": [
    "\n",
    "### Last `n x n` dims are the attention matrix - for new generated token it will have shape: `length of input sequence + 1 x length of input sequence`"
   ]
  },
  {
   "cell_type": "code",
   "execution_count": 10,
   "metadata": {
    "execution": {
     "iopub.execute_input": "2024-08-24T05:34:08.557846Z",
     "iopub.status.busy": "2024-08-24T05:34:08.557271Z",
     "iopub.status.idle": "2024-08-24T05:34:08.575427Z",
     "shell.execute_reply": "2024-08-24T05:34:08.573649Z",
     "shell.execute_reply.started": "2024-08-24T05:34:08.557802Z"
    },
    "trusted": true
   },
   "outputs": [
    {
     "data": {
      "text/plain": [
       "{'input_ids': tensor([[     2, 165836, 165836, 165836, 165836, 165836, 165836, 165836, 165836,\n",
       "         165836, 165836, 165836, 165836]], device='cuda:0'), 'attention_mask': tensor([[1, 1, 1, 1, 1, 1, 1, 1, 1, 1, 1, 1, 1]], device='cuda:0')}"
      ]
     },
     "execution_count": 10,
     "metadata": {},
     "output_type": "execute_result"
    }
   ],
   "source": [
    "inputs = tokenizer('eeee' * 24, return_tensors=\"pt\", padding=True).to(device)\n",
    "inputs"
   ]
  },
  {
   "cell_type": "code",
   "execution_count": 11,
   "metadata": {},
   "outputs": [
    {
     "data": {
      "text/plain": [
       "torch.Size([1, 13])"
      ]
     },
     "execution_count": 11,
     "metadata": {},
     "output_type": "execute_result"
    }
   ],
   "source": [
    "inputs['input_ids'].shape"
   ]
  },
  {
   "cell_type": "markdown",
   "metadata": {},
   "source": [
    "### Here is tokenized input"
   ]
  },
  {
   "cell_type": "code",
   "execution_count": 12,
   "metadata": {},
   "outputs": [
    {
     "ename": "NameError",
     "evalue": "name 'reversed_tokenizer' is not defined",
     "output_type": "error",
     "traceback": [
      "\u001b[0;31m---------------------------------------------------------------------------\u001b[0m",
      "\u001b[0;31mNameError\u001b[0m                                 Traceback (most recent call last)",
      "Cell \u001b[0;32mIn[12], line 2\u001b[0m\n\u001b[1;32m      1\u001b[0m \u001b[38;5;28;01mfor\u001b[39;00m i, tok \u001b[38;5;129;01min\u001b[39;00m \u001b[38;5;28menumerate\u001b[39m(inputs[\u001b[38;5;124m\"\u001b[39m\u001b[38;5;124minput_ids\u001b[39m\u001b[38;5;124m\"\u001b[39m][\u001b[38;5;241m0\u001b[39m], start\u001b[38;5;241m=\u001b[39m\u001b[38;5;241m1\u001b[39m):\n\u001b[0;32m----> 2\u001b[0m     \u001b[38;5;28mprint\u001b[39m(\u001b[38;5;124mf\u001b[39m\u001b[38;5;124m'\u001b[39m\u001b[38;5;132;01m{\u001b[39;00mi\u001b[38;5;132;01m}\u001b[39;00m\u001b[38;5;124m. \u001b[39m\u001b[38;5;132;01m{\u001b[39;00mreversed_tokenizer[tok\u001b[38;5;241m.\u001b[39mitem()]\u001b[38;5;132;01m}\u001b[39;00m\u001b[38;5;124m'\u001b[39m)\n",
      "\u001b[0;31mNameError\u001b[0m: name 'reversed_tokenizer' is not defined"
     ]
    }
   ],
   "source": [
    "for i, tok in enumerate(inputs[\"input_ids\"][0], start=1):\n",
    "    print(f'{i}. {reversed_tokenizer[tok.item()]}')"
   ]
  },
  {
   "cell_type": "markdown",
   "metadata": {},
   "source": [
    "### To get attensions and hidden states it is required to set \n",
    "```python\n",
    "return_dict_in_generate=True`\n",
    "```"
   ]
  },
  {
   "cell_type": "code",
   "execution_count": 14,
   "metadata": {},
   "outputs": [],
   "source": [
    "from numba import jit, njit\n",
    "import numpy as np"
   ]
  },
  {
   "cell_type": "code",
   "execution_count": 15,
   "metadata": {},
   "outputs": [],
   "source": [
    "@njit(parallel=True)\n",
    "def process_hidden_or_att(\n",
    "        x,\n",
    "    ) -> np.ndarray:\n",
    "        \"\"\"\n",
    "        Processes hidden states or attention weights from a tuple of tensors.\n",
    "        Args:\n",
    "            x (Tuple[Tuple[torch.Tensor]]): A tuple of tuples containing torch tensors.\n",
    "                Each inner tuple represents the hidden states or attention weights for a token.\n",
    "        Returns:\n",
    "            np.ndarray: A numpy array containing the processed hidden states or attention weights.\n",
    "                The array is concatenated along the last dimension, with an additional dimension\n",
    "                added for all but the first element in the input tuple.\n",
    "        \"\"\"\n",
    "\n",
    "        n_generated_tokens = len(x) - 1\n",
    "        n_layers = 42\n",
    "        n_heads = 16\n",
    "        n_prompt_tokens = x[0][0].shape[-2]\n",
    "\n",
    "        # print(f\"n_prompt_tokens: {n_prompt_tokens}, n_generated_tokens: {n_generated_tokens}\")\n",
    "\n",
    "        num_all_tokens = n_prompt_tokens + n_generated_tokens\n",
    "        prompt_offset = 0\n",
    "        take_only_generated = True\n",
    "\n",
    "        init_matrix = np.zeros(shape=(\n",
    "            n_layers, \n",
    "            n_heads,\n",
    "            num_all_tokens, \n",
    "            num_all_tokens), \n",
    "        dtype=np.float32)\n",
    "\n",
    "        for i, t in enumerate(x[0]):\n",
    "            init_matrix[i, :, :n_prompt_tokens, :] = t[..., :num_all_tokens]\n",
    "\n",
    "        for i, token_att in enumerate(x[1:]):\n",
    "            for j, t in enumerate(token_att):\n",
    "                init_matrix[j, :, n_prompt_tokens + i, :] = t[..., :num_all_tokens]\n",
    "\n",
    "        return init_matrix[:, :, (max(n_prompt_tokens - prompt_offset, 0)) if take_only_generated else 0:, :]"
   ]
  },
  {
   "cell_type": "code",
   "execution_count": 16,
   "metadata": {},
   "outputs": [],
   "source": [
    "inputs = tokenizer('what is the capitol of france? write me poem about it', return_tensors=\"pt\", padding=True).to(device)\n",
    "\n",
    "generated_ans = model.generate(\n",
    "    **inputs,\n",
    "    output_attentions=True,\n",
    "    output_hidden_states=False,\n",
    "    return_dict_in_generate=True,\n",
    "    max_new_tokens=200,\n",
    "    use_cache=True,\n",
    "    # cache_implementation=None\n",
    ")"
   ]
  },
  {
   "cell_type": "code",
   "execution_count": null,
   "metadata": {},
   "outputs": [],
   "source": [
    "s = process_hidden_or_att(tuple(\n",
    "    tuple(\n",
    "        [l.detach().cpu().to(torch.float32).numpy().squeeze() for l in token]\n",
    "    )\n",
    "    for token in generated_ans.attentions\n",
    "))"
   ]
  },
  {
   "cell_type": "code",
   "execution_count": 45,
   "metadata": {},
   "outputs": [
    {
     "data": {
      "text/plain": [
       "(42, 16, 176, 190)"
      ]
     },
     "execution_count": 45,
     "metadata": {},
     "output_type": "execute_result"
    }
   ],
   "source": [
    "s.shape"
   ]
  },
  {
   "cell_type": "code",
   "execution_count": 49,
   "metadata": {},
   "outputs": [
    {
     "name": "stdout",
     "output_type": "stream",
     "text": [
      "n_prompt_tokens: 14, n_generated_tokens: 176\n"
     ]
    }
   ],
   "source": [
    "s1 = process_hidden_or_att(generated_ans.attentions)"
   ]
  },
  {
   "cell_type": "code",
   "execution_count": 50,
   "metadata": {},
   "outputs": [
    {
     "data": {
      "text/plain": [
       "(42, 16, 176, 190)"
      ]
     },
     "execution_count": 50,
     "metadata": {},
     "output_type": "execute_result"
    }
   ],
   "source": [
    "s1.shape"
   ]
  },
  {
   "cell_type": "code",
   "execution_count": 52,
   "metadata": {},
   "outputs": [
    {
     "data": {
      "text/plain": [
       "True"
      ]
     },
     "execution_count": 52,
     "metadata": {},
     "output_type": "execute_result"
    }
   ],
   "source": [
    "(s == s1).all()"
   ]
  },
  {
   "cell_type": "code",
   "execution_count": 87,
   "metadata": {},
   "outputs": [
    {
     "name": "stdout",
     "output_type": "stream",
     "text": [
      "n_prompt_tokens: 14, n_generated_tokens: 176\n",
      "n_prompt_tokens: 14, n_generated_tokens: 176\n",
      "n_prompt_tokens: 14, n_generated_tokens: 176\n",
      "n_prompt_tokens: 14, n_generated_tokens: 176\n",
      "n_prompt_tokens: 14, n_generated_tokens: 176\n",
      "n_prompt_tokens: 14, n_generated_tokens: 176\n",
      "n_prompt_tokens: 14, n_generated_tokens: 176\n",
      "n_prompt_tokens: 14, n_generated_tokens: 176\n",
      "The slowest run took 4.51 times longer than the fastest. This could mean that an intermediate result is being cached.\n",
      "1.69 s ± 566 ms per loop (mean ± std. dev. of 7 runs, 1 loop each)\n"
     ]
    }
   ],
   "source": [
    "%timeit process_hidden_or_att(generated_ans.attentions)"
   ]
  },
  {
   "cell_type": "code",
   "execution_count": 9,
   "metadata": {},
   "outputs": [],
   "source": [
    "from golemai.nlp.prompts import QUERY_INTRO_NO_ANS, SYSTEM_MSG_RAG, SYSTEM_MSG_RAG_SHORT\n",
    "from golemai.nlp.llm_module import prepare_prompt\n",
    "from golemai.nlp.llm_resp_gen import LLMRespGen"
   ]
  },
  {
   "cell_type": "code",
   "execution_count": 18,
   "metadata": {},
   "outputs": [],
   "source": [
    "df1 = pd.read_parquet(os.path.join(\"..\", DATA_DIR, 'new_version_merged_df.parquet'))"
   ]
  },
  {
   "cell_type": "code",
   "execution_count": 19,
   "metadata": {},
   "outputs": [
    {
     "name": "stdout",
     "output_type": "stream",
     "text": [
      "Using device: cuda, device_num = 0\n"
     ]
    }
   ],
   "source": [
    "llm_rg = LLMRespGen(\n",
    "    df=df1,\n",
    "    model_type='local',\n",
    "    system_msg=SYSTEM_MSG_RAG_SHORT,\n",
    "    prompt_template=QUERY_INTRO_NO_ANS,\n",
    "    batch_size=1,\n",
    ")"
   ]
  },
  {
   "cell_type": "code",
   "execution_count": 20,
   "metadata": {},
   "outputs": [],
   "source": [
    "df1 = df1.rename(columns={'question': 'query'}) "
   ]
  },
  {
   "cell_type": "code",
   "execution_count": 21,
   "metadata": {},
   "outputs": [],
   "source": [
    "llm_rg.llm = model\n",
    "llm_rg.tokenizer = tokenizer"
   ]
  },
  {
   "cell_type": "code",
   "execution_count": 23,
   "metadata": {},
   "outputs": [],
   "source": [
    "context_lengths = []\n",
    "\n",
    "for i, row in df1.iterrows():\n",
    "\n",
    "    formatted_prompt = llm_rg._get_ready_prompt(\n",
    "        row=row,\n",
    "        prompt_columns=['query', 'context']\n",
    "    )\n",
    "\n",
    "    inputs = tokenizer(formatted_prompt + row['answer'], return_tensors=\"pt\", padding=True, add_special_tokens=False)\n",
    "    context_lengths.append(inputs['input_ids'].shape[-1])"
   ]
  },
  {
   "cell_type": "code",
   "execution_count": 24,
   "metadata": {},
   "outputs": [],
   "source": [
    "context_lengths = np.array(context_lengths)"
   ]
  },
  {
   "cell_type": "code",
   "execution_count": 28,
   "metadata": {},
   "outputs": [],
   "source": [
    "df1['context_length'] = context_lengths"
   ]
  },
  {
   "cell_type": "code",
   "execution_count": 29,
   "metadata": {},
   "outputs": [],
   "source": [
    "df1.to_parquet(os.path.join(\"..\", DATA_DIR, 'new_version_merged_df.parquet'))"
   ]
  },
  {
   "cell_type": "code",
   "execution_count": 30,
   "metadata": {},
   "outputs": [],
   "source": [
    "df2 = pd.read_parquet(os.path.join(\"..\", DATA_DIR, 'new_version_sample_1500_filtered.parquet'))"
   ]
  },
  {
   "cell_type": "code",
   "execution_count": 35,
   "metadata": {},
   "outputs": [
    {
     "data": {
      "text/plain": [
       "array(['polqa_2503', 'poquad_v2_4138',\n",
       "       'hotpotqa_en_5a85b16f5542991dd0999e8d',\n",
       "       'hotpotqa_pl_5adfed45554299603e4183c5', 'poquad_v2_48248',\n",
       "       'hotpotqa_en_5ab2f338554299166977414d', 'poquad_v2_53158',\n",
       "       'poquad_v2_16175', 'bioask_991',\n",
       "       'hotpotqa_en_5ac4f2f055429924173fb505', 'poquad_v2_44979',\n",
       "       'nq_2566', 'polqa_6317', 'hotpotqa_en_5ac2bcaa55429921a00ab04b',\n",
       "       'nq_1933', 'polqa_2574', 'hotpotqa_pl_5abbf3845542993f40c73c2e',\n",
       "       'hotpotqa_en_5a7da50b5542995ed0d16650', 'polqa_719',\n",
       "       'hotpotqa_pl_5ae5a4e5554299546bf82f01', 'nq_754',\n",
       "       'hotpotqa_en_5a855afc5542991dd0999e54',\n",
       "       'hotpotqa_en_5a7f3d325542992e7d278cb5',\n",
       "       'hotpotqa_en_5ae2a177554299495565daf0',\n",
       "       'hotpotqa_en_5ae5a43e554299546bf82efe',\n",
       "       'hotpotqa_en_5a8b3dd75542997f31a41cc2', 'nq_2505', 'nq_1665',\n",
       "       'hotpotqa_en_5a7bad48554299294a54aa8f',\n",
       "       'hotpotqa_en_5ade956b554299728e26c743', 'poquad_v2_34539',\n",
       "       'nq_2628', 'hotpotqa_pl_5ab310bb554299233954fef9',\n",
       "       'hotpotqa_en_5a7e928355429934daa2fc34',\n",
       "       'hotpotqa_pl_5a8cc08455429941ae14deea', 'poquad_v2_6761',\n",
       "       'nq_1398', 'poquad_v2_48344', 'nq_1826', 'poquad_v2_22603',\n",
       "       'poquad_v2_641', 'polqa_1815', 'polqa_2993', 'nq_785',\n",
       "       'bioask_1390', 'nq_664', 'hotpotqa_en_5a7530fa5542993748c897e2',\n",
       "       'nq_22', 'nq_1341', 'nq_933', 'poquad_v2_16826', 'polqa_785',\n",
       "       'nq_2434', 'poquad_v2_7978',\n",
       "       'hotpotqa_en_5ab792d75542992aa3b8c82c', 'poquad_v2_48335',\n",
       "       'poquad_v2_21972', 'nq_2572',\n",
       "       'hotpotqa_en_5ae174b35542990adbacf79b', 'poquad_v2_19867',\n",
       "       'nq_2260', 'hotpotqa_en_5ab8500b55429916710eb033',\n",
       "       'hotpotqa_en_5ab7f6d65542991d322237e2', 'nq_676', 'nq_1836',\n",
       "       'hotpotqa_pl_5ae690b055429908198fa622',\n",
       "       'hotpotqa_en_5a8a2ac55542992d82986edc',\n",
       "       'hotpotqa_pl_5a85ac1e5542997b5ce4001f',\n",
       "       'hotpotqa_en_5a78ed46554299148911f9a6', 'polqa_273',\n",
       "       'hotpotqa_en_5a85f8a85542997b5ce4003d', 'nq_789', 'nq_2231',\n",
       "       'nq_1001', 'nq_715', 'polqa_3034',\n",
       "       'hotpotqa_pl_5a84e9d35542994c784dda84', 'nq_1620', 'nq_1278',\n",
       "       'hotpotqa_pl_5ae3c5535542991a06ce9a20', 'bioask_623',\n",
       "       'poquad_v2_34813', 'nq_2531', 'polqa_6663',\n",
       "       'hotpotqa_pl_5addc7e35542997545bbbdbe', 'polqa_2685', 'nq_792',\n",
       "       'hotpotqa_pl_5a7a77425542995eb53be83e',\n",
       "       'hotpotqa_en_5a7773be5542997042120a51',\n",
       "       'hotpotqa_en_5ae3546a5542992e3233c380', 'poquad_v2_32228',\n",
       "       'nq_916', 'polqa_3024', 'polqa_6449',\n",
       "       'hotpotqa_en_5a81ba2c5542995ce29dcc5a', 'polqa_421',\n",
       "       'poquad_v2_36633', 'hotpotqa_en_5adc7c7f5542994d58a2f613',\n",
       "       'nq_1210', 'poquad_v2_43717', 'poquad_v2_40943', 'poquad_v2_26246',\n",
       "       'poquad_v2_34364', 'nq_2322',\n",
       "       'hotpotqa_pl_5abd0ee65542996e802b46d7',\n",
       "       'hotpotqa_en_5a769ac95542993569682c4f', 'poquad_v2_29683',\n",
       "       'nq_1088', 'bioask_1799', 'polqa_2310', 'poquad_v2_16679',\n",
       "       'hotpotqa_en_5adc70445542994650320cff', 'nq_960',\n",
       "       'hotpotqa_en_5a7cbb46554299452d57b9d0', 'poquad_v2_27615',\n",
       "       'poquad_v2_35632', 'nq_1130', 'polqa_192', 'polqa_2844',\n",
       "       'bioask_941', 'nq_2193', 'poquad_v2_19809', 'nq_455', 'polqa_855',\n",
       "       'hotpotqa_en_5abcc28955429959677d6ad4', 'nq_1755', 'bioask_511',\n",
       "       'poquad_v2_21207', 'nq_993', 'nq_575', 'poquad_v2_35805',\n",
       "       'polqa_6158', 'bioask_886', 'hotpotqa_en_5ab3d59355429969a97a81c4',\n",
       "       'bioask_176', 'poquad_v2_13079',\n",
       "       'hotpotqa_en_5adc14cd554299438c868d47', 'nq_1368',\n",
       "       'hotpotqa_en_5a77931f5542992a6e59df03',\n",
       "       'hotpotqa_pl_5a7c35025542996dd594b8d7', 'bioask_504',\n",
       "       'poquad_v2_49501', 'poquad_v2_44546', 'poquad_v2_27000', 'nq_1365',\n",
       "       'poquad_v2_47375', 'poquad_v2_31380',\n",
       "       'hotpotqa_pl_5ac26ac15542992f1f2b38bc', 'poquad_v2_14455',\n",
       "       'poquad_v2_46855', 'polqa_363', 'nq_2022',\n",
       "       'hotpotqa_en_5a8207a45542990a1d231f19',\n",
       "       'hotpotqa_en_5ac28c3d554299677310257e',\n",
       "       'hotpotqa_en_5abb16415542992ccd8e7f0d', 'bioask_488',\n",
       "       'poquad_v2_33848', 'nq_631', 'nq_1437', 'poquad_v2_28233',\n",
       "       'nq_1456', 'hotpotqa_pl_5abba17a5542992ccd8e7f60',\n",
       "       'hotpotqa_en_5ac2a10355429967731025c6', 'polqa_333',\n",
       "       'poquad_v2_38627', 'poquad_v2_30652', 'nq_1886',\n",
       "       'hotpotqa_en_5abbc70d5542992ccd8e7f9b', 'poquad_v2_10809',\n",
       "       'poquad_v2_43768', 'nq_670', 'bioask_770', 'poquad_v2_24946',\n",
       "       'nq_59', 'nq_2282', 'poquad_v2_46564', 'poquad_v2_35248', 'nq_699',\n",
       "       'hotpotqa_en_5a82670d5542995ce29dccf8', 'nq_744',\n",
       "       'poquad_v2_43661', 'polqa_1490', 'nq_1171', 'poquad_v2_37407',\n",
       "       'nq_1635', 'poquad_v2_44085',\n",
       "       'hotpotqa_pl_5a85dfcc5542994775f60673', 'poquad_v2_25132',\n",
       "       'polqa_371', 'nq_2516', 'nq_2549',\n",
       "       'hotpotqa_pl_5ae791245542997b22f6a7a3',\n",
       "       'hotpotqa_en_5a7e231a55429965cec5ea91',\n",
       "       'hotpotqa_en_5ac39af3554299391541380e',\n",
       "       'hotpotqa_en_5a7665b75542992db947379d', 'nq_1679',\n",
       "       'hotpotqa_pl_5ac048cc554299294b218f73',\n",
       "       'hotpotqa_pl_5ac5382c5542996feb3fea43', 'bioask_800',\n",
       "       'poquad_v2_1827', 'bioask_1772', 'nq_2499', 'bioask_257', 'nq_610',\n",
       "       'polqa_2269', 'nq_1711', 'polqa_3366', 'poquad_v2_27656',\n",
       "       'nq_1458', 'nq_2299', 'hotpotqa_en_5a79511355429970f5fffe9a',\n",
       "       'poquad_v2_17499', 'hotpotqa_en_5a7d2952554299452d57bb38',\n",
       "       'hotpotqa_en_5a8c43bc5542997f31a41e0d', 'nq_2253',\n",
       "       'hotpotqa_en_5a8164d3554299260e20a286', 'polqa_1610', 'nq_592',\n",
       "       'nq_2324', 'polqa_1394', 'poquad_v2_2579', 'poquad_v2_21610',\n",
       "       'nq_374', 'hotpotqa_en_5adf49215542993a75d2648a',\n",
       "       'poquad_v2_38329', 'nq_952',\n",
       "       'hotpotqa_en_5a8023055542992097ad2fdd', 'poquad_v2_54228',\n",
       "       'polqa_3171', 'poquad_v2_18384', 'nq_1939', 'polqa_1221',\n",
       "       'bioask_1471', 'bioask_1147', 'bioask_86', 'bioask_1688', 'nq_593',\n",
       "       'polqa_6334', 'polqa_4811', 'nq_2030', 'polqa_5290',\n",
       "       'poquad_v2_29924', 'poquad_v2_6557', 'bioask_1524',\n",
       "       'hotpotqa_pl_5a7c6753554299683c1c62f9', 'polqa_438',\n",
       "       'poquad_v2_21758', 'nq_802',\n",
       "       'hotpotqa_pl_5ae7525f5542991e8301cc60', 'nq_2292', 'nq_1084',\n",
       "       'hotpotqa_pl_5a8eea4a5542990e94052bb7',\n",
       "       'hotpotqa_en_5ab3b6415542992ade7c6e54', 'nq_2177',\n",
       "       'hotpotqa_pl_5ae4ad3155429913cc2044cb',\n",
       "       'hotpotqa_en_5abd5ba855429933744ab78d', 'polqa_2739', 'bioask_864',\n",
       "       'hotpotqa_pl_5adf099a5542992d7e9f927f',\n",
       "       'hotpotqa_en_5a769bcb5542993569682c55',\n",
       "       'hotpotqa_en_5abaadee55429955dce3eec8', 'poquad_v2_45741',\n",
       "       'poquad_v2_44470', 'hotpotqa_pl_5ae471fa55429970de88d965',\n",
       "       'poquad_v2_35670', 'hotpotqa_pl_5ae65c925542992ae0d162f9',\n",
       "       'hotpotqa_en_5a77d35c5542997042120b4d',\n",
       "       'hotpotqa_en_5a8050fa5542996402f6a4b8', 'polqa_640',\n",
       "       'hotpotqa_pl_5ade99235542997c77adee7f', 'bioask_1080',\n",
       "       'hotpotqa_en_5a770ec955429972597f1420',\n",
       "       'hotpotqa_pl_5abd8ac25542993062266cc2', 'bioask_554',\n",
       "       'hotpotqa_en_5ae4ba9255429913cc2044e6',\n",
       "       'hotpotqa_en_5a7a8c2755429927d897bec0',\n",
       "       'hotpotqa_en_5a7dcb5d5542990b8f503ab1', 'poquad_v2_50044',\n",
       "       'nq_1550', 'nq_2622', 'poquad_v2_26162', 'poquad_v2_56168',\n",
       "       'nq_697', 'hotpotqa_en_5abd01705542992ac4f3819e', 'nq_2180',\n",
       "       'hotpotqa_en_5a7dad815542990b8f503a29', 'poquad_v2_37706',\n",
       "       'polqa_830', 'nq_230', 'bioask_1258',\n",
       "       'hotpotqa_en_5abbb4185542992ccd8e7f75',\n",
       "       'hotpotqa_pl_5ac4e07e5542996feb3fe95c', 'poquad_v2_47559',\n",
       "       'nq_2317', 'nq_969', 'nq_1854', 'poquad_v2_31652', 'nq_2390',\n",
       "       'poquad_v2_12995', 'bioask_688', 'nq_1809', 'polqa_2119',\n",
       "       'hotpotqa_pl_5a79c1335542994bb9457066', 'nq_1759',\n",
       "       'poquad_v2_12596', 'poquad_v2_44725', 'nq_1235', 'nq_1239',\n",
       "       'nq_1630', 'hotpotqa_en_5a8432495542996488c2e50e', 'polqa_3185',\n",
       "       'hotpotqa_pl_5a72a0be5542992359bc3143', 'poquad_v2_48577',\n",
       "       'nq_558', 'nq_1129', 'nq_1695', 'poquad_v2_15674',\n",
       "       'hotpotqa_pl_5ac3090d5542990b17b154fc',\n",
       "       'hotpotqa_en_5ac05c085542992a796dece4', 'polqa_2981', 'bioask_341',\n",
       "       'poquad_v2_21736', 'nq_2574', 'poquad_v2_15727', 'poquad_v2_40383',\n",
       "       'poquad_v2_53942', 'polqa_4951',\n",
       "       'hotpotqa_en_5ae535145542990ba0bbb21f',\n",
       "       'hotpotqa_en_5a778d3b55429949eeb29eee',\n",
       "       'hotpotqa_en_5ae541c655429908b63265bc', 'polqa_3134', 'polqa_1478',\n",
       "       'poquad_v2_25771', 'nq_560', 'poquad_v2_36417', 'poquad_v2_19793',\n",
       "       'hotpotqa_en_5ac55ef95542993e66e8237c',\n",
       "       'hotpotqa_en_5a84a4735542991dd0999d56',\n",
       "       'hotpotqa_en_5a79c828554299148911fa4c', 'nq_2463',\n",
       "       'poquad_v2_9553', 'poquad_v2_56461',\n",
       "       'hotpotqa_en_5ab6a66755429953192ad34f', 'nq_126',\n",
       "       'hotpotqa_pl_5a811152554299260e20a22e', 'poquad_v2_5567',\n",
       "       'poquad_v2_34681', 'hotpotqa_pl_5ab639e65542995eadeeff7f',\n",
       "       'poquad_v2_44810', 'polqa_1533',\n",
       "       'hotpotqa_en_5abdb08655429965af743dc4', 'poquad_v2_7837',\n",
       "       'hotpotqa_en_5a8ba62d554299240d9c205c', 'nq_423',\n",
       "       'poquad_v2_39520', 'nq_539', 'poquad_v2_19805',\n",
       "       'hotpotqa_en_5ae5fe195542996de7b71abc', 'bioask_83', 'polqa_147',\n",
       "       'poquad_v2_5701', 'hotpotqa_en_5a80a8dc554299485f598686',\n",
       "       'nq_2073', 'polqa_3275', 'poquad_v2_32974',\n",
       "       'hotpotqa_en_5abeb8965542993fe9a41d27', 'nq_922', 'polqa_440',\n",
       "       'hotpotqa_pl_5ae3205c55429928c423961e', 'polqa_1868', 'nq_1123',\n",
       "       'nq_1065', 'hotpotqa_en_5ae403045542995dadf242d2',\n",
       "       'hotpotqa_pl_5a89e2785542992e4fca843d',\n",
       "       'hotpotqa_en_5a89bdf65542992e4fca83ae', 'nq_1026', 'nq_2570',\n",
       "       'nq_1862', 'hotpotqa_en_5addfeb35542997dc7907110', 'nq_452',\n",
       "       'nq_2021', 'hotpotqa_pl_5ab45a0b5542991779162c7e', 'nq_1006',\n",
       "       'nq_1996', 'poquad_v2_22311',\n",
       "       'hotpotqa_en_5a7cc49b55429907fabef028', 'polqa_1658',\n",
       "       'poquad_v2_24411', 'poquad_v2_25743', 'poquad_v2_47832',\n",
       "       'hotpotqa_pl_5ac0d981554299012d1db646',\n",
       "       'hotpotqa_pl_5a7292385542994cef4bc342', 'polqa_643',\n",
       "       'hotpotqa_en_5a81388155429926c1cdad1a', 'polqa_5065',\n",
       "       'poquad_v2_16182', 'polqa_3354', 'poquad_v2_37650', 'nq_1252',\n",
       "       'bioask_1441', 'hotpotqa_en_5ae50c2155429908b63264f5', 'nq_668',\n",
       "       'bioask_355', 'poquad_v2_9316',\n",
       "       'hotpotqa_pl_5ae034bd55429925eb1afc2a', 'nq_284', 'bioask_608',\n",
       "       'hotpotqa_en_5ab2478555429970612095d0', 'bioask_837',\n",
       "       'poquad_v2_25198', 'polqa_2509', 'nq_58', 'poquad_v2_2600',\n",
       "       'hotpotqa_en_5a84e2505542997175ce1f27', 'polqa_67', 'nq_1833',\n",
       "       'hotpotqa_pl_5a73830d55429908901be2da', 'polqa_3302',\n",
       "       'bioask_1024', 'poquad_v2_42089', 'bioask_773', 'nq_612',\n",
       "       'hotpotqa_en_5a712a5e5542994082a3e60c', 'nq_648', 'nq_1461',\n",
       "       'nq_2087', 'poquad_v2_41594', 'nq_1640', 'poquad_v2_5218',\n",
       "       'hotpotqa_en_5a8fbe655542997ba9cb3311', 'bioask_1366',\n",
       "       'poquad_v2_38377', 'poquad_v2_19463', 'polqa_6490',\n",
       "       'poquad_v2_32575', 'nq_1432', 'polqa_6746', 'nq_2571',\n",
       "       'hotpotqa_pl_5a7319bc5542992359bc3235',\n",
       "       'hotpotqa_en_5ae8461b5542997ec272778a', 'poquad_v2_11041',\n",
       "       'poquad_v2_34409', 'hotpotqa_en_5ae043bf55429924de1b7082',\n",
       "       'nq_2342', 'nq_1528', 'polqa_6048', 'bioask_982', 'nq_2425',\n",
       "       'polqa_4802', 'poquad_v2_39164', 'poquad_v2_52319',\n",
       "       'hotpotqa_en_5a7f250955429934daa2fcf1', 'poquad_v2_10522',\n",
       "       'polqa_6743', 'hotpotqa_en_5abdaa8f55429965af743dae', 'bioask_256',\n",
       "       'poquad_v2_15591', 'hotpotqa_pl_5aba7a22554299232ef4a2e7',\n",
       "       'nq_2432', 'hotpotqa_pl_5a79332555429907847277e7',\n",
       "       'poquad_v2_45726', 'poquad_v2_29128', 'nq_1460', 'nq_2208',\n",
       "       'hotpotqa_en_5ac120f0554299294b2190b0',\n",
       "       'hotpotqa_en_5a84625c5542990548d0b29e', 'nq_2285', 'nq_170',\n",
       "       'nq_2563', 'hotpotqa_pl_5a8e068b5542995085b37384', 'nq_1166',\n",
       "       'nq_2633', 'bioask_1117', 'poquad_v2_26826',\n",
       "       'hotpotqa_en_5ae078af5542993d6555eb77',\n",
       "       'hotpotqa_pl_5ae675245542991bbc9760dc', 'poquad_v2_12629',\n",
       "       'nq_2369', 'hotpotqa_en_5ab3907d5542992ade7c6de4', 'bioask_1350',\n",
       "       'poquad_v2_33224', 'bioask_201', 'bioask_556', 'poquad_v2_44845',\n",
       "       'nq_1476', 'nq_775', 'poquad_v2_27872', 'nq_2653',\n",
       "       'hotpotqa_pl_5a7af74e55429931da12c9b5',\n",
       "       'hotpotqa_en_5a8bac295542996e8ac889a0', 'bioask_324', 'bioask_863',\n",
       "       'nq_712', 'poquad_v2_44338',\n",
       "       'hotpotqa_pl_5ab6369655429953192ad2a1',\n",
       "       'hotpotqa_en_5a870d5f55429960ec39b713', 'nq_743',\n",
       "       'poquad_v2_51856', 'nq_29', 'poquad_v2_520', 'poquad_v2_16859',\n",
       "       'nq_1165', 'nq_2344', 'hotpotqa_en_5ae0fdde554299422ee995a7',\n",
       "       'hotpotqa_en_5ae2239e5542996483e64900', 'bioask_720', 'polqa_2632',\n",
       "       'poquad_v2_54562', 'polqa_1411', 'poquad_v2_9499', 'polqa_1548',\n",
       "       'nq_1966', 'hotpotqa_en_5ae31fae5542991a06ce992c',\n",
       "       'poquad_v2_28477', 'bioask_1678', 'nq_851',\n",
       "       'hotpotqa_pl_5ae20c465542997283cd236a', 'poquad_v2_53039',\n",
       "       'bioask_1060', 'hotpotqa_en_5ade0ace5542995b365fabe5', 'polqa_283',\n",
       "       'poquad_v2_15866', 'hotpotqa_en_5ab731b45542992aa3b8c7c7',\n",
       "       'hotpotqa_en_5ab6c15e55429954757d3362', 'poquad_v2_27281',\n",
       "       'nq_1921', 'nq_1186', 'nq_2057',\n",
       "       'hotpotqa_pl_5a8762205542996e4f3087b8', 'nq_1345',\n",
       "       'poquad_v2_15380', 'poquad_v2_6746',\n",
       "       'hotpotqa_pl_5a75e3845542994ccc91864e', 'polqa_1270',\n",
       "       'bioask_1364', 'hotpotqa_pl_5ae236b2554299495565da3e',\n",
       "       'polqa_3245', 'hotpotqa_en_5ae1146055429901ffe4ad57',\n",
       "       'poquad_v2_36559', 'poquad_v2_48207', 'poquad_v2_1028',\n",
       "       'poquad_v2_38774', 'hotpotqa_pl_5ab67ce2554299710c8d1ead',\n",
       "       'poquad_v2_2423', 'nq_189', 'nq_106', 'poquad_v2_49553', 'nq_2557',\n",
       "       'poquad_v2_26560', 'polqa_5271', 'nq_609', 'polqa_1357',\n",
       "       'poquad_v2_39192', 'nq_2455', 'bioask_1318', 'poquad_v2_26477',\n",
       "       'polqa_1589', 'poquad_v2_19830', 'poquad_v2_43478',\n",
       "       'poquad_v2_6190', 'hotpotqa_pl_5adc094a55429947ff1738c0',\n",
       "       'bioask_787', 'polqa_3420', 'poquad_v2_43944', 'nq_1850',\n",
       "       'polqa_1972', 'polqa_5236', 'nq_2091', 'polqa_2840', 'nq_217',\n",
       "       'poquad_v2_30047', 'nq_566',\n",
       "       'hotpotqa_en_5ae80174554299321098402a',\n",
       "       'hotpotqa_en_5a7dd6255542995f4f4022c9',\n",
       "       'hotpotqa_pl_5a734f4455429901807dafba', 'polqa_3691',\n",
       "       'poquad_v2_34463', 'bioask_1724', 'nq_622', 'bioask_62',\n",
       "       'poquad_v2_11333', 'nq_1499', 'poquad_v2_28602', 'bioask_1537',\n",
       "       'polqa_875', 'nq_297', 'poquad_v2_18500', 'poquad_v2_36322',\n",
       "       'nq_2148', 'hotpotqa_en_5ae73ae45542991e8301cc08',\n",
       "       'hotpotqa_pl_5ae0d4c9554299603e418468', 'poquad_v2_14790',\n",
       "       'hotpotqa_en_5a810a805542995ce29dcba5', 'polqa_2050',\n",
       "       'hotpotqa_pl_5a7fb90655429969796c1b34', 'nq_201', 'bioask_518',\n",
       "       'hotpotqa_pl_5a8dd5b855429917b4a5bcc6', 'polqa_6292',\n",
       "       'poquad_v2_9084', 'poquad_v2_48935', 'poquad_v2_26504',\n",
       "       'hotpotqa_pl_5a876f785542993e715abf42', 'nq_82', 'poquad_v2_51468',\n",
       "       'poquad_v2_51441', 'hotpotqa_pl_5adcfba05542990d50227d83',\n",
       "       'nq_868', 'polqa_129', 'hotpotqa_pl_5a7736bc554299373536021b',\n",
       "       'poquad_v2_11059', 'poquad_v2_25534', 'nq_980', 'nq_68', 'nq_1484',\n",
       "       'poquad_v2_389', 'nq_1140', 'hotpotqa_en_5ab55435554299488d4d9939',\n",
       "       'polqa_2744', 'poquad_v2_8461', 'polqa_2080', 'polqa_1944',\n",
       "       'poquad_v2_47296', 'hotpotqa_en_5a72c5115542992359bc31a5',\n",
       "       'poquad_v2_48643', 'hotpotqa_pl_5a84ee4c5542997175ce1f2b',\n",
       "       'hotpotqa_pl_5ab6ddb655429953192ad39e', 'nq_2596', 'nq_428',\n",
       "       'poquad_v2_16782', 'poquad_v2_54810',\n",
       "       'hotpotqa_en_5ac307dd5542990b17b154f3', 'polqa_1875', 'polqa_6144',\n",
       "       'poquad_v2_30666', 'poquad_v2_39410', 'nq_2609', 'poquad_v2_13368',\n",
       "       'hotpotqa_en_5a7a672055429941d65f2620', 'poquad_v2_36385',\n",
       "       'bioask_1443', 'polqa_1088', 'poquad_v2_21717', 'nq_1677',\n",
       "       'polqa_417', 'hotpotqa_pl_5ab42b8955429942dd415ea6', 'polqa_496',\n",
       "       'hotpotqa_en_5a76d36155429966f1a36bfc',\n",
       "       'hotpotqa_en_5ae2d83855429928c42394f6', 'nq_2110',\n",
       "       'hotpotqa_pl_5a8b91d25542995d1e6f13fc',\n",
       "       'hotpotqa_pl_5ab2a54b554299295394678e',\n",
       "       'hotpotqa_pl_5a84b7db5542991dd0999db0', 'poquad_v2_52757',\n",
       "       'hotpotqa_en_5ade9d7e5542992fa25da7dc', 'poquad_v2_569', 'nq_848',\n",
       "       'polqa_104', 'bioask_627', 'poquad_v2_5748', 'nq_924',\n",
       "       'poquad_v2_4785', 'hotpotqa_pl_5ac532335542994611c8b41c', 'nq_241',\n",
       "       'poquad_v2_38712', 'poquad_v2_26897', 'poquad_v2_52252',\n",
       "       'polqa_6538', 'hotpotqa_en_5ae78f9d5542994a481bbda4',\n",
       "       'hotpotqa_pl_5a82bdd655429940e5e1a92a', 'poquad_v2_19122',\n",
       "       'poquad_v2_15041', 'polqa_3464', 'nq_210', 'polqa_2264',\n",
       "       'bioask_1734', 'poquad_v2_39470',\n",
       "       'hotpotqa_en_5ae01d70554299603e4183ea', 'nq_2341'], dtype=object)"
      ]
     },
     "execution_count": 35,
     "metadata": {},
     "output_type": "execute_result"
    }
   ],
   "source": [
    "df2.reset_index().iloc[:679]['id'].values"
   ]
  },
  {
   "cell_type": "code",
   "execution_count": 36,
   "metadata": {},
   "outputs": [],
   "source": [
    "df1 = df1.loc[~df1['id'].isin(df2.reset_index().iloc[:680]['id'].values)]"
   ]
  },
  {
   "cell_type": "code",
   "execution_count": 39,
   "metadata": {},
   "outputs": [],
   "source": [
    "df1.reset_index(drop=True).to_parquet(os.path.join(\"..\", DATA_DIR, 'new_version_rest_sample.parquet'))"
   ]
  },
  {
   "cell_type": "code",
   "execution_count": 27,
   "metadata": {},
   "outputs": [
    {
     "data": {
      "text/plain": [
       "0.010764781491002571"
      ]
     },
     "execution_count": 27,
     "metadata": {},
     "output_type": "execute_result"
    }
   ],
   "source": [
    "(context_lengths > 4096).sum() / len(context_lengths)"
   ]
  },
  {
   "cell_type": "code",
   "execution_count": 111,
   "metadata": {},
   "outputs": [
    {
     "name": "stdout",
     "output_type": "stream",
     "text": [
      "Note: you may need to restart the kernel to use updated packages.\n"
     ]
    }
   ],
   "source": [
    "pip install jinja2>=3.1.0"
   ]
  },
  {
   "cell_type": "code",
   "execution_count": 99,
   "metadata": {},
   "outputs": [
    {
     "data": {
      "text/html": [
       "<div>\n",
       "<style scoped>\n",
       "    .dataframe tbody tr th:only-of-type {\n",
       "        vertical-align: middle;\n",
       "    }\n",
       "\n",
       "    .dataframe tbody tr th {\n",
       "        vertical-align: top;\n",
       "    }\n",
       "\n",
       "    .dataframe thead th {\n",
       "        text-align: right;\n",
       "    }\n",
       "</style>\n",
       "<table border=\"1\" class=\"dataframe\">\n",
       "  <thead>\n",
       "    <tr style=\"text-align: right;\">\n",
       "      <th></th>\n",
       "      <th>index</th>\n",
       "      <th>id</th>\n",
       "      <th>dataset</th>\n",
       "      <th>question</th>\n",
       "      <th>answer</th>\n",
       "      <th>context</th>\n",
       "      <th>formatted_context</th>\n",
       "      <th>context_length</th>\n",
       "      <th>answer_length</th>\n",
       "    </tr>\n",
       "  </thead>\n",
       "  <tbody>\n",
       "    <tr>\n",
       "      <th>0</th>\n",
       "      <td>4172</td>\n",
       "      <td>polqa_2503</td>\n",
       "      <td>polqa</td>\n",
       "      <td>Ile okrętów w 1588 r. liczyła Wielka Armada: 1...</td>\n",
       "      <td>130</td>\n",
       "      <td>`Dokument [1]:` 18 sierpnia królowa dokonała p...</td>\n",
       "      <td>\\n    You are a helpful assistant. Your job wi...</td>\n",
       "      <td>1366</td>\n",
       "      <td>4</td>\n",
       "    </tr>\n",
       "    <tr>\n",
       "      <th>1</th>\n",
       "      <td>1895</td>\n",
       "      <td>poquad_v2_4138</td>\n",
       "      <td>poquad_v2</td>\n",
       "      <td>Po ilu dniach od premiery jego utwór \"Psycho\" ...</td>\n",
       "      <td>Nie mogę udzielić odpowiedzi na to pytanie na ...</td>\n",
       "      <td>`Dokument [ \"Post Malone\" ]:` 20 lutego 2018 r...</td>\n",
       "      <td>\\n    You are a helpful assistant. Your job wi...</td>\n",
       "      <td>607</td>\n",
       "      <td>17</td>\n",
       "    </tr>\n",
       "    <tr>\n",
       "      <th>2</th>\n",
       "      <td>5511</td>\n",
       "      <td>hotpotqa_en_5a85b16f5542991dd0999e8d</td>\n",
       "      <td>hotpotqa_en</td>\n",
       "      <td>Raja Rajendra is a 2015 Kannada comedy film th...</td>\n",
       "      <td>Ishita Dutta</td>\n",
       "      <td>`Dokument [ \"Ouija (2015 film)\" ]:` Ouija (als...</td>\n",
       "      <td>\\n    You are a helpful assistant. Your job wi...</td>\n",
       "      <td>1658</td>\n",
       "      <td>4</td>\n",
       "    </tr>\n",
       "    <tr>\n",
       "      <th>3</th>\n",
       "      <td>3427</td>\n",
       "      <td>hotpotqa_pl_5adfed45554299603e4183c5</td>\n",
       "      <td>hotpotqa_pl</td>\n",
       "      <td>Jakie jest wspólne zajęcie Sidney'ego Lumeta i...</td>\n",
       "      <td>scenarzystka</td>\n",
       "      <td>`Dokument [ \"Gotham Independent Film Awards 19...</td>\n",
       "      <td>\\n    You are a helpful assistant. Your job wi...</td>\n",
       "      <td>839</td>\n",
       "      <td>5</td>\n",
       "    </tr>\n",
       "    <tr>\n",
       "      <th>4</th>\n",
       "      <td>2095</td>\n",
       "      <td>poquad_v2_48248</td>\n",
       "      <td>poquad_v2</td>\n",
       "      <td>W jakim programie telewizyjnym wystąpiła jako ...</td>\n",
       "      <td>Nie mogę udzielić odpowiedzi na to pytanie na ...</td>\n",
       "      <td>`Dokument [ \"Joanna Jędrzejczyk\" ]:` Od 2012 z...</td>\n",
       "      <td>\\n    You are a helpful assistant. Your job wi...</td>\n",
       "      <td>585</td>\n",
       "      <td>17</td>\n",
       "    </tr>\n",
       "    <tr>\n",
       "      <th>...</th>\n",
       "      <td>...</td>\n",
       "      <td>...</td>\n",
       "      <td>...</td>\n",
       "      <td>...</td>\n",
       "      <td>...</td>\n",
       "      <td>...</td>\n",
       "      <td>...</td>\n",
       "      <td>...</td>\n",
       "      <td>...</td>\n",
       "    </tr>\n",
       "    <tr>\n",
       "      <th>674</th>\n",
       "      <td>5089</td>\n",
       "      <td>polqa_2264</td>\n",
       "      <td>polqa</td>\n",
       "      <td>W jakich górach w Polsce znajdują się złoża ma...</td>\n",
       "      <td>w Sudetach</td>\n",
       "      <td>`Dokument [1]:` W Polsce: spotykany bywa w Gór...</td>\n",
       "      <td>\\n    You are a helpful assistant. Your job wi...</td>\n",
       "      <td>1647</td>\n",
       "      <td>4</td>\n",
       "    </tr>\n",
       "    <tr>\n",
       "      <th>675</th>\n",
       "      <td>5912</td>\n",
       "      <td>bioask_1734</td>\n",
       "      <td>bioask</td>\n",
       "      <td>Jaki był cel badania klinicznego HAMLET?</td>\n",
       "      <td>Celem badania klinicznego HAMLET (Hemicraniect...</td>\n",
       "      <td>`Dokument [1]:` TŁO: Pacjenci z zawałami półku...</td>\n",
       "      <td>\\n    You are a helpful assistant. Your job wi...</td>\n",
       "      <td>3506</td>\n",
       "      <td>79</td>\n",
       "    </tr>\n",
       "    <tr>\n",
       "      <th>676</th>\n",
       "      <td>1927</td>\n",
       "      <td>poquad_v2_39470</td>\n",
       "      <td>poquad_v2</td>\n",
       "      <td>Czy zaleca się leczenie osób, które nie są w g...</td>\n",
       "      <td>Nie mogę udzielić odpowiedzi na to pytanie na ...</td>\n",
       "      <td>`Dokument [ \"Schizofrenia\" ]:` Nie istnieją ża...</td>\n",
       "      <td>\\n    You are a helpful assistant. Your job wi...</td>\n",
       "      <td>684</td>\n",
       "      <td>17</td>\n",
       "    </tr>\n",
       "    <tr>\n",
       "      <th>677</th>\n",
       "      <td>3412</td>\n",
       "      <td>hotpotqa_en_5ae01d70554299603e4183ea</td>\n",
       "      <td>hotpotqa_en</td>\n",
       "      <td>Martin Beck grew up 20 blocks from a neighborh...</td>\n",
       "      <td>Niagara Falls</td>\n",
       "      <td>`Dokument [ \"Hunters Green\" ]:` Hunters Green ...</td>\n",
       "      <td>\\n    You are a helpful assistant. Your job wi...</td>\n",
       "      <td>1693</td>\n",
       "      <td>3</td>\n",
       "    </tr>\n",
       "    <tr>\n",
       "      <th>678</th>\n",
       "      <td>1600</td>\n",
       "      <td>nq_2341</td>\n",
       "      <td>nq</td>\n",
       "      <td>who was the first executive president of guyana</td>\n",
       "      <td>Arthur Chung</td>\n",
       "      <td>`Dokument [ \"President of Guyana\" ]:` Presiden...</td>\n",
       "      <td>\\n    You are a helpful assistant. Your job wi...</td>\n",
       "      <td>1832</td>\n",
       "      <td>3</td>\n",
       "    </tr>\n",
       "  </tbody>\n",
       "</table>\n",
       "<p>679 rows × 9 columns</p>\n",
       "</div>"
      ],
      "text/plain": [
       "     index                                    id      dataset  \\\n",
       "0     4172                            polqa_2503        polqa   \n",
       "1     1895                        poquad_v2_4138    poquad_v2   \n",
       "2     5511  hotpotqa_en_5a85b16f5542991dd0999e8d  hotpotqa_en   \n",
       "3     3427  hotpotqa_pl_5adfed45554299603e4183c5  hotpotqa_pl   \n",
       "4     2095                       poquad_v2_48248    poquad_v2   \n",
       "..     ...                                   ...          ...   \n",
       "674   5089                            polqa_2264        polqa   \n",
       "675   5912                           bioask_1734       bioask   \n",
       "676   1927                       poquad_v2_39470    poquad_v2   \n",
       "677   3412  hotpotqa_en_5ae01d70554299603e4183ea  hotpotqa_en   \n",
       "678   1600                               nq_2341           nq   \n",
       "\n",
       "                                              question  \\\n",
       "0    Ile okrętów w 1588 r. liczyła Wielka Armada: 1...   \n",
       "1    Po ilu dniach od premiery jego utwór \"Psycho\" ...   \n",
       "2    Raja Rajendra is a 2015 Kannada comedy film th...   \n",
       "3    Jakie jest wspólne zajęcie Sidney'ego Lumeta i...   \n",
       "4    W jakim programie telewizyjnym wystąpiła jako ...   \n",
       "..                                                 ...   \n",
       "674  W jakich górach w Polsce znajdują się złoża ma...   \n",
       "675           Jaki był cel badania klinicznego HAMLET?   \n",
       "676  Czy zaleca się leczenie osób, które nie są w g...   \n",
       "677  Martin Beck grew up 20 blocks from a neighborh...   \n",
       "678    who was the first executive president of guyana   \n",
       "\n",
       "                                                answer  \\\n",
       "0                                                  130   \n",
       "1    Nie mogę udzielić odpowiedzi na to pytanie na ...   \n",
       "2                                         Ishita Dutta   \n",
       "3                                         scenarzystka   \n",
       "4    Nie mogę udzielić odpowiedzi na to pytanie na ...   \n",
       "..                                                 ...   \n",
       "674                                         w Sudetach   \n",
       "675  Celem badania klinicznego HAMLET (Hemicraniect...   \n",
       "676  Nie mogę udzielić odpowiedzi na to pytanie na ...   \n",
       "677                                      Niagara Falls   \n",
       "678                                       Arthur Chung   \n",
       "\n",
       "                                               context  \\\n",
       "0    `Dokument [1]:` 18 sierpnia królowa dokonała p...   \n",
       "1    `Dokument [ \"Post Malone\" ]:` 20 lutego 2018 r...   \n",
       "2    `Dokument [ \"Ouija (2015 film)\" ]:` Ouija (als...   \n",
       "3    `Dokument [ \"Gotham Independent Film Awards 19...   \n",
       "4    `Dokument [ \"Joanna Jędrzejczyk\" ]:` Od 2012 z...   \n",
       "..                                                 ...   \n",
       "674  `Dokument [1]:` W Polsce: spotykany bywa w Gór...   \n",
       "675  `Dokument [1]:` TŁO: Pacjenci z zawałami półku...   \n",
       "676  `Dokument [ \"Schizofrenia\" ]:` Nie istnieją ża...   \n",
       "677  `Dokument [ \"Hunters Green\" ]:` Hunters Green ...   \n",
       "678  `Dokument [ \"President of Guyana\" ]:` Presiden...   \n",
       "\n",
       "                                     formatted_context  context_length  \\\n",
       "0    \\n    You are a helpful assistant. Your job wi...            1366   \n",
       "1    \\n    You are a helpful assistant. Your job wi...             607   \n",
       "2    \\n    You are a helpful assistant. Your job wi...            1658   \n",
       "3    \\n    You are a helpful assistant. Your job wi...             839   \n",
       "4    \\n    You are a helpful assistant. Your job wi...             585   \n",
       "..                                                 ...             ...   \n",
       "674  \\n    You are a helpful assistant. Your job wi...            1647   \n",
       "675  \\n    You are a helpful assistant. Your job wi...            3506   \n",
       "676  \\n    You are a helpful assistant. Your job wi...             684   \n",
       "677  \\n    You are a helpful assistant. Your job wi...            1693   \n",
       "678  \\n    You are a helpful assistant. Your job wi...            1832   \n",
       "\n",
       "     answer_length  \n",
       "0                4  \n",
       "1               17  \n",
       "2                4  \n",
       "3                5  \n",
       "4               17  \n",
       "..             ...  \n",
       "674              4  \n",
       "675             79  \n",
       "676             17  \n",
       "677              3  \n",
       "678              3  \n",
       "\n",
       "[679 rows x 9 columns]"
      ]
     },
     "execution_count": 99,
     "metadata": {},
     "output_type": "execute_result"
    }
   ],
   "source": [
    "df1.reset_index().iloc[:679]"
   ]
  },
  {
   "cell_type": "code",
   "execution_count": 62,
   "metadata": {},
   "outputs": [
    {
     "name": "stdout",
     "output_type": "stream",
     "text": [
      "n_prompt_tokens: 7, n_generated_tokens: 13\n"
     ]
    }
   ],
   "source": [
    "v, h = process_hidden_or_att(generated_ans.attentions, take_only_generated=True, offset=8)"
   ]
  },
  {
   "cell_type": "code",
   "execution_count": 60,
   "metadata": {},
   "outputs": [],
   "source": [
    "last_b = b.copy()"
   ]
  },
  {
   "cell_type": "code",
   "execution_count": 58,
   "metadata": {},
   "outputs": [
    {
     "data": {
      "text/plain": [
       "((42, 16, 7, 20), (42, 16, 13, 20))"
      ]
     },
     "execution_count": 58,
     "metadata": {},
     "output_type": "execute_result"
    }
   ],
   "source": [
    "a.shape, b.shape"
   ]
  },
  {
   "cell_type": "code",
   "execution_count": 42,
   "metadata": {},
   "outputs": [
    {
     "ename": "ValueError",
     "evalue": "all input arrays must have the same shape",
     "output_type": "error",
     "traceback": [
      "\u001b[0;31m---------------------------------------------------------------------------\u001b[0m",
      "\u001b[0;31mValueError\u001b[0m                                Traceback (most recent call last)",
      "Cell \u001b[0;32mIn[42], line 1\u001b[0m\n\u001b[0;32m----> 1\u001b[0m \u001b[43mnp\u001b[49m\u001b[38;5;241;43m.\u001b[39;49m\u001b[43mstack\u001b[49m\u001b[43m(\u001b[49m\u001b[43m[\u001b[49m\u001b[43ma\u001b[49m\u001b[43m,\u001b[49m\u001b[43m \u001b[49m\u001b[43mb\u001b[49m\u001b[43m]\u001b[49m\u001b[43m,\u001b[49m\u001b[43m \u001b[49m\u001b[43maxis\u001b[49m\u001b[38;5;241;43m=\u001b[39;49m\u001b[38;5;241;43m-\u001b[39;49m\u001b[38;5;241;43m2\u001b[39;49m\u001b[43m)\u001b[49m\u001b[38;5;241m.\u001b[39mshape\n",
      "File \u001b[0;32m~/miniconda3/envs/hallu/lib/python3.10/site-packages/numpy/core/shape_base.py:449\u001b[0m, in \u001b[0;36mstack\u001b[0;34m(arrays, axis, out, dtype, casting)\u001b[0m\n\u001b[1;32m    447\u001b[0m shapes \u001b[38;5;241m=\u001b[39m {arr\u001b[38;5;241m.\u001b[39mshape \u001b[38;5;28;01mfor\u001b[39;00m arr \u001b[38;5;129;01min\u001b[39;00m arrays}\n\u001b[1;32m    448\u001b[0m \u001b[38;5;28;01mif\u001b[39;00m \u001b[38;5;28mlen\u001b[39m(shapes) \u001b[38;5;241m!=\u001b[39m \u001b[38;5;241m1\u001b[39m:\n\u001b[0;32m--> 449\u001b[0m     \u001b[38;5;28;01mraise\u001b[39;00m \u001b[38;5;167;01mValueError\u001b[39;00m(\u001b[38;5;124m'\u001b[39m\u001b[38;5;124mall input arrays must have the same shape\u001b[39m\u001b[38;5;124m'\u001b[39m)\n\u001b[1;32m    451\u001b[0m result_ndim \u001b[38;5;241m=\u001b[39m arrays[\u001b[38;5;241m0\u001b[39m]\u001b[38;5;241m.\u001b[39mndim \u001b[38;5;241m+\u001b[39m \u001b[38;5;241m1\u001b[39m\n\u001b[1;32m    452\u001b[0m axis \u001b[38;5;241m=\u001b[39m normalize_axis_index(axis, result_ndim)\n",
      "\u001b[0;31mValueError\u001b[0m: all input arrays must have the same shape"
     ]
    }
   ],
   "source": [
    "np.stack([a, b], axis=-2).shape"
   ]
  },
  {
   "cell_type": "code",
   "execution_count": 28,
   "metadata": {},
   "outputs": [
    {
     "data": {
      "text/plain": [
       "8"
      ]
     },
     "execution_count": 28,
     "metadata": {},
     "output_type": "execute_result"
    }
   ],
   "source": [
    "len(generated_ans.attentions)"
   ]
  },
  {
   "cell_type": "code",
   "execution_count": 29,
   "metadata": {},
   "outputs": [
    {
     "data": {
      "text/plain": [
       "42"
      ]
     },
     "execution_count": 29,
     "metadata": {},
     "output_type": "execute_result"
    }
   ],
   "source": [
    "len(generated_ans.attentions[0])"
   ]
  },
  {
   "cell_type": "code",
   "execution_count": 31,
   "metadata": {},
   "outputs": [
    {
     "data": {
      "text/plain": [
       "['Given the context `CONTEXT` and the query `QUERY` below, please provide an answer `ANSWER` to the question. \\n    `CONTEXT`: `Dokument [1]:` Wacław Stanisław Sitkowski (ur. 12 lutego 1924 w Warszawie, zm. 1 kwietnia 2010 tamże) – polski lekarz, kardiochirurg, profesor nauk medycznych, powstaniec warszawski. Jeden z pionierów polskiej kardiochirurgii, nauczyciel polskich kardiochirurgów, w tym Zbigniewa Religi. \\n\\n    `QUERY`: Jak miał na imię polski kardiochirurg, profesor Religa?\\n\\n    `ANSWER`:\\n    Wacław \\n\\n\\n']"
      ]
     },
     "execution_count": 31,
     "metadata": {},
     "output_type": "execute_result"
    }
   ],
   "source": [
    "tokenizer.batch_decode(generated_ans.sequences, skip_special_tokens=True)"
   ]
  },
  {
   "cell_type": "code",
   "execution_count": 32,
   "metadata": {},
   "outputs": [
    {
     "name": "stdout",
     "output_type": "stream",
     "text": [
      "<bos>Given the context `CONTEXT` and the query `QUERY` below, please provide an answer `ANSWER` to the question. \n",
      "    `CONTEXT`: `Dokument [1]:` Wacław Stanisław Sitkowski (ur. 12 lutego 1924 w Warszawie, zm. 1 kwietnia 2010 tamże) – polski lekarz, kardiochirurg, profesor nauk medycznych, powstaniec warszawski. Jeden z pionierów polskiej kardiochirurgii, nauczyciel polskich kardiochirurgów, w tym Zbigniewa Religi. \n",
      "\n",
      "    `QUERY`: Jak miał na imię polski kardiochirurg, profesor Religa?\n",
      "\n",
      "    `ANSWER`:\n",
      "    Wacław \n",
      "\n",
      "\n",
      "<end_of_turn><eos>\n"
     ]
    }
   ],
   "source": [
    "print(tokenizer.decode(generated_ans.sequences[0]).strip())"
   ]
  },
  {
   "cell_type": "code",
   "execution_count": 33,
   "metadata": {},
   "outputs": [
    {
     "name": "stdout",
     "output_type": "stream",
     "text": [
      "1. <bos>\n",
      "2. Given\n",
      "3. ▁the\n",
      "4. ▁context\n",
      "5. ▁`\n",
      "6. CONTEXT\n",
      "7. `\n",
      "8. ▁and\n",
      "9. ▁the\n",
      "10. ▁query\n",
      "11. ▁`\n",
      "12. QUERY\n",
      "13. `\n",
      "14. ▁below\n",
      "15. ,\n",
      "16. ▁please\n",
      "17. ▁provide\n",
      "18. ▁an\n",
      "19. ▁answer\n",
      "20. ▁`\n",
      "21. ANSWER\n",
      "22. `\n",
      "23. ▁to\n",
      "24. ▁the\n",
      "25. ▁question\n",
      "26. .\n",
      "27. ▁\n",
      "28. \n",
      "\n",
      "29. ▁▁▁▁\n",
      "30. `\n",
      "31. CONTEXT\n",
      "32. `:\n",
      "33. ▁`\n",
      "34. Dokument\n",
      "35. ▁[\n",
      "36. 1\n",
      "37. ]:\n",
      "38. `\n",
      "39. ▁W\n",
      "40. ac\n",
      "41. ław\n",
      "42. ▁Stanisław\n",
      "43. ▁Sit\n",
      "44. kowski\n",
      "45. ▁(\n",
      "46. ur\n",
      "47. .\n",
      "48. ▁\n",
      "49. 1\n",
      "50. 2\n",
      "51. ▁lutego\n",
      "52. ▁\n",
      "53. 1\n",
      "54. 9\n",
      "55. 2\n",
      "56. 4\n",
      "57. ▁w\n",
      "58. ▁Warszawie\n",
      "59. ,\n",
      "60. ▁zm\n",
      "61. .\n",
      "62. ▁\n",
      "63. 1\n",
      "64. ▁kwietnia\n",
      "65. ▁\n",
      "66. 2\n",
      "67. 0\n",
      "68. 1\n",
      "69. 0\n",
      "70. ▁tam\n",
      "71. że\n",
      "72. )\n",
      "73. ▁–\n",
      "74. ▁polski\n",
      "75. ▁le\n",
      "76. karz\n",
      "77. ,\n",
      "78. ▁kard\n",
      "79. io\n",
      "80. chir\n",
      "81. urg\n",
      "82. ,\n",
      "83. ▁profesor\n",
      "84. ▁nau\n",
      "85. k\n",
      "86. ▁medy\n",
      "87. cznych\n",
      "88. ,\n",
      "89. ▁powst\n",
      "90. ani\n",
      "91. ec\n",
      "92. ▁warszaw\n",
      "93. ski\n",
      "94. .\n",
      "95. ▁Jeden\n",
      "96. ▁z\n",
      "97. ▁pion\n",
      "98. ier\n",
      "99. ów\n",
      "100. ▁polskiej\n",
      "101. ▁kard\n",
      "102. io\n",
      "103. chir\n",
      "104. ur\n",
      "105. gii\n",
      "106. ,\n",
      "107. ▁nauczy\n",
      "108. ciel\n",
      "109. ▁polskich\n",
      "110. ▁kard\n",
      "111. io\n",
      "112. chir\n",
      "113. urg\n",
      "114. ów\n",
      "115. ,\n",
      "116. ▁w\n",
      "117. ▁tym\n",
      "118. ▁Z\n",
      "119. bigniew\n",
      "120. a\n",
      "121. ▁Relig\n",
      "122. i\n",
      "123. .\n",
      "124. ▁\n",
      "125. \n",
      "\n",
      "\n",
      "126. ▁▁▁▁\n",
      "127. `\n",
      "128. QUERY\n",
      "129. `:\n",
      "130. ▁Jak\n",
      "131. ▁miał\n",
      "132. ▁na\n",
      "133. ▁im\n",
      "134. ię\n",
      "135. ▁polski\n",
      "136. ▁kard\n",
      "137. io\n",
      "138. chir\n",
      "139. urg\n",
      "140. ,\n",
      "141. ▁profesor\n",
      "142. ▁Re\n",
      "143. liga\n",
      "144. ?\n",
      "145. \n",
      "\n",
      "\n",
      "146. ▁▁▁▁\n",
      "147. `\n",
      "148. ANSWER\n",
      "149. `:\n",
      "150. \n",
      "\n",
      "151. ▁▁▁▁\n",
      "152. W\n",
      "153. ac\n",
      "154. ław\n",
      "155. ▁\n",
      "156. \n",
      "\n",
      "\n",
      "\n",
      "157. <end_of_turn>\n",
      "158. <eos>\n"
     ]
    }
   ],
   "source": [
    "for i, tok in enumerate(generated_ans.sequences[0], start=1):\n",
    "    print(f'{i}. {reversed_tokenizer[tok.item()]}')"
   ]
  },
  {
   "cell_type": "code",
   "execution_count": 34,
   "metadata": {},
   "outputs": [
    {
     "data": {
      "text/markdown": [
       "### Number of layers: 42"
      ],
      "text/plain": [
       "<IPython.core.display.Markdown object>"
      ]
     },
     "metadata": {},
     "output_type": "display_data"
    },
    {
     "data": {
      "text/markdown": [
       "### Number of heads: 16"
      ],
      "text/plain": [
       "<IPython.core.display.Markdown object>"
      ]
     },
     "metadata": {},
     "output_type": "display_data"
    }
   ],
   "source": [
    "display(Markdown(f\"### Number of layers: {model.config.num_hidden_layers}\"))\n",
    "display(Markdown(f\"### Number of heads: {model.config.num_attention_heads}\"))"
   ]
  },
  {
   "cell_type": "markdown",
   "metadata": {},
   "source": [
    "### Important to offload tensors to `cpu` when doing research - so much faster"
   ]
  },
  {
   "cell_type": "code",
   "execution_count": 35,
   "metadata": {},
   "outputs": [
    {
     "data": {
      "text/plain": [
       "tensor([[     2,  24985,    573,   4807,   4103,  71157, 235376,    578,    573,\n",
       "           8164,   4103,  63741, 235376,   3582, 235269,   3743,   3658,    671,\n",
       "           3448,   4103,  72601, 235376,    577,    573,   2872, 235265, 235248,\n",
       "            108,    141, 235376,  71157,  74412,   4103, 132651,    892, 235274,\n",
       "           8254, 235376,    647,    550,  32276, 171661,  30345,  74703,    591,\n",
       "            525, 235265, 235248, 235274, 235284, 124194, 235248, 235274, 235315,\n",
       "         235284, 235310,    513, 155044, 235269,  26385, 235265, 235248, 235274,\n",
       "         129957, 235248, 235284, 235276, 235274, 235276,  10885,   8013, 235275,\n",
       "           1157, 126020,    709, 106651, 235269,  85815,    536,  57325,   3457,\n",
       "         235269,  55938,  18975, 235273, 109887,  78130, 235269, 147047,   3746,\n",
       "            546, 232747,  13750, 235265, 164582,    868,  75362,   1129,   4712,\n",
       "         204357,  85815,    536,  57325,    525,  87226, 235269, 137135,  88323,\n",
       "         181725,  85815,    536,  57325,   3457,   4712, 235269,    513,  24886,\n",
       "           1271, 190842, 235250,  19101, 235252, 235265, 235248,    109,    141,\n",
       "         235376,  63741,  74412,  17597, 101794,   1584,   1485,  44602, 126020,\n",
       "          85815,    536,  57325,   3457, 235269,  55938,   1027,  19331, 235336,\n",
       "            109,    141, 235376,  72601,  74412,    108,    141, 235325,    550,\n",
       "          32276, 235248,    110,    107,      1]])"
      ]
     },
     "execution_count": 35,
     "metadata": {},
     "output_type": "execute_result"
    }
   ],
   "source": [
    "generated_ans.sequences.to('cpu')"
   ]
  },
  {
   "cell_type": "markdown",
   "metadata": {},
   "source": [
    "### How many tokens for each example were produced"
   ]
  },
  {
   "cell_type": "code",
   "execution_count": 36,
   "metadata": {},
   "outputs": [],
   "source": [
    "df['tokens'] = df['gemma-2-9b-it-bnb-4bit'].apply(lambda x: len(tokenizer(x)['input_ids']))"
   ]
  },
  {
   "cell_type": "code",
   "execution_count": 37,
   "metadata": {},
   "outputs": [
    {
     "data": {
      "text/plain": [
       "0.250      4.000\n",
       "0.500      7.000\n",
       "0.750     18.000\n",
       "0.900     31.000\n",
       "0.950     47.000\n",
       "0.990    126.910\n",
       "0.999    883.024\n",
       "Name: tokens, dtype: float64"
      ]
     },
     "execution_count": 37,
     "metadata": {},
     "output_type": "execute_result"
    }
   ],
   "source": [
    "df['tokens'].quantile([0.25, 0.5, 0.75, 0.9, 0.95, 0.99, 0.999])"
   ]
  },
  {
   "cell_type": "code",
   "execution_count": 38,
   "metadata": {},
   "outputs": [
    {
     "data": {
      "text/plain": [
       "3909    1025\n",
       "1974    1022\n",
       "3571    1009\n",
       "1640     986\n",
       "3415     890\n",
       "3979     826\n",
       "3973     808\n",
       "1976     640\n",
       "763      444\n",
       "3887     312\n",
       "3780     288\n",
       "1909     278\n",
       "2644     269\n",
       "1484     267\n",
       "64       265\n",
       "314      262\n",
       "2407     262\n",
       "27       260\n",
       "1298     259\n",
       "30       236\n",
       "543      235\n",
       "1843     206\n",
       "3072     190\n",
       "315      182\n",
       "1074     179\n",
       "Name: tokens, dtype: int64"
      ]
     },
     "execution_count": 38,
     "metadata": {},
     "output_type": "execute_result"
    }
   ],
   "source": [
    "df['tokens'].nlargest(25)"
   ]
  },
  {
   "cell_type": "code",
   "execution_count": 39,
   "metadata": {},
   "outputs": [
    {
     "data": {
      "text/plain": [
       "158"
      ]
     },
     "execution_count": 39,
     "metadata": {},
     "output_type": "execute_result"
    }
   ],
   "source": [
    "len(generated_ans.sequences[0])"
   ]
  },
  {
   "cell_type": "markdown",
   "metadata": {},
   "source": [
    "### I compared versions using ```python use_cache=True``` with version without it and for cached version for each generated token vector is produced (only for first one it is a matrix) - but here there are also positions which are used for future cache - so for 50 tokens it is not **n^2 - 50 x 50** but **50 x `max_tokens`**. And not generated tokens but all of them (`context length`) of example. So if there is 150 tokens in prompt and 11 tokens are generated, but you set `python max_new_tokens = 200` you will get for first token:\n",
    "```python\n",
    "attensions[0][0].squeeze(0)[0].shape\n",
    "torch.Size([150, 350])\n",
    "```\n",
    "### And for next tokens\n",
    "```python\n",
    "attensions[1][0].squeeze(0)[0].shape\n",
    "torch.Size([1, 350])\n",
    "```"
   ]
  },
  {
   "cell_type": "code",
   "execution_count": 40,
   "metadata": {},
   "outputs": [],
   "source": [
    "attensions = generated_ans.attentions\n",
    "attensions = [tuple(att.cpu().squeeze(-1) for att in tok) for tok in attensions]"
   ]
  },
  {
   "cell_type": "code",
   "execution_count": 41,
   "metadata": {},
   "outputs": [
    {
     "data": {
      "text/plain": [
       "torch.Size([150, 350])"
      ]
     },
     "execution_count": 41,
     "metadata": {},
     "output_type": "execute_result"
    }
   ],
   "source": [
    "attensions[0][0].squeeze(0)[0].shape"
   ]
  },
  {
   "cell_type": "code",
   "execution_count": 43,
   "metadata": {},
   "outputs": [
    {
     "data": {
      "text/plain": [
       "(torch.Size([1, 16, 150, 350]),\n",
       " torch.Size([1, 16, 150, 350]),\n",
       " torch.Size([1, 16, 150, 350]))"
      ]
     },
     "execution_count": 43,
     "metadata": {},
     "output_type": "execute_result"
    }
   ],
   "source": [
    "attensions[0][0].shape, attensions[0][1].shape, attensions[0][2].shape"
   ]
  },
  {
   "cell_type": "code",
   "execution_count": 29,
   "metadata": {},
   "outputs": [
    {
     "data": {
      "text/plain": [
       "torch.Size([1, 350])"
      ]
     },
     "execution_count": 29,
     "metadata": {},
     "output_type": "execute_result"
    }
   ],
   "source": [
    "attensions[1][0].squeeze(0)[0].shape"
   ]
  },
  {
   "cell_type": "markdown",
   "metadata": {},
   "source": [
    "### So as you can see `torch` prepare vec for cache (these 200 additional values), but attention is in `prompt_length` + `num_generated_tokens`:\n",
    "\n"
   ]
  },
  {
   "cell_type": "code",
   "execution_count": 56,
   "metadata": {},
   "outputs": [
    {
     "data": {
      "text/plain": [
       "150"
      ]
     },
     "execution_count": 56,
     "metadata": {},
     "output_type": "execute_result"
    }
   ],
   "source": [
    "input_len = len(inputs['input_ids'][0])\n",
    "input_len"
   ]
  },
  {
   "cell_type": "code",
   "execution_count": 58,
   "metadata": {},
   "outputs": [
    {
     "data": {
      "text/plain": [
       "161"
      ]
     },
     "execution_count": 58,
     "metadata": {},
     "output_type": "execute_result"
    }
   ],
   "source": [
    "output_len = len(generated_ans.sequences[0])\n",
    "output_len"
   ]
  },
  {
   "cell_type": "code",
   "execution_count": 59,
   "metadata": {},
   "outputs": [
    {
     "data": {
      "text/plain": [
       "torch.Size([1, 350])"
      ]
     },
     "execution_count": 59,
     "metadata": {},
     "output_type": "execute_result"
    }
   ],
   "source": [
    "attensions[-1][0].squeeze(0)[0].shape"
   ]
  },
  {
   "cell_type": "markdown",
   "metadata": {},
   "source": [
    "### Values for the remaining positions are `zeros`:"
   ]
  },
  {
   "cell_type": "code",
   "execution_count": 67,
   "metadata": {},
   "outputs": [
    {
     "data": {
      "text/plain": [
       "tensor([0., 0., 0., 0., 0., 0., 0., 0., 0., 0., 0., 0., 0., 0., 0., 0., 0., 0., 0., 0., 0., 0., 0., 0.,\n",
       "        0., 0., 0., 0., 0., 0., 0., 0., 0., 0., 0., 0., 0., 0., 0., 0., 0., 0., 0., 0., 0., 0., 0., 0.,\n",
       "        0., 0., 0., 0., 0., 0., 0., 0., 0., 0., 0., 0., 0., 0., 0., 0., 0., 0., 0., 0., 0., 0., 0., 0.,\n",
       "        0., 0., 0., 0., 0., 0., 0., 0., 0., 0., 0., 0., 0., 0., 0., 0., 0., 0., 0., 0., 0., 0., 0., 0.,\n",
       "        0., 0., 0., 0., 0., 0., 0., 0., 0., 0., 0., 0., 0., 0., 0., 0., 0., 0., 0., 0., 0., 0., 0., 0.,\n",
       "        0., 0., 0., 0., 0., 0., 0., 0., 0., 0., 0., 0., 0., 0., 0., 0., 0., 0., 0., 0., 0., 0., 0., 0.,\n",
       "        0., 0., 0., 0., 0., 0., 0., 0., 0., 0., 0., 0., 0., 0., 0., 0., 0., 0., 0., 0., 0., 0., 0., 0.,\n",
       "        0., 0., 0., 0., 0., 0., 0., 0., 0., 0., 0., 0., 0., 0., 0., 0., 0., 0., 0., 0., 0., 0.],\n",
       "       dtype=torch.float16)"
      ]
     },
     "execution_count": 67,
     "metadata": {},
     "output_type": "execute_result"
    }
   ],
   "source": [
    "attensions[-1][0].squeeze(0)[0].squeeze(0)[output_len - 1:]"
   ]
  },
  {
   "cell_type": "code",
   "execution_count": null,
   "metadata": {},
   "outputs": [],
   "source": [
    "first_token_attentions = torch.stack([att for att in attensions[0]]).squeeze(1)\n",
    "last_token_attentions = torch.stack([att for att in attensions[-1]]).squeeze(1)"
   ]
  },
  {
   "cell_type": "markdown",
   "metadata": {},
   "source": [
    "### Here is how it looked like for the version without cache (*26 layers and 8 heads for gemma 2 2b*)\n",
    "```python\n",
    "\n",
    "first_token_attentions.shape, last_token_attentions.shape\n",
    "(torch.Size([26, 8, 150, 150]), torch.Size([26, 8, 169, 169]))\n",
    "```"
   ]
  },
  {
   "cell_type": "markdown",
   "metadata": {},
   "source": [
    "### I will show single matrix with max reduction on layers and heads"
   ]
  },
  {
   "cell_type": "code",
   "execution_count": null,
   "metadata": {},
   "outputs": [],
   "source": [
    "final_att_matrix = np.zeros(shape=(len(attensions), last_token_attentions.shape[-1]))\n",
    "\n",
    "for i, token_attensions in enumerate(attensions):\n",
    "\n",
    "    token_last_att = torch.stack([att for att in token_attensions]).squeeze(1)\n",
    "    token_last_att = token_last_att.numpy().max(axis=(0, 1))\n",
    "\n",
    "    final_att_matrix[i, :len(token_last_att)] = token_last_att[-1, :]"
   ]
  },
  {
   "cell_type": "code",
   "execution_count": 177,
   "metadata": {},
   "outputs": [
    {
     "data": {
      "text/plain": [
       "(20, 169)"
      ]
     },
     "execution_count": 177,
     "metadata": {},
     "output_type": "execute_result"
    }
   ],
   "source": [
    "final_att_matrix.shape"
   ]
  },
  {
   "cell_type": "code",
   "execution_count": 184,
   "metadata": {},
   "outputs": [],
   "source": [
    "ticks = [reversed_tokenizer[tok.item()] for tok in generated_ans.sequences[0]][:-1]"
   ]
  },
  {
   "cell_type": "code",
   "execution_count": 208,
   "metadata": {},
   "outputs": [],
   "source": [
    "input_len = len(inputs[\"input_ids\"][0])\n",
    "first_gen_token_idx = input_len"
   ]
  },
  {
   "cell_type": "code",
   "execution_count": 209,
   "metadata": {},
   "outputs": [
    {
     "data": {
      "image/png": "[encoded data removed]",
      "text/plain": [
       "<Figure size 4000x1500 with 1 Axes>"
      ]
     },
     "metadata": {},
     "output_type": "display_data"
    }
   ],
   "source": [
    "fig, ax = plt.subplots(figsize=(40, 15))\n",
    "\n",
    "sns.heatmap(\n",
    "    final_att_matrix[1:8, :],\n",
    "    cmap=\"viridis\",\n",
    "    annot=True,\n",
    "    fmt=\".1f\",\n",
    "    annot_kws={\"size\": 8},\n",
    "    cbar=False,\n",
    "    square=False,\n",
    "    mask=final_att_matrix[1:8, :] <= 0.1,\n",
    "    vmin=0,\n",
    "    vmax=1,\n",
    "    ax=ax,\n",
    "    # xticklabels=[f'tok_{i}'],\n",
    "    yticklabels=ticks[first_gen_token_idx: first_gen_token_idx + 7],\n",
    "    xticklabels=ticks[:first_gen_token_idx + 7],\n",
    ")\n",
    "\n",
    "plt.show()"
   ]
  },
  {
   "cell_type": "markdown",
   "metadata": {},
   "source": [
    "### In the plot above you can see attensions aggregated by `max()` function on all layers and all heads. I only show values above `0.1`. As you can see the hallucination here has not been the result of putting to little attension to `context` tokens, but putting attension to `inpropriate tokens in context` - so here simply modyfing context tokens attenion would not work. The answer was at the end of context which has been `noised` with info about another person. Also it shows why authors of `Lookback Lens` dit not simply take max `lookback ratio` and put them into classifier. And also look how this answer is completly ridiculous - the query is about the **first name**, but in the response we are given **first name** and **last name** ! Aside from the fact that it's a different person."
   ]
  },
  {
   "cell_type": "markdown",
   "metadata": {},
   "source": [
    "## Conclusions"
   ]
  },
  {
   "cell_type": "markdown",
   "metadata": {},
   "source": [
    "### Good direction is to check how does attenions and hidden states differentiate between proper and halucinated examples."
   ]
  },
  {
   "cell_type": "markdown",
   "metadata": {},
   "source": []
  }
 ],
 "metadata": {
  "kaggle": {
   "accelerator": "none",
   "dataSources": [],
   "dockerImageVersionId": 30761,
   "isGpuEnabled": false,
   "isInternetEnabled": true,
   "language": "python",
   "sourceType": "notebook"
  },
  "kernelspec": {
   "display_name": "hallu",
   "language": "python",
   "name": "python3"
  },
  "language_info": {
   "codemirror_mode": {
    "name": "ipython",
    "version": 3
   },
   "file_extension": ".py",
   "mimetype": "text/x-python",
   "name": "python",
   "nbconvert_exporter": "python",
   "pygments_lexer": "ipython3",
   "version": "3.10.11"
  }
 },
 "nbformat": 4,
 "nbformat_minor": 4
}
