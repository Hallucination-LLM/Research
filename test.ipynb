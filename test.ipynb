{
 "cells": [
  {
   "cell_type": "code",
   "execution_count": 73,
   "metadata": {},
   "outputs": [],
   "source": [
    "import pandas as pd"
   ]
  },
  {
   "cell_type": "code",
   "execution_count": 74,
   "metadata": {},
   "outputs": [],
   "source": [
    "df = pd.read_csv('data/test_gemma_resp - test_gemma_resp.csv')"
   ]
  },
  {
   "cell_type": "code",
   "execution_count": 75,
   "metadata": {},
   "outputs": [
    {
     "data": {
      "text/plain": [
       "(4110, 29)"
      ]
     },
     "execution_count": 75,
     "metadata": {},
     "output_type": "execute_result"
    }
   ],
   "source": [
    "df.shape"
   ]
  },
  {
   "cell_type": "code",
   "execution_count": 76,
   "metadata": {},
   "outputs": [
    {
     "data": {
      "text/plain": [
       "Index(['dataset', 'question_id', 'question', 'context', 'answer', 'formatted',\n",
       "       'tokenized', 'gemma-2-9b-it-bnb-4bit_finetuned_cuda4',\n",
       "       'gemma-2-9b-it-bnb-4bit_finetuned_cuda1',\n",
       "       'gemma-2-9b-it-bnb-4bit_finetuned_cuda2',\n",
       "       'gemma-2-9b-it-bnb-4bit_finetuned_cuda0', 'gemma-2-9b-it-bnb-4bit',\n",
       "       'gemma-2-9b-it-bnb-4bit_few_shot', 'base_&_few_shot',\n",
       "       'gemma-2-9b-it-bnb-4bit_few_shot__v1', 'gemma-2-9b-it-bnb-4bit__v1',\n",
       "       'gemma-2-9b-it-bnb-4bit_few_shot__v1.1', 'gemma-2-9b-it-bnb-4bit__v1.1',\n",
       "       'cuda0_&_cuda1', 'gemma-2-9b-it-bnb-4bit_finetuned_cuda0__v1',\n",
       "       'gemma-2-9b-it-bnb-4bit_finetuned_cuda1__v1',\n",
       "       'gemma-2-9b-it-bnb-4bit_few_shot__v1.2', 'gemma-2-9b-it-bnb-4bit__v1.2',\n",
       "       'cuda2_&_base', 'gemma-2-9b-it-bnb-4bit_finetuned_cuda2__v1',\n",
       "       'gemma-2-9b-it-bnb-4bit__v2', 'cuda2_&_cuda4',\n",
       "       'gemma-2-9b-it-bnb-4bit_finetuned_cuda2__v2',\n",
       "       'gemma-2-9b-it-bnb-4bit_finetuned_cuda4__v1'],\n",
       "      dtype='object')"
      ]
     },
     "execution_count": 76,
     "metadata": {},
     "output_type": "execute_result"
    }
   ],
   "source": [
    "df.columns"
   ]
  },
  {
   "cell_type": "code",
   "execution_count": 77,
   "metadata": {},
   "outputs": [],
   "source": [
    "df['idx'] = df.index"
   ]
  },
  {
   "cell_type": "code",
   "execution_count": 78,
   "metadata": {},
   "outputs": [],
   "source": [
    "df[:2].to_csv('data/golden_data.csv', index=False)"
   ]
  },
  {
   "cell_type": "code",
   "execution_count": 79,
   "metadata": {},
   "outputs": [],
   "source": [
    "df_2 = pd.read_csv('data/golden_data.csv')\n",
    "\n",
    "df_2.at[1, 'answer'] = 'Answer is 42'\n",
    "\n",
    "df_2 = df_2[['idx','question', 'answer']]\n",
    "\n",
    "df_2.to_csv('data/response.csv', index=False)"
   ]
  },
  {
   "cell_type": "code",
   "execution_count": 80,
   "metadata": {},
   "outputs": [
    {
     "data": {
      "text/html": [
       "<div>\n",
       "<style scoped>\n",
       "    .dataframe tbody tr th:only-of-type {\n",
       "        vertical-align: middle;\n",
       "    }\n",
       "\n",
       "    .dataframe tbody tr th {\n",
       "        vertical-align: top;\n",
       "    }\n",
       "\n",
       "    .dataframe thead th {\n",
       "        text-align: right;\n",
       "    }\n",
       "</style>\n",
       "<table border=\"1\" class=\"dataframe\">\n",
       "  <thead>\n",
       "    <tr style=\"text-align: right;\">\n",
       "      <th></th>\n",
       "      <th>index</th>\n",
       "      <th>document</th>\n",
       "      <th>ground_truth</th>\n",
       "      <th>response</th>\n",
       "      <th>decision</th>\n",
       "      <th>gpt4_explanation</th>\n",
       "      <th>problematic_spans</th>\n",
       "      <th>cost</th>\n",
       "      <th>prompt</th>\n",
       "    </tr>\n",
       "  </thead>\n",
       "  <tbody>\n",
       "    <tr>\n",
       "      <th>0</th>\n",
       "      <td>0</td>\n",
       "      <td>#Document#: `Dokument [ \"ProceduraMZS_Monitoro...</td>\n",
       "      <td>Dokument **ProceduraMZS_Monitorowanie_SOZ_i_MO...</td>\n",
       "      <td>Dokument **ProceduraMZS_Monitorowanie_SOZ_i_M...</td>\n",
       "      <td>True</td>\n",
       "      <td>The proposed answer claims that the document \"...</td>\n",
       "      <td>[]</td>\n",
       "      <td>0.02632</td>\n",
       "      <td>You will be provided with a document and a pro...</td>\n",
       "    </tr>\n",
       "    <tr>\n",
       "      <th>1</th>\n",
       "      <td>1</td>\n",
       "      <td>#Document#: `Dokument [ \"ProceduraMZS_Monitoro...</td>\n",
       "      <td>Nie mogę udzielić odpowiedzi na to pytanie na ...</td>\n",
       "      <td>Answer is 42</td>\n",
       "      <td>False</td>\n",
       "      <td>The provided document includes various procedu...</td>\n",
       "      <td>[Answer is 42]</td>\n",
       "      <td>0.02421</td>\n",
       "      <td>You will be provided with a document and a pro...</td>\n",
       "    </tr>\n",
       "  </tbody>\n",
       "</table>\n",
       "</div>"
      ],
      "text/plain": [
       "   index                                           document  \\\n",
       "0      0  #Document#: `Dokument [ \"ProceduraMZS_Monitoro...   \n",
       "1      1  #Document#: `Dokument [ \"ProceduraMZS_Monitoro...   \n",
       "\n",
       "                                        ground_truth  \\\n",
       "0  Dokument **ProceduraMZS_Monitorowanie_SOZ_i_MO...   \n",
       "1  Nie mogę udzielić odpowiedzi na to pytanie na ...   \n",
       "\n",
       "                                            response  decision  \\\n",
       "0   Dokument **ProceduraMZS_Monitorowanie_SOZ_i_M...      True   \n",
       "1                                       Answer is 42     False   \n",
       "\n",
       "                                    gpt4_explanation problematic_spans  \\\n",
       "0  The proposed answer claims that the document \"...                []   \n",
       "1  The provided document includes various procedu...    [Answer is 42]   \n",
       "\n",
       "      cost                                             prompt  \n",
       "0  0.02632  You will be provided with a document and a pro...  \n",
       "1  0.02421  You will be provided with a document and a pro...  "
      ]
     },
     "execution_count": 80,
     "metadata": {},
     "output_type": "execute_result"
    }
   ],
   "source": [
    "DATA_FILE = 'data/eval.jsonl'\n",
    "\n",
    "#Read the data\n",
    "\n",
    "import json\n",
    "import pandas as pd\n",
    "import numpy as np\n",
    "\n",
    "data = []\n",
    "with open(DATA_FILE) as f:\n",
    "    for line in f:\n",
    "        data.append(json.loads(line))\n",
    "    \n",
    "df = pd.DataFrame(data)\n",
    "df.head()"
   ]
  },
  {
   "cell_type": "code",
   "execution_count": 81,
   "metadata": {},
   "outputs": [
    {
     "data": {
      "text/html": [
       "<div>\n",
       "<style scoped>\n",
       "    .dataframe tbody tr th:only-of-type {\n",
       "        vertical-align: middle;\n",
       "    }\n",
       "\n",
       "    .dataframe tbody tr th {\n",
       "        vertical-align: top;\n",
       "    }\n",
       "\n",
       "    .dataframe thead th {\n",
       "        text-align: right;\n",
       "    }\n",
       "</style>\n",
       "<table border=\"1\" class=\"dataframe\">\n",
       "  <thead>\n",
       "    <tr style=\"text-align: right;\">\n",
       "      <th></th>\n",
       "      <th>index</th>\n",
       "      <th>document</th>\n",
       "      <th>ground_truth</th>\n",
       "      <th>response</th>\n",
       "      <th>decision</th>\n",
       "      <th>gpt4_explanation</th>\n",
       "      <th>problematic_spans</th>\n",
       "      <th>cost</th>\n",
       "      <th>prompt</th>\n",
       "    </tr>\n",
       "  </thead>\n",
       "  <tbody>\n",
       "    <tr>\n",
       "      <th>0</th>\n",
       "      <td>0</td>\n",
       "      <td>#Document#: `Dokument [ \"ProceduraMZS_Monitoro...</td>\n",
       "      <td>Dokument **ProceduraMZS_Monitorowanie_SOZ_i_MO...</td>\n",
       "      <td>Dokument **ProceduraMZS_Monitorowanie_SOZ_i_M...</td>\n",
       "      <td>YES</td>\n",
       "      <td>The proposed answer quotes the exact content f...</td>\n",
       "      <td>[]</td>\n",
       "      <td>0.025075</td>\n",
       "      <td>You will be provided with a document and a pro...</td>\n",
       "    </tr>\n",
       "    <tr>\n",
       "      <th>1</th>\n",
       "      <td>1</td>\n",
       "      <td>#Document#: `Dokument [ \"ProceduraMZS_Monitoro...</td>\n",
       "      <td>Nie mogę udzielić odpowiedzi na to pytanie na ...</td>\n",
       "      <td>Answer is 42</td>\n",
       "      <td>NO</td>\n",
       "      <td>The proposed answer, 'Answer is 42', is comple...</td>\n",
       "      <td>[Answer is 42]</td>\n",
       "      <td>0.023985</td>\n",
       "      <td>You will be provided with a document and a pro...</td>\n",
       "    </tr>\n",
       "  </tbody>\n",
       "</table>\n",
       "</div>"
      ],
      "text/plain": [
       "   index                                           document  \\\n",
       "0      0  #Document#: `Dokument [ \"ProceduraMZS_Monitoro...   \n",
       "1      1  #Document#: `Dokument [ \"ProceduraMZS_Monitoro...   \n",
       "\n",
       "                                        ground_truth  \\\n",
       "0  Dokument **ProceduraMZS_Monitorowanie_SOZ_i_MO...   \n",
       "1  Nie mogę udzielić odpowiedzi na to pytanie na ...   \n",
       "\n",
       "                                            response decision  \\\n",
       "0   Dokument **ProceduraMZS_Monitorowanie_SOZ_i_M...      YES   \n",
       "1                                       Answer is 42       NO   \n",
       "\n",
       "                                    gpt4_explanation problematic_spans  \\\n",
       "0  The proposed answer quotes the exact content f...                []   \n",
       "1  The proposed answer, 'Answer is 42', is comple...    [Answer is 42]   \n",
       "\n",
       "       cost                                             prompt  \n",
       "0  0.025075  You will be provided with a document and a pro...  \n",
       "1  0.023985  You will be provided with a document and a pro...  "
      ]
     },
     "execution_count": 81,
     "metadata": {},
     "output_type": "execute_result"
    }
   ],
   "source": [
    "DATA_FILE = 'data/eval_pydantic.jsonl'\n",
    "\n",
    "#Read the data\n",
    "\n",
    "import json\n",
    "import pandas as pd\n",
    "import numpy as np\n",
    "\n",
    "data = []\n",
    "with open(DATA_FILE) as f:\n",
    "    for line in f:\n",
    "        data.append(json.loads(line))\n",
    "    \n",
    "df = pd.DataFrame(data)\n",
    "df.head()"
   ]
  },
  {
   "cell_type": "code",
   "execution_count": null,
   "metadata": {},
   "outputs": [],
   "source": []
  }
 ],
 "metadata": {
  "kernelspec": {
   "display_name": "golem-ner",
   "language": "python",
   "name": "python3"
  },
  "language_info": {
   "codemirror_mode": {
    "name": "ipython",
    "version": 3
   },
   "file_extension": ".py",
   "mimetype": "text/x-python",
   "name": "python",
   "nbconvert_exporter": "python",
   "pygments_lexer": "ipython3",
   "version": "3.10.11"
  }
 },
 "nbformat": 4,
 "nbformat_minor": 2
}
